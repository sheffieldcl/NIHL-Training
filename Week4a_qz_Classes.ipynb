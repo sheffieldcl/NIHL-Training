{
  "nbformat": 4,
  "nbformat_minor": 0,
  "metadata": {
    "colab": {
      "provenance": [],
      "include_colab_link": true
    },
    "kernelspec": {
      "name": "python3",
      "display_name": "Python 3"
    },
    "language_info": {
      "name": "python"
    }
  },
  "cells": [
    {
      "cell_type": "markdown",
      "metadata": {
        "id": "view-in-github",
        "colab_type": "text"
      },
      "source": [
        "<a href=\"https://colab.research.google.com/github/sheffieldcl/NIHL-Training/blob/Python-Training/Week4a_qz_Classes.ipynb\" target=\"_parent\"><img src=\"https://colab.research.google.com/assets/colab-badge.svg\" alt=\"Open In Colab\"/></a>"
      ]
    },
    {
      "cell_type": "markdown",
      "source": [
        "# Introduction to Classes and Objects in Python\n",
        "\n",
        "In this tutorial, we'll explore how to define classes, create instances, and use inheritance and polymorphism. Object-oriented programming (OOP) allows developers to organize their code more effectively and can help in managing complex software design.\n"
      ],
      "metadata": {
        "id": "8GtAVlGSBlVU"
      }
    },
    {
      "cell_type": "code",
      "execution_count": null,
      "metadata": {
        "colab": {
          "base_uri": "https://localhost:8080/"
        },
        "id": "JSJW62rCBjrX",
        "outputId": "7d0256d8-ef52-49fe-cc00-4ab0ed0b3986"
      },
      "outputs": [
        {
          "output_type": "stream",
          "name": "stdout",
          "text": [
            "Rex says woof!\n"
          ]
        }
      ],
      "source": [
        "# Python Classes and Instances\n",
        "class Dog:\n",
        "    def __init__(self, name, age):\n",
        "        self.name = name\n",
        "        self.age = age\n",
        "\n",
        "    def bark(self):\n",
        "        return f\"{self.name} says woof!\"\n",
        "\n",
        "# Creating an instance of Dog\n",
        "my_dog = Dog(\"Rex\", 5)\n",
        "print(my_dog.bark())\n",
        "\n",
        "# Output: Rex says woof!\n"
      ]
    },
    {
      "cell_type": "markdown",
      "source": [
        "A class in Python can be thought of as a blueprint for creating objects (a particular data structure), providing initial values for state (member variables or attributes), and implementations of behavior (member functions or methods)."
      ],
      "metadata": {
        "id": "RU2d88T4BwXz"
      }
    },
    {
      "cell_type": "code",
      "source": [
        "# Class Attributes and Methods\n",
        "class Dog:\n",
        "    species = \"Canis familiaris\"  # Class attribute\n",
        "\n",
        "    def __init__(self, name, age):\n",
        "        self.name = name  # Instance attribute\n",
        "        self.age = age\n",
        "\n",
        "    def description(self):\n",
        "        return f\"{self.name} is {self.age} years old.\"\n",
        "\n",
        "    def speak(self, sound):\n",
        "        return f\"{self.name} says {sound}\"\n",
        "\n",
        "# Using class and instance attributes\n",
        "my_dog = Dog(\"Bella\", 3)\n",
        "print(my_dog.description())\n",
        "print(my_dog.speak(\"Woof\"))\n"
      ],
      "metadata": {
        "colab": {
          "base_uri": "https://localhost:8080/"
        },
        "id": "Gpdk5e_XB9OZ",
        "outputId": "57ba4b77-25a1-4877-9141-da6324816570"
      },
      "execution_count": null,
      "outputs": [
        {
          "output_type": "stream",
          "name": "stdout",
          "text": [
            "Bella is 3 years old.\n",
            "Bella says Woof\n"
          ]
        }
      ]
    },
    {
      "cell_type": "markdown",
      "source": [
        "Explanation: Discuss the difference between class attributes (shared across all instances) and instance attributes (unique to each instance). Also, cover how methods operate within a class."
      ],
      "metadata": {
        "id": "7pq_EwqlCQt7"
      }
    },
    {
      "cell_type": "code",
      "source": [
        "#Inheritance in Python\n",
        "class Pet:\n",
        "    def __init__(self, name):\n",
        "        self.name = name\n",
        "\n",
        "class Cat(Pet):\n",
        "    def purr(self):\n",
        "        return f\"{self.name} purrs.\"\n",
        "\n",
        "# Creating an instance of Cat, inheriting from Pet\n",
        "my_pet = Cat(\"Whiskers\")\n",
        "print(my_pet.purr())\n"
      ],
      "metadata": {
        "colab": {
          "base_uri": "https://localhost:8080/"
        },
        "id": "3Cc02iksCnxB",
        "outputId": "6ed4a74a-dd5c-4bd2-a8d1-e51b1c67bf37"
      },
      "execution_count": null,
      "outputs": [
        {
          "output_type": "stream",
          "name": "stdout",
          "text": [
            "Whiskers purrs.\n"
          ]
        }
      ]
    },
    {
      "cell_type": "markdown",
      "source": [
        "Inheritance in Python\n",
        "\n",
        "Explanation: Inheritance allows us to define a class that inherits all the methods and properties from another class. Discuss parent (or base) and child (or derived) classes."
      ],
      "metadata": {
        "id": "CmmAI6cnCpLI"
      }
    },
    {
      "cell_type": "code",
      "source": [
        "#Polymorphism\n",
        "class Dog:\n",
        "    def speak(self):\n",
        "        return \"Woof!\"\n",
        "\n",
        "class Cat:\n",
        "    def speak(self):\n",
        "        return \"Meow!\"\n",
        "\n",
        "def pet_sound(pet):\n",
        "    print(pet.speak())\n",
        "\n",
        "# Using polymorphism\n",
        "my_dog = Dog()\n",
        "my_cat = Cat()\n",
        "pet_sound(my_dog)\n",
        "pet_sound(my_cat)\n"
      ],
      "metadata": {
        "colab": {
          "base_uri": "https://localhost:8080/"
        },
        "id": "6o2PaofVC_Vo",
        "outputId": "b98ec8f9-a485-481e-c2ba-faf1af9d2721"
      },
      "execution_count": null,
      "outputs": [
        {
          "output_type": "stream",
          "name": "stdout",
          "text": [
            "Woof!\n",
            "Meow!\n"
          ]
        }
      ]
    },
    {
      "cell_type": "markdown",
      "source": [
        "Polymorphism\n",
        "\n",
        "Explanation: Polymorphism in OOP allows methods to do different things based on the object it is acting upon. Show how methods can be overridden in subclasses."
      ],
      "metadata": {
        "id": "e_3HmGF4DAke"
      }
    }
  ]
}