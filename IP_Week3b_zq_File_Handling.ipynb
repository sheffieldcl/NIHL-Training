{
  "nbformat": 4,
  "nbformat_minor": 0,
  "metadata": {
    "colab": {
      "provenance": [],
      "toc_visible": true,
      "name": "IP_Week3b_zq_File_Handling.ipynb",
      "include_colab_link": true
    },
    "kernelspec": {
      "name": "python3",
      "display_name": "Python 3"
    },
    "language_info": {
      "name": "python"
    }
  },
  "cells": [
    {
      "cell_type": "markdown",
      "metadata": {
        "id": "view-in-github",
        "colab_type": "text"
      },
      "source": [
        "<a href=\"https://colab.research.google.com/github/sheffieldcl/NIHL-Training/blob/Python-Training/IP_Week3b_zq_File_Handling.ipynb\" target=\"_parent\"><img src=\"https://colab.research.google.com/assets/colab-badge.svg\" alt=\"Open In Colab\"/></a>"
      ]
    },
    {
      "cell_type": "code",
      "source": [
        "***********\n",
        "#Need Exercises for students to try; I'll try to generate some. cls\n",
        "************"
      ],
      "metadata": {
        "id": "GryIAZ7w0fTC"
      },
      "execution_count": null,
      "outputs": []
    },
    {
      "cell_type": "markdown",
      "source": [
        "# File Handling in Python\n",
        "\n",
        "This tutorial demonstrates basic file operations in Python, including how to open, read, write, and close files. We'll also explore how to handle files more efficiently using the `with` statement.\n"
      ],
      "metadata": {
        "id": "7ukomgot6Y7b"
      }
    },
    {
      "cell_type": "code",
      "source": [
        "# Let's first create a sample text file to work with.\n",
        "sample_text = \"Hello, world! Welcome to file handling in Python.\"\n",
        "with open(\"example.txt\", \"w\") as file:\n",
        "    file.write(sample_text)\n",
        "\n",
        "# Opening a file\n",
        "file = open(\"example.txt\", \"r\")\n",
        "\n",
        "# Always make sure to close the file\n",
        "file.close()\n"
      ],
      "metadata": {
        "id": "DXO5xlU-6bPA"
      },
      "execution_count": null,
      "outputs": []
    },
    {
      "cell_type": "markdown",
      "source": [
        "Explanation:\n",
        "The `open` function is used to open a file in the specified mode, 'r' for reading, 'w' for writing (creates a new file or truncates an existing one), and 'a' for appending.\n",
        "It's crucial to close the file after you're done with it to free up system resources. Not closing a file can lead to memory issues and data corruption."
      ],
      "metadata": {
        "id": "H3hj0ZdM6kgZ"
      }
    },
    {
      "cell_type": "code",
      "source": [
        "# Reading the entire content of the file\n",
        "with open(\"example.txt\", \"r\") as file:\n",
        "    content = file.read()\n",
        "print(\"File content:\")\n",
        "print(content)\n",
        "\n",
        "# Reading line by line\n",
        "with open(\"example.txt\", \"r\") as file:\n",
        "    print(\"\\nFile content by lines:\")\n",
        "    for line in file:\n",
        "        print(line.strip())\n"
      ],
      "metadata": {
        "colab": {
          "base_uri": "https://localhost:8080/"
        },
        "id": "7g2wdBTm-gGC",
        "outputId": "fbd1b194-02ae-4fa8-9c4a-199185436568"
      },
      "execution_count": null,
      "outputs": [
        {
          "output_type": "stream",
          "name": "stdout",
          "text": [
            "File content:\n",
            "Hello, world! Welcome to file handling in Python.\n",
            "\n",
            "File content by lines:\n",
            "Hello, world! Welcome to file handling in Python.\n"
          ]
        }
      ]
    },
    {
      "cell_type": "markdown",
      "source": [
        "Explanation:\n",
        "The `read` method reads the entire content of the file into a string. If you only want to read the file line by line, you can use a for loop on the file object, which is helpful for large files to reduce memory usage.\n",
        "The `strip` method is used to remove any leading and trailing whitespace, including the newline character `\\n`.\n"
      ],
      "metadata": {
        "id": "Gk885blQ-lJW"
      }
    },
    {
      "cell_type": "code",
      "source": [
        "# Writing to a new file\n",
        "with open(\"output.txt\", \"w\") as file:\n",
        "    file.write(\"This is a new file.\\n\")\n",
        "    file.writelines([\"Here is another line.\\n\", \"And one more line.\\n\"])\n",
        "\n",
        "# Appending to the existing file\n",
        "with open(\"output.txt\", \"a\") as file:\n",
        "    file.write(\"Appending a new line.\")\n",
        "\n"
      ],
      "metadata": {
        "id": "I0oh39bi-ug7"
      },
      "execution_count": null,
      "outputs": []
    },
    {
      "cell_type": "markdown",
      "source": [
        " Explanation:\n",
        "\n",
        "When opening a file in 'w' mode, the file is created if it does not exist or truncated if it does. The `write` method writes a string to the file, and `writelines` can write a list of strings.\n",
        "\n",
        "Opening a file in 'a' mode allows you to append to the end of the file without truncating it. This is useful for adding new data to existing files.\n"
      ],
      "metadata": {
        "id": "F7EcG2vZ_D4h"
      }
    },
    {
      "cell_type": "code",
      "source": [
        "# Using 'with' statement to handle files efficiently\n",
        "with open(\"example.txt\", \"r\") as read_file:\n",
        "    data = read_file.read()\n",
        "\n",
        "with open(\"output.txt\", \"w\") as write_file:\n",
        "    write_file.write(data.upper())  # Converts the text to uppercase and writes to another file\n",
        "\n",
        "print(\"Done writing to output.txt with uppercase content.\")"
      ],
      "metadata": {
        "colab": {
          "base_uri": "https://localhost:8080/"
        },
        "id": "R-YjCJIA_Yc_",
        "outputId": "be04490d-c417-4a55-e209-39b329c6aa5a"
      },
      "execution_count": null,
      "outputs": [
        {
          "output_type": "stream",
          "name": "stdout",
          "text": [
            "Done writing to output.txt with uppercase content.\n"
          ]
        }
      ]
    },
    {
      "cell_type": "markdown",
      "source": [
        "Explanation:\n",
        "\n",
        "The `with` statement automatically manages file opening and closing. It ensures that the file is properly closed after its suite finishes, even if an exception is raised.\n",
        "\n",
        "This makes code cleaner and more readable, and also makes the management of file resources more error-free.\n"
      ],
      "metadata": {
        "id": "Dy9VW1iP_cFj"
      }
    },
    {
      "cell_type": "markdown",
      "source": [
        "## Conclusion\n",
        "\n",
        "In this tutorial, you learned the basics of file handling in Python, including opening and reading from files, writing to files, and the benefits of using the `with` statement for managing file operations. Proper file handling is crucial in many applications, such as data analysis, where reading from and writing to files is a common task.\n",
        "\n",
        "Feel free to modify the examples provided to experiment with different file operations and understand the nuances of Python file management.\n"
      ],
      "metadata": {
        "id": "CNTCImaS_vD_"
      }
    }
  ]
}