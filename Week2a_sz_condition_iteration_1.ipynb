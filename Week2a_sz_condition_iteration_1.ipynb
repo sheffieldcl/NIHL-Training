{
  "nbformat": 4,
  "nbformat_minor": 0,
  "metadata": {
    "colab": {
      "provenance": [],
      "include_colab_link": true
    },
    "kernelspec": {
      "name": "python3",
      "display_name": "Python 3"
    },
    "language_info": {
      "name": "python"
    }
  },
  "cells": [
    {
      "cell_type": "markdown",
      "metadata": {
        "id": "view-in-github",
        "colab_type": "text"
      },
      "source": [
        "<a href=\"https://colab.research.google.com/github/sheffieldcl/NIHL-Training/blob/Python-Training/Week2a_sz_condition_iteration_1.ipynb\" target=\"_parent\"><img src=\"https://colab.research.google.com/assets/colab-badge.svg\" alt=\"Open In Colab\"/></a>"
      ]
    },
    {
      "cell_type": "markdown",
      "source": [
        "# Intro to Python, NIH Library - Week 2\n",
        "## Conditionals / Data Structures (Stanley)\n",
        "\n",
        "By the end of this training attendees will be able to:\n",
        "\n",
        "*  Use dictionaries to define data elements\n",
        "\n",
        "*  Control data flow using conditionals such as loops and if statements\n",
        "\n",
        "*  Minimize memory usage and runtime for code\n",
        "\n",
        "*  Manage exceptions using ‘**try-except-finally**’ and other methods\n"
      ],
      "metadata": {
        "id": "k962gqjDteLd"
      }
    },
    {
      "cell_type": "markdown",
      "source": [
        "In Week 2 tutorial, we will introduce the condition and iteration of Python"
      ],
      "metadata": {
        "id": "mhKmCdpk2kEh"
      }
    },
    {
      "cell_type": "markdown",
      "source": [
        "# The logical operators in Python\n",
        "\n",
        "The logical operators in Python are very straight forward\n",
        "\n",
        "\n",
        "*   and: If both of the operands are true then the condition becomes true\n",
        "*   or: If any of the two operands is non-zero then the condition becomes true\n",
        "*   not: Used to reverse the logical state of its operand <p>\n",
        "\n",
        "The logical operators must be all in lower-case letters. AND, OR, NOT are words, they are not logical operators.\n",
        "\n",
        "The boolean values are \"True\" and \"False\", case-sensitive."
      ],
      "metadata": {
        "id": "ewffgjH32uYL"
      }
    },
    {
      "cell_type": "code",
      "source": [
        "0 or 0"
      ],
      "metadata": {
        "colab": {
          "base_uri": "https://localhost:8080/"
        },
        "id": "5zfgFXE21_I5",
        "outputId": "a5b598c0-7e63-484a-e616-670d0c9664c4"
      },
      "execution_count": null,
      "outputs": [
        {
          "output_type": "execute_result",
          "data": {
            "text/plain": [
              "0"
            ]
          },
          "metadata": {},
          "execution_count": 2
        }
      ]
    },
    {
      "cell_type": "code",
      "execution_count": null,
      "metadata": {
        "colab": {
          "base_uri": "https://localhost:8080/"
        },
        "id": "zQso7WsD2csZ",
        "outputId": "62c59f74-ec02-4636-e21f-376719b85a29"
      },
      "outputs": [
        {
          "output_type": "stream",
          "name": "stdout",
          "text": [
            "0\n",
            "0\n",
            "1\n",
            "1\n",
            "False\n",
            "False\n",
            "True\n",
            "True\n",
            "1\n",
            "1\n",
            "False\n",
            "True\n"
          ]
        }
      ],
      "source": [
        "a = 1\n",
        "b = 0\n",
        "print(a and b)\n",
        "print(1 and 0)\n",
        "print(a or b)\n",
        "print(1 or 0)\n",
        "\n",
        "# not will only return boolean values: True / False\n",
        "print(not a)\n",
        "print(not 10)\n",
        "\n",
        "print(True and True)\n",
        "print(True or False)\n",
        "print(True and 1)\n",
        "print(False or 1)\n",
        "print(not True)\n",
        "print(not False)"
      ]
    },
    {
      "cell_type": "markdown",
      "source": [
        "# Comparison Operators\n",
        "Logical operations are often combined with comparison operations\n",
        "\n",
        "\n",
        "*   ==  Equal\n",
        "*   !=  Not Equal\n",
        "*   \\> Greater Than\n",
        "*   \\< Less Than\n",
        "*   \\>= Greater than or Equal to\n",
        "*   \\<= Less than or Equal to\n",
        "<p>\n",
        "The comparison operation will return a Boolean value.\n",
        "\n",
        "\n",
        "\n"
      ],
      "metadata": {
        "id": "2JyDFOR841Z8"
      }
    },
    {
      "cell_type": "code",
      "source": [
        "print(10 == 10)\n",
        "print(10 != 10)\n",
        "print(10 > 10)\n",
        "print(10 < 10)\n",
        "print(10 >= 10)\n",
        "print(10 <= 10)"
      ],
      "metadata": {
        "colab": {
          "base_uri": "https://localhost:8080/"
        },
        "id": "nnJIIKD37nI7",
        "outputId": "94809112-3f90-4711-a216-53700e04e70a"
      },
      "execution_count": null,
      "outputs": [
        {
          "output_type": "stream",
          "name": "stdout",
          "text": [
            "True\n",
            "False\n",
            "False\n",
            "False\n",
            "True\n",
            "True\n"
          ]
        }
      ]
    },
    {
      "cell_type": "code",
      "source": [
        "# for the comparison of >, >=, <, <=,\n",
        "# The boolean value True is treated as 1, and False is treated as 0\n",
        "# However, this rule does not apply to equal / unequal comparison,\n",
        "\n",
        "# These results are all True\n",
        "print(True == 1)\n",
        "print(True < 20)\n",
        "print(True > 0)\n",
        "print(False > -1)\n",
        "print(False >= 0)\n",
        "print(True >= False)\n",
        "\n",
        "# These results are all False\n",
        "print(True == 10)\n",
        "print(False != 0)\n",
        "print(False == 1)\n"
      ],
      "metadata": {
        "colab": {
          "base_uri": "https://localhost:8080/"
        },
        "id": "iRXQP9N57-C8",
        "outputId": "7004b54f-7019-41b3-883d-bf16012c3576"
      },
      "execution_count": null,
      "outputs": [
        {
          "output_type": "stream",
          "name": "stdout",
          "text": [
            "True\n",
            "True\n",
            "True\n",
            "True\n",
            "True\n",
            "True\n",
            "False\n",
            "False\n",
            "False\n"
          ]
        }
      ]
    },
    {
      "cell_type": "markdown",
      "source": [
        "# Condition syntax\n",
        "\n",
        "In Python, the condition syntax has three basic if statements\n",
        "\n",
        "\n",
        "*   if\n",
        "*   if...else\n",
        "*   if...elif...else\n",
        "\n",
        "Note that Python doese not support the \"switch...case...default\" used in other programming languages like C++, Java, etc.\n",
        "\n",
        "Note that from Python 3.10, it proivdes the \"match...case...\" statement, which is similar to the \"switch...case...default\". We will give an example later in this section.\n",
        "\n"
      ],
      "metadata": {
        "id": "dcrWyS_z-HC-"
      }
    },
    {
      "cell_type": "markdown",
      "source": [
        "# if statement\n",
        "The if statement evaluate the boolean operation in the if code block, then it determines whether the code section under the if statement should be executed or not. Python relies on indentation (whitespace at the beginning of a line) to define scope in the code. The convention is to use four indents, but colab like using two indents. For convenience, you can keep the 2-indent convention with colab, but we highly recommend using the 4-indent convention with other IDEs other than Colab"
      ],
      "metadata": {
        "id": "rPsNTodT_W5i"
      }
    },
    {
      "cell_type": "markdown",
      "source": [],
      "metadata": {
        "id": "4FXir3zv_ADy"
      }
    },
    {
      "cell_type": "code",
      "source": [
        "a = 10\n",
        "\n",
        "# the if statement is indicated by the colon (:)\n",
        "if a == 10:\n",
        "  print(\"a is 10\")"
      ],
      "metadata": {
        "colab": {
          "base_uri": "https://localhost:8080/"
        },
        "id": "7swPkZZE_89F",
        "outputId": "ecf93991-27a0-4336-d121-0dea88ded7a4"
      },
      "execution_count": null,
      "outputs": [
        {
          "output_type": "stream",
          "name": "stdout",
          "text": [
            "a is 10\n"
          ]
        }
      ]
    },
    {
      "cell_type": "markdown",
      "source": [
        "# if...else statement\n",
        "When we have two conditions, we put one of them in the if statement, can the alternative operation in the else statement"
      ],
      "metadata": {
        "id": "GOfb62CjA05D"
      }
    },
    {
      "cell_type": "code",
      "source": [
        "# change the value for a to see different results\n",
        "a = 9.9\n",
        "\n",
        "if a == 10:\n",
        "  print(\"a is 10\")\n",
        "else:\n",
        "  print(\"a is not 10\")"
      ],
      "metadata": {
        "colab": {
          "base_uri": "https://localhost:8080/"
        },
        "id": "jTBwYyciBJKN",
        "outputId": "a7059fc6-24b6-4827-efa8-94d6bb7db65b"
      },
      "execution_count": null,
      "outputs": [
        {
          "output_type": "stream",
          "name": "stdout",
          "text": [
            "a is not 10\n"
          ]
        }
      ]
    },
    {
      "cell_type": "markdown",
      "source": [
        "# if...elif...else statement\n",
        "When our condition has three branches, we put the first one in the if statement, the second one in the elif statement, the the last one in the else statement"
      ],
      "metadata": {
        "id": "8sQgcE84YPu9"
      }
    },
    {
      "cell_type": "code",
      "source": [
        "a = 10\n",
        "\n",
        "if a > 0:\n",
        "  print(\"a is positive\")\n",
        "elif a == 0:\n",
        "  print(\"a is zero\")\n",
        "else:\n",
        "  print(\"a is negative\")"
      ],
      "metadata": {
        "colab": {
          "base_uri": "https://localhost:8080/"
        },
        "id": "_Cc355BTZLVk",
        "outputId": "35412d60-9279-400a-dbc0-3e8f8c1e0aa9"
      },
      "execution_count": null,
      "outputs": [
        {
          "output_type": "stream",
          "name": "stdout",
          "text": [
            "a is positive\n"
          ]
        }
      ]
    },
    {
      "cell_type": "markdown",
      "source": [
        "However, this three-branch syntax is not safe. It is likely to end up with a wrong conclusion because if the first two statements are not satisfied, the else statement will be the default option. In addition, if you have more than three branches, like \"if...elif...elif......else\", the code will look confused and the logic is hard to read.\n",
        "\n",
        "There are multiple ways to replace the \"if...elif...else\" statement."
      ],
      "metadata": {
        "id": "1TTSwSqka_WT"
      }
    },
    {
      "cell_type": "markdown",
      "source": [
        "# match...case statement\n",
        "the \"match...case\" statement was introduced to Python in version 3.10 and afterwards\n",
        "\n",
        "We know that each gene's code uses the four nucleotide bases of DNA: adenine --A, cytosine--C, guanine--G and thymine--T.\n",
        "The Python code below uses the match...case statement to input the letter and return the full name of the nucleotide base"
      ],
      "metadata": {
        "id": "1_vNlsi9CumX"
      }
    },
    {
      "cell_type": "code",
      "source": [
        "# chage the letter for different results\n",
        "\n",
        "nuclear_code = 'G'\n",
        "\n",
        "match nuclear_code:\n",
        "    case \"A\":\n",
        "        print(f\"{nuclear_code} is the acronum for adenine\")\n",
        "    case \"C\":\n",
        "        print(f\"{nuclear_code} is the acronum for cytosine\")\n",
        "    case \"G\":\n",
        "        print(f\"{nuclear_code} is the acronum for guanine\")\n",
        "    case \"T\":\n",
        "        print(f\"{nuclear_code} is the acronum for thymine\")\n",
        "    case _:\n",
        "        print(f\"The letter {nuclear_code} is out of scopoe\")"
      ],
      "metadata": {
        "colab": {
          "base_uri": "https://localhost:8080/"
        },
        "id": "yj2ePVXNYqy4",
        "outputId": "a6f8413b-8f55-407f-cb19-c113f9405b42"
      },
      "execution_count": null,
      "outputs": [
        {
          "output_type": "stream",
          "name": "stdout",
          "text": [
            "G is the acronum for guanine\n"
          ]
        }
      ]
    },
    {
      "cell_type": "markdown",
      "source": [
        "The second method is use the dictionary structure we learn in Week 1"
      ],
      "metadata": {
        "id": "dVDWxKmWK8Nc"
      }
    },
    {
      "cell_type": "code",
      "source": [
        "nucleotide_dict ={\n",
        "    \"A\": \"adenine\",\n",
        "    \"C\": \"cytosine\",\n",
        "    \"G\": \"guanine\",\n",
        "    \"T\": \"thymine\"\n",
        "}\n",
        "\n",
        "nuclear_code = 'A'\n",
        "\n",
        "if nuclear_code in nucleotide_dict:\n",
        "    print(f\"{nuclear_code} is the acronum for {nucleotide_dict[nuclear_code]}\")"
      ],
      "metadata": {
        "colab": {
          "base_uri": "https://localhost:8080/"
        },
        "id": "T1TvTju2LCae",
        "outputId": "98fe2b78-14bb-45ce-f2f2-2bd1072511f0"
      },
      "execution_count": null,
      "outputs": [
        {
          "output_type": "stream",
          "name": "stdout",
          "text": [
            "A is the acronum for adenine\n"
          ]
        }
      ]
    },
    {
      "cell_type": "markdown",
      "source": [
        "The third method is to use function with multiple return. We will discuss the Python functions in detail in Week 3"
      ],
      "metadata": {
        "id": "ETsUUmj7LlQt"
      }
    },
    {
      "cell_type": "code",
      "source": [
        "def get_nucleotide_name(nuclear_code):\n",
        "    if nuclear_code in nucleotide_dict:\n",
        "        return f\"{nuclear_code} is the acronum for {nucleotide_dict[nuclear_code]}\"\n",
        "\n",
        "    if nuclear_code not in nucleotide_dict:\n",
        "        return f\"The letter {nuclear_code} is out of scopoe\""
      ],
      "metadata": {
        "id": "8zYlUborMDDp"
      },
      "execution_count": null,
      "outputs": []
    },
    {
      "cell_type": "code",
      "source": [
        "nuclear_code = 'A'\n",
        "\n",
        "print(get_nucleotide_name(nuclear_code))"
      ],
      "metadata": {
        "colab": {
          "base_uri": "https://localhost:8080/"
        },
        "id": "Y12yxNJxMV20",
        "outputId": "b13a85b2-5d84-44a1-ce00-b504deb42859"
      },
      "execution_count": null,
      "outputs": [
        {
          "output_type": "stream",
          "name": "stdout",
          "text": [
            "A is the acronum for adenine\n"
          ]
        }
      ]
    },
    {
      "cell_type": "markdown",
      "source": [
        "The if...else statement can be written in a single line to assign value / values to variable\n",
        "\n",
        "Assume the grade of the exam ranges from 0 to 100, and 60/100 or above is a passing grade, and below 60/100 is failure.\n",
        "\n",
        "We assign the mark \"PASS\" or \"FAIL\" given the numeric score."
      ],
      "metadata": {
        "id": "1OGYkYhTMokD"
      }
    },
    {
      "cell_type": "code",
      "source": [
        "score = 59\n",
        "\n",
        "# with the regular if...else statement, we use the syntax:\n",
        "\n",
        "if score >= 60:\n",
        "    grade = \"PASS\"\n",
        "else:\n",
        "    grade = \"FAIL\"\n",
        "\n",
        "print(grade)"
      ],
      "metadata": {
        "colab": {
          "base_uri": "https://localhost:8080/"
        },
        "id": "_ugf1jASNU-N",
        "outputId": "d6f9b8bb-f02f-4f94-8fb9-a9af7c9f8a34"
      },
      "execution_count": null,
      "outputs": [
        {
          "output_type": "stream",
          "name": "stdout",
          "text": [
            "FAIL\n"
          ]
        }
      ]
    },
    {
      "cell_type": "code",
      "source": [
        "# we can assign the grade with the one-line syntax:\n",
        "\n",
        "score = 60\n",
        "\n",
        "grade = \"PASS\" if score >= 60 else \"FAIL\"\n",
        "\n",
        "print(grade)"
      ],
      "metadata": {
        "colab": {
          "base_uri": "https://localhost:8080/"
        },
        "id": "QBfqtCLMNtIW",
        "outputId": "c37d0995-aa6d-4c14-dc2d-43f7b211120f"
      },
      "execution_count": null,
      "outputs": [
        {
          "output_type": "stream",
          "name": "stdout",
          "text": [
            "PASS\n"
          ]
        }
      ]
    },
    {
      "cell_type": "code",
      "source": [
        "# if the scores of 10 students are in a list, we can use the list comprehension syntax to convert it to a grade list\n",
        "\n",
        "scores = [55, 70, 80, 90, 40, 70, 80, 90, 45, 70]\n",
        "\n",
        "# we will discuss the iteration syntax later\n",
        "grade = [\"PASS\" if score >= 60 else \"FAIL\" for score in scores]\n",
        "\n",
        "print(grade)"
      ],
      "metadata": {
        "colab": {
          "base_uri": "https://localhost:8080/"
        },
        "id": "s74Ly2caOU3E",
        "outputId": "47b0c081-c283-445d-a456-3b98c6cba505"
      },
      "execution_count": null,
      "outputs": [
        {
          "output_type": "stream",
          "name": "stdout",
          "text": [
            "['FAIL', 'PASS', 'PASS', 'PASS', 'FAIL', 'PASS', 'PASS', 'PASS', 'FAIL', 'PASS']\n"
          ]
        }
      ]
    },
    {
      "cell_type": "markdown",
      "source": [
        "# Iteration syntax\n",
        "\n",
        "Like other programming languages such as C, C#, Java, etc. Python has the \"for loop\" and \"while loop\" syntax for iteration. It also offers additional methods to iterate its generic data structures such as list and dictionary as iterators. In addition,  a Python generator function allows you to declare a function that behaves like an iterator, providing a faster and easier way to create iterators.\n"
      ],
      "metadata": {
        "id": "xOmQvbRtO2g2"
      }
    },
    {
      "cell_type": "markdown",
      "source": [
        "# The for loop\n",
        "The for loop syntax in Python is simple.\n",
        "The common syntax of \"for loop\" in Python are:\n",
        "\n",
        "*   for i in range(start, end, skip)\n",
        "*   for item in data\n",
        "\n",
        "Note the the key word \"break\" can end the loop.\n",
        "\n"
      ],
      "metadata": {
        "id": "vBD1tpoR3GbX"
      }
    },
    {
      "cell_type": "code",
      "source": [
        "# the \"for i in range()\" syntax\n",
        "\n",
        "# if we want the start from 0 and end with a number, use the following syntax\n",
        "# Note that Python is endpoint exclusive, if the endpoint is 10, it will print out 0 to 9, then exclude 10\n",
        "for i in range(10):\n",
        "    print(i, end=\",\") # we add end=\",\" to prevent from printing out new line for each iteration"
      ],
      "metadata": {
        "colab": {
          "base_uri": "https://localhost:8080/"
        },
        "id": "LD_b85ss3KMv",
        "outputId": "8c9001c6-75c3-4418-c1e3-9ac8652bbe30"
      },
      "execution_count": null,
      "outputs": [
        {
          "output_type": "stream",
          "name": "stdout",
          "text": [
            "0,1,2,3,4,5,6,7,8,9,"
          ]
        }
      ]
    },
    {
      "cell_type": "code",
      "source": [
        "# if we want the start and stop at specific point, remember python is startpoint inclusive and endpoint exclusive\n",
        "for i in range(5, 10):\n",
        "    print(i, end=\",\")"
      ],
      "metadata": {
        "colab": {
          "base_uri": "https://localhost:8080/"
        },
        "id": "VcVM3ikI6aTp",
        "outputId": "5a836491-629a-47b8-c261-3d544f49fca1"
      },
      "execution_count": null,
      "outputs": [
        {
          "output_type": "stream",
          "name": "stdout",
          "text": [
            "5,6,7,8,9,"
          ]
        }
      ]
    },
    {
      "cell_type": "code",
      "source": [
        "# we can use the third parameter to define the skip interval\n",
        "for i in range(0, 10, 2):\n",
        "    print(i, end=\",\")\n",
        "\n",
        "print()\n",
        "\n",
        "for j in range(0, 10, 3):\n",
        "    print(j, end=\",\")"
      ],
      "metadata": {
        "colab": {
          "base_uri": "https://localhost:8080/"
        },
        "id": "6TK0eNjcCN5B",
        "outputId": "60ce49a5-73dd-4ec9-924e-5f747469c2d8"
      },
      "execution_count": null,
      "outputs": [
        {
          "output_type": "stream",
          "name": "stdout",
          "text": [
            "0,2,4,6,8,\n",
            "0,3,6,9,"
          ]
        }
      ]
    },
    {
      "cell_type": "code",
      "source": [
        "for i in range(0,10):\n",
        "  if i%2 == 0:\n",
        "    continue\n",
        "  print(i, end=\",\")"
      ],
      "metadata": {
        "colab": {
          "base_uri": "https://localhost:8080/"
        },
        "id": "gjTmjIC8Ul7j",
        "outputId": "838d70f0-f35a-4f97-db48-354533627408"
      },
      "execution_count": null,
      "outputs": [
        {
          "output_type": "stream",
          "name": "stdout",
          "text": [
            "1,3,5,7,9,"
          ]
        }
      ]
    },
    {
      "cell_type": "code",
      "source": [
        "for i in range(0,10):\n",
        "  if i > 5:\n",
        "    break\n",
        "  print(i, end=\",\")"
      ],
      "metadata": {
        "colab": {
          "base_uri": "https://localhost:8080/"
        },
        "id": "bu5QS8poVgvx",
        "outputId": "86757ff2-8e1c-4f7f-8bd4-19ea5a2a790e"
      },
      "execution_count": null,
      "outputs": [
        {
          "output_type": "stream",
          "name": "stdout",
          "text": [
            "0,1,2,3,4,5,"
          ]
        }
      ]
    },
    {
      "cell_type": "markdown",
      "source": [
        "# Use \"for loop\" with iterators\n",
        "\n",
        "We usually use the for loop to loop through some data structures, like the list. And we can do it in many ways."
      ],
      "metadata": {
        "id": "C3bkhvZjC2Fj"
      }
    },
    {
      "cell_type": "code",
      "source": [
        "fruits = [\"apple\", \"banana\", \"cherry\", \"mango\", \"pineapple\", \"orange\"]\n",
        "\n",
        "# the conventional way (not recommended)\n",
        "for i in range(len(fruits)):\n",
        "    print(fruits[i], end=\",\")\n",
        "\n",
        "print()\n",
        "\n",
        "# the recommended way -- the key word \"in\" will invoke the list as an iterator and fetch the elements one by one\n",
        "for fruit in fruits:\n",
        "    print(fruit, end=\",\")"
      ],
      "metadata": {
        "colab": {
          "base_uri": "https://localhost:8080/"
        },
        "id": "65IXRdlvC0zD",
        "outputId": "9fbbeea1-5366-4446-d411-f9b4178419d5"
      },
      "execution_count": null,
      "outputs": [
        {
          "output_type": "stream",
          "name": "stdout",
          "text": [
            "apple,banana,cherry,mango,pineapple,orange,\n",
            "apple,banana,cherry,mango,pineapple,orange,"
          ]
        }
      ]
    },
    {
      "cell_type": "code",
      "source": [
        "# use the iter() method to convert the list into an iterator object\n",
        "fruits = iter(fruits)\n",
        "\n",
        "# we can use the next() method to fetch one item from the iterator once a time\n",
        "# the \"while True\" syntax is a common way to maintain the loop infinitely, which is used for for many Graphical User Interface (GUI) Apps\n",
        "# Infinite loop is harmful to many programs, usually leading to an error, so use it carefully.\n",
        "\n",
        "# we use a \"while True\" loop to go through all elements in the iterator, and use the try...except syntax to break the loop in the end\n",
        "while True:\n",
        "    try:\n",
        "        print(next(fruits))\n",
        "    except StopIteration:\n",
        "        break"
      ],
      "metadata": {
        "id": "NDl5pl2JEY6O",
        "colab": {
          "base_uri": "https://localhost:8080/"
        },
        "outputId": "c08d852c-60be-4c9a-8482-36283dc9a080"
      },
      "execution_count": null,
      "outputs": [
        {
          "output_type": "stream",
          "name": "stdout",
          "text": [
            "apple\n",
            "banana\n",
            "cherry\n",
            "mango\n",
            "pineapple\n",
            "orange\n"
          ]
        }
      ]
    },
    {
      "cell_type": "markdown",
      "source": [
        "# The \"while\" loop\n",
        "\n",
        "With the while loop we can execute a set of statements as long as a condition is true."
      ],
      "metadata": {
        "id": "k6TBS38HUfOf"
      }
    },
    {
      "cell_type": "code",
      "source": [
        "# print out all integers which is least than the given number\n",
        "max = 10\n",
        "i = 0\n",
        "while i <= max:\n",
        "  print(i, end=',')\n",
        "  i = i + 1\n"
      ],
      "metadata": {
        "colab": {
          "base_uri": "https://localhost:8080/"
        },
        "id": "QT-DCdVPUuH8",
        "outputId": "4930e8ce-2edf-4262-de32-c32659643fa5"
      },
      "execution_count": null,
      "outputs": [
        {
          "output_type": "stream",
          "name": "stdout",
          "text": [
            "0,1,2,3,4,5,6,7,8,9,10,"
          ]
        }
      ]
    },
    {
      "cell_type": "markdown",
      "source": [
        "The \"while loop\" is very dangerous because it is easy to become an infinite loop, which will cause a system crash. One effective safeguard for the while loop is to use the conditional + break syntax inside the while loop"
      ],
      "metadata": {
        "id": "s-zyDtoEVbbj"
      }
    },
    {
      "cell_type": "code",
      "source": [
        "max = 10\n",
        "i = 0\n",
        "while True:\n",
        "  print(i, end=',')\n",
        "  i = i + 1\n",
        "  if i > max:\n",
        "    break"
      ],
      "metadata": {
        "colab": {
          "base_uri": "https://localhost:8080/"
        },
        "id": "48ALO15lVwKl",
        "outputId": "c0706ae7-55ca-4ac7-da90-b72c153216a7"
      },
      "execution_count": null,
      "outputs": [
        {
          "output_type": "stream",
          "name": "stdout",
          "text": [
            "0,1,2,3,4,5,6,7,8,9,10,"
          ]
        }
      ]
    },
    {
      "cell_type": "markdown",
      "source": [
        "# Generator\n",
        "A generator is a function or expression that will process a given iterable one object at a time, on demand. A generator will return a generator object, which can be cast as a list or some other data structure as appropriate. <p>\n",
        "Using the generator can prevent the whole dataset from loading into memory, which can significantly optimize the system workload. <p>\n",
        "Inside the generator function, we use the keyword \"yield\" to return the value"
      ],
      "metadata": {
        "id": "wXaBx1raN_s8"
      }
    },
    {
      "cell_type": "markdown",
      "source": [
        "Example 1: Generate Fibonacci Numbers <P>\n",
        "\n",
        "The Fibonacci Numbers is a series that from the third term, each term is the sum of the precedingly two terms. For example, at the number series: <p>\n",
        "0,1,1,2,3,5,... <p>\n",
        "From the third term 1, each term is the sum of its preceedingly two terms."
      ],
      "metadata": {
        "id": "YqK1VOUSPtjn"
      }
    },
    {
      "cell_type": "code",
      "source": [
        "def fibonacci_generator(limit:int)->int:\n",
        "    # the argument limit is to define the maximum value of the Fibonacci series\n",
        "    # Initialize first two Fibonacci Numbers\n",
        "    a, b = 0, 1\n",
        "    # One by one yield next Fibonacci Number\n",
        "    while a < limit:\n",
        "        yield a\n",
        "        # reassign values to corresponding current item and its preceding item at the series\n",
        "        a, b = b, a + b\n",
        "\n"
      ],
      "metadata": {
        "id": "WZx4CH2dE4Uv"
      },
      "execution_count": null,
      "outputs": []
    },
    {
      "cell_type": "code",
      "source": [
        "# Create a generator object\n",
        "# Note that the generator will only iterate once\n",
        "x = fibonacci_generator(5)\n",
        "x # x is NOT generator object, not a number"
      ],
      "metadata": {
        "colab": {
          "base_uri": "https://localhost:8080/"
        },
        "id": "QUXY6kAzPN0p",
        "outputId": "cab85239-f25c-4f37-85bc-34799a6617bd"
      },
      "execution_count": null,
      "outputs": [
        {
          "output_type": "execute_result",
          "data": {
            "text/plain": [
              "<generator object fibonacci_generator at 0x78952d15cc10>"
            ]
          },
          "metadata": {},
          "execution_count": 22
        }
      ]
    },
    {
      "cell_type": "code",
      "source": [
        "for item in x:\n",
        "    print(item, end=\",\")"
      ],
      "metadata": {
        "colab": {
          "base_uri": "https://localhost:8080/"
        },
        "id": "rACGFiPBRSIj",
        "outputId": "8a05adc2-9d8e-4191-d289-b2cf0565d62e"
      },
      "execution_count": null,
      "outputs": [
        {
          "output_type": "stream",
          "name": "stdout",
          "text": [
            "0,1,1,2,3,"
          ]
        }
      ]
    },
    {
      "cell_type": "code",
      "source": [
        "# reinitiate the generator, for we already go through it on the upper cell\n",
        "x = fibonacci_generator(10)\n",
        "\n",
        "while True:\n",
        "    try:\n",
        "        print(next(x), end=',')\n",
        "    except StopIteration:\n",
        "        break"
      ],
      "metadata": {
        "colab": {
          "base_uri": "https://localhost:8080/"
        },
        "id": "m5ewsff9RXcK",
        "outputId": "e4c905d8-5962-4088-db79-8ebd75344eb0"
      },
      "execution_count": null,
      "outputs": [
        {
          "output_type": "stream",
          "name": "stdout",
          "text": [
            "0,1,1,2,3,5,8,"
          ]
        }
      ]
    },
    {
      "cell_type": "markdown",
      "source": [
        "The generator is very useful for the training of the machine learning models. We need the models to go through the whole dataset but we don't want the whole dataset sitting in the memory (think out the dataset has 1 million high-resolution images). The generator provides a way to iterate the dataset item by item, so each time we only need to send a small amount of data into the memory"
      ],
      "metadata": {
        "id": "jNdhUyhUSI8I"
      }
    },
    {
      "cell_type": "code",
      "source": [
        "fruits = [\"apple\", \"banana\", \"cherry\", \"mango\", \"pineapple\", \"orange\"]\n",
        "\n",
        "# we define a fruit generator, each time it will return two fruits from the fruit list\n",
        "def get_fruit_generator(batch_size=2):\n",
        "    for i in range(0, len(fruits), batch_size):\n",
        "        yield fruits[i:i+batch_size]"
      ],
      "metadata": {
        "id": "OP2tPAE9TK-c"
      },
      "execution_count": null,
      "outputs": []
    },
    {
      "cell_type": "code",
      "source": [
        "total_epoch = 10\n",
        "for epoch in range(total_epoch):\n",
        "    print(\"epoch: \", epoch+1)\n",
        "    fruit_generator = get_fruit_generator(2)\n",
        "    while True:\n",
        "        try:\n",
        "            print(next(fruit_generator))\n",
        "        except StopIteration:\n",
        "            break"
      ],
      "metadata": {
        "colab": {
          "base_uri": "https://localhost:8080/"
        },
        "id": "GOTj_SZmThht",
        "outputId": "2c40ac61-8088-4ca8-eda4-8dd16783c92c"
      },
      "execution_count": null,
      "outputs": [
        {
          "output_type": "stream",
          "name": "stdout",
          "text": [
            "epoch:  1\n",
            "['apple', 'banana']\n",
            "['cherry', 'mango']\n",
            "['pineapple', 'orange']\n",
            "epoch:  2\n",
            "['apple', 'banana']\n",
            "['cherry', 'mango']\n",
            "['pineapple', 'orange']\n",
            "epoch:  3\n",
            "['apple', 'banana']\n",
            "['cherry', 'mango']\n",
            "['pineapple', 'orange']\n",
            "epoch:  4\n",
            "['apple', 'banana']\n",
            "['cherry', 'mango']\n",
            "['pineapple', 'orange']\n",
            "epoch:  5\n",
            "['apple', 'banana']\n",
            "['cherry', 'mango']\n",
            "['pineapple', 'orange']\n",
            "epoch:  6\n",
            "['apple', 'banana']\n",
            "['cherry', 'mango']\n",
            "['pineapple', 'orange']\n",
            "epoch:  7\n",
            "['apple', 'banana']\n",
            "['cherry', 'mango']\n",
            "['pineapple', 'orange']\n",
            "epoch:  8\n",
            "['apple', 'banana']\n",
            "['cherry', 'mango']\n",
            "['pineapple', 'orange']\n",
            "epoch:  9\n",
            "['apple', 'banana']\n",
            "['cherry', 'mango']\n",
            "['pineapple', 'orange']\n",
            "epoch:  10\n",
            "['apple', 'banana']\n",
            "['cherry', 'mango']\n",
            "['pineapple', 'orange']\n"
          ]
        }
      ]
    }
  ]
}