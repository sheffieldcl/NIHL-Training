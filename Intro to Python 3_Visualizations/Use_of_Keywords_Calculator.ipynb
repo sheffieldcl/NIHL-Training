{
  "nbformat": 4,
  "nbformat_minor": 0,
  "metadata": {
    "colab": {
      "provenance": []
    },
    "kernelspec": {
      "name": "python3",
      "display_name": "Python 3"
    },
    "language_info": {
      "name": "python"
    }
  },
  "cells": [
    {
      "cell_type": "code",
      "execution_count": null,
      "metadata": {
        "id": "-6xlLPDpr_Xa"
      },
      "outputs": [],
      "source": [
        "#Establishing our Colab notebook\n",
        "from google.colab import drive\n",
        "drive.mount('/content/drive')\n",
        "import os                                 #let's users interact with the native\n",
        "import pandas as pd\n",
        "#from google.colab import drive\n",
        "os.chdir(\"/content/drive/MyDrive/\")"
      ]
    },
    {
      "cell_type": "code",
      "source": [
        "\n"
      ],
      "metadata": {
        "id": "-KUV69uysFAZ"
      },
      "execution_count": null,
      "outputs": []
    },
    {
      "cell_type": "code",
      "source": [
        "#Code to count Mj_MeSH Terms from citations, Import csv file of MeSH Terms and export as counted terms\n",
        "Mj_MeSH_Terms = pd.read_csv('/content/drive/MyDrive/Random 50 Mj_MeSH Trial .csv')\n",
        "Mj_MeSH_Terms.value_counts().rename_axis('Mj_MeSH Terms').to_frame('Mj_MeSHcounts')\n",
        "Mj_MeSH_Counts_df = Mj_MeSH_Terms.value_counts().rename_axis('Mj_MeSH Terms').to_frame('Mj_MeSHcounts')\n",
        "print(Mj_MeSH_Counts_df) #use of MeSH Terms within collection of articles citing TBHD work\n",
        "Mj_MeSH_Counts_df.to_csv('/content/drive/MyDrive/Mj_MeSHCountedTerms.csv')"
      ],
      "metadata": {
        "id": "z62AouzhsYl4"
      },
      "execution_count": null,
      "outputs": []
    },
    {
      "cell_type": "code",
      "source": [
        "#Code to count MeSH Terms from citations, Import csv file of MeSH Terms and export as counted terms\n",
        "MeSH_Terms = pd.read_csv('/content/drive/MyDrive/Random 50 MeSH Trial .csv')\n",
        "MeSH_Terms.value_counts().rename_axis('MeSH Terms').to_frame('MeSHcounts')\n",
        "MeSH_Counts_df = MeSH_Terms.value_counts().rename_axis('MeSH Terms').to_frame('MeSHcounts')\n",
        "print(MeSH_Counts_df) #use of MeSH Terms within collection of articles citing TBHD work\n",
        "MeSH_Counts_df.to_csv('/content/drive/MyDrive/MeSHCountedTerms.csv')"
      ],
      "metadata": {
        "id": "XHBtJDY_sU1N"
      },
      "execution_count": null,
      "outputs": []
    },
    {
      "cell_type": "code",
      "source": [
        "#Code to count Other Terms from citations, Import csv file of MeSH Terms and export as counted terms\n",
        "OT_Terms = pd.read_csv('/content/drive/MyDrive/Random50 OT Trial.csv')\n",
        "OT_Terms.value_counts().rename_axis('OT Terms').to_frame('OTcounts')\n",
        "OT_Counts_df = OT_Terms.value_counts().rename_axis('OT Terms').to_frame('OTcounts')\n",
        "print(OT_Counts_df) #use of MeSH Terms within collection of articles citing TBHD work\n",
        "OT_Counts_df.to_csv('/content/drive/MyDrive/OTCountedTerms.csv')"
      ],
      "metadata": {
        "id": "3mceFuhlscJQ"
      },
      "execution_count": null,
      "outputs": []
    }
  ]
}