{
  "nbformat": 4,
  "nbformat_minor": 0,
  "metadata": {
    "colab": {
      "provenance": [],
      "include_colab_link": true
    },
    "kernelspec": {
      "name": "python3",
      "display_name": "Python 3"
    },
    "language_info": {
      "name": "python"
    }
  },
  "cells": [
    {
      "cell_type": "markdown",
      "metadata": {
        "id": "view-in-github",
        "colab_type": "text"
      },
      "source": [
        "<a href=\"https://colab.research.google.com/github/sheffieldcl/NIHL-Training/blob/Python-Training/Week2b_qz_Exception_Handling__(2).ipynb\" target=\"_parent\"><img src=\"https://colab.research.google.com/assets/colab-badge.svg\" alt=\"Open In Colab\"/></a>"
      ]
    },
    {
      "cell_type": "markdown",
      "source": [],
      "metadata": {
        "id": "zT5bBpe7Ip18"
      }
    },
    {
      "cell_type": "markdown",
      "source": [
        "# 1.Try-Except Block\n",
        "\n",
        "In Python, we use try and except blocks to handle exceptions. The code that could potentially cause an exception is put inside a try block. If an exception occurs, Python stops the code in the try block and jumps to the except block. Let's see this in action."
      ],
      "metadata": {
        "id": "ULqjWJIcmc6L"
      }
    },
    {
      "cell_type": "code",
      "source": [
        "try:\n",
        "    num = int(\"hello\")\n",
        "except ValueError:\n",
        "    print(\"That was not a number!\")"
      ],
      "metadata": {
        "id": "I07aXLS3sHql",
        "colab": {
          "base_uri": "https://localhost:8080/"
        },
        "outputId": "9359335f-9059-4f39-ef5f-c47c20a69156"
      },
      "execution_count": null,
      "outputs": [
        {
          "output_type": "stream",
          "name": "stdout",
          "text": [
            "That was not a number!\n"
          ]
        }
      ]
    },
    {
      "cell_type": "markdown",
      "source": [
        "Here, converting the string 'hello' to an integer throws a ValueError, which we catch and handle by printing a message to the user."
      ],
      "metadata": {
        "id": "ui5etMmellGN"
      }
    },
    {
      "cell_type": "code",
      "execution_count": null,
      "metadata": {
        "colab": {
          "base_uri": "https://localhost:8080/"
        },
        "id": "5KCZ1v_Skzft",
        "outputId": "a396a70b-7f85-4448-81af-4f7617cfffe0"
      },
      "outputs": [
        {
          "output_type": "stream",
          "name": "stdout",
          "text": [
            "That was not a number!\n",
            "This code runs no matter what.\n"
          ]
        }
      ],
      "source": [
        "try:\n",
        "    num = int(\"hello\")\n",
        "except ValueError:\n",
        "    print(\"That was not a number!\")\n",
        "finally:\n",
        "    print(\"This code runs no matter what.\")\n"
      ]
    },
    {
      "cell_type": "markdown",
      "source": [
        "The finally block is optional and, if present, will be executed regardless of whether an exception is caught or not.\n"
      ],
      "metadata": {
        "id": "NX6hNArkmgaj"
      }
    },
    {
      "cell_type": "markdown",
      "source": [
        "# 2.Handling Specific Exceptions\n",
        "\n",
        "Different types of exceptions can be handled using multiple except clauses. This allows us to respond to different exceptions in different ways.\n",
        "\n"
      ],
      "metadata": {
        "id": "ATq4taS1oY-O"
      }
    },
    {
      "cell_type": "code",
      "source": [
        "try:\n",
        "    result = 10 / 0\n",
        "except ZeroDivisionError:\n",
        "    print(\"Division by zero is not allowed.\")\n",
        "except Exception as e:\n",
        "    print(\"An error occurred:\", e)\n"
      ],
      "metadata": {
        "colab": {
          "base_uri": "https://localhost:8080/"
        },
        "id": "0Rd4yM1LoQEv",
        "outputId": "0de035c0-bb90-455d-f076-71aa613331f6"
      },
      "execution_count": null,
      "outputs": [
        {
          "output_type": "stream",
          "name": "stdout",
          "text": [
            "Division by zero is not allowed.\n"
          ]
        }
      ]
    },
    {
      "cell_type": "markdown",
      "source": [
        "In this example, we specifically catch and handle the ZeroDivisionError differently from other, more generic errors"
      ],
      "metadata": {
        "id": "pgelegJhodOA"
      }
    },
    {
      "cell_type": "code",
      "source": [
        "try:\n",
        "    data = [1, 2, 3]\n",
        "    index = int(input(\"Enter an index: \"))\n",
        "    print(data[index])\n",
        "except ValueError:\n",
        "    print(\"Please enter a valid integer.\")\n",
        "except IndexError:\n",
        "    print(\"That index is out of range.\")\n",
        "except Exception as e:\n",
        "    print(\"Unexpected error:\", e)\n"
      ],
      "metadata": {
        "colab": {
          "base_uri": "https://localhost:8080/"
        },
        "id": "8achWzmToo4X",
        "outputId": "22735147-5198-4fea-81cc-97c75138e527"
      },
      "execution_count": null,
      "outputs": [
        {
          "output_type": "stream",
          "name": "stdout",
          "text": [
            "Enter an index: 5\n",
            "That index is out of range.\n"
          ]
        }
      ]
    },
    {
      "cell_type": "markdown",
      "source": [
        "Here, we handle errors specifically related to invalid input and out-of-range indices, providing clear feedback for each case."
      ],
      "metadata": {
        "id": "zpe4VJ_WmH09"
      }
    },
    {
      "cell_type": "markdown",
      "source": [
        "# 3. Creating and Raising Custom Exceptions\n",
        "\n",
        "Sometimes, the built-in exceptions don't precisely describe the error scenario. In such cases, we can define our own exceptions."
      ],
      "metadata": {
        "id": "BNSjKWxporov"
      }
    },
    {
      "cell_type": "code",
      "source": [
        "class AgeError(Exception):\n",
        "    \"\"\"Custom exception for invalid age.\"\"\"\n",
        "    pass\n",
        "\n",
        "def check_age(age):\n",
        "    if age < 0:\n",
        "        raise AgeError(\"Age cannot be negative.\")\n",
        "    print(\"Valid age:\", age)\n",
        "\n",
        "try:\n",
        "    check_age(-5)\n",
        "except AgeError as e:\n",
        "    print(\"Error:\", e)"
      ],
      "metadata": {
        "colab": {
          "base_uri": "https://localhost:8080/"
        },
        "id": "PlpAI_wLpKY3",
        "outputId": "01527413-ad96-4ee9-e650-b4c3e21cbb3d"
      },
      "execution_count": null,
      "outputs": [
        {
          "output_type": "stream",
          "name": "stdout",
          "text": [
            "Error: Age cannot be negative.\n"
          ]
        }
      ]
    },
    {
      "cell_type": "markdown",
      "source": [
        "Here, we handle errors specifically related to invalid input and out-of-range indices, providing clear feedback for each case."
      ],
      "metadata": {
        "id": "QcF0ogGxnDbs"
      }
    },
    {
      "cell_type": "markdown",
      "source": [
        "This example shows how to create a custom exception AgeError to handle unrealistic negative age entries"
      ],
      "metadata": {
        "id": "IN3BbltunfUi"
      }
    },
    {
      "cell_type": "markdown",
      "source": [
        "That wraps up our session on exception handling. I hope this gives you a solid understanding of how to handle errors in Python. Remember, robust error handling is key to creating reliable and user-friendly applications. Now, I'd love to take any questions you might have."
      ],
      "metadata": {
        "id": "7v3WXdS_oIEf"
      }
    }
  ]
}