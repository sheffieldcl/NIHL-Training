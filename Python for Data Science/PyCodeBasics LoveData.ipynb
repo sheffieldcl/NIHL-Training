{
 "cells": [
  {
   "cell_type": "markdown",
   "id": "cfa95c1e-4dc9-4e39-a16c-99a754bc6043",
   "metadata": {
    "id": "cfa95c1e-4dc9-4e39-a16c-99a754bc6043"
   },
   "source": [
    "# Basic Code"
   ]
  },
  {
   "cell_type": "code",
   "execution_count": 20,
   "id": "fQL_wMD817vS",
   "metadata": {
    "colab": {
     "base_uri": "https://localhost:8080/"
    },
    "id": "fQL_wMD817vS",
    "outputId": "1bedd8bb-047a-4bcd-9c37-3607d4e6f7a2"
   },
   "outputs": [
    {
     "name": "stdout",
     "output_type": "stream",
     "text": [
      "Hello NIH\n",
      "4 6\n"
     ]
    }
   ],
   "source": [
    "str=\"Hello NIH\"\n",
    "print(str)\n",
    "\n",
    "x=4\n",
    "y=2*3\n",
    "print(x, y)"
   ]
  },
  {
   "cell_type": "markdown",
   "id": "41m7hH_3Ubtb",
   "metadata": {
    "id": "41m7hH_3Ubtb"
   },
   "source": [
    "## A Tuple - ordered and unchangable"
   ]
  },
  {
   "cell_type": "code",
   "execution_count": 21,
   "id": "moRgIUuEf7h9",
   "metadata": {
    "colab": {
     "base_uri": "https://localhost:8080/"
    },
    "id": "moRgIUuEf7h9",
    "outputId": "b07e90e4-5e44-46aa-a9f2-a0a2639876cf"
   },
   "outputs": [
    {
     "name": "stdout",
     "output_type": "stream",
     "text": [
      "('apples', 'bananas', 'cantaloupes', 'dates')\n"
     ]
    }
   ],
   "source": [
    "Fruits_tuple = (\"apples\", \"bananas\", \"cantaloupes\", \"dates\") #Create a tuple of fruits\n",
    "print(Fruits_tuple)"
   ]
  },
  {
   "cell_type": "markdown",
   "id": "BOPRBEZYUZhI",
   "metadata": {
    "id": "BOPRBEZYUZhI"
   },
   "source": [
    "## Loop"
   ]
  },
  {
   "cell_type": "code",
   "execution_count": 22,
   "id": "oDmeaIB7T24o",
   "metadata": {
    "colab": {
     "base_uri": "https://localhost:8080/"
    },
    "id": "oDmeaIB7T24o",
    "outputId": "a67db6d0-611c-442f-a1d5-c1cc21fdbdb7"
   },
   "outputs": [
    {
     "name": "stdout",
     "output_type": "stream",
     "text": [
      "['apples', 'bananas', 'cantaloupes', 'dates']\n",
      "['apples', 'bananas', 'cantaloupes', 'dates']\n",
      "['apples', 'bananas', 'cantaloupes', 'dates']\n",
      "['apples', 'bananas', 'cantaloupes', 'dates']\n",
      "['apples', 'bananas', 'cantaloupes', 'dates']\n",
      "['apples', 'bananas', 'cantaloupes', 'dates']\n"
     ]
    }
   ],
   "source": [
    "# i = the number of times the code will loop within the range of (0,6)\n",
    "fruit_list=['apples', 'bananas', 'cantaloupes', \"dates\"] #Loop for a list of fruits\n",
    "\n",
    "for i in range(0,6): #python starts at \"0\" and stops just before the last interval \"6\"\n",
    "    print(fruit_list)"
   ]
  },
  {
   "cell_type": "markdown",
   "id": "zQI00NtaUrqF",
   "metadata": {
    "id": "zQI00NtaUrqF",
    "tags": []
   },
   "source": [
    "### Another Loop"
   ]
  },
  {
   "cell_type": "markdown",
   "id": "cHdgNnUGPM4j",
   "metadata": {
    "id": "cHdgNnUGPM4j",
    "tags": []
   },
   "source": [
    "# i = the number of times the code will loop within the range of (0,6)\n",
    "fruit_list=['apples', 'bananas', 'cantaloupes', \"dates\"] #Loop for a list of fruits\n",
    "\n",
    "for i in range(0,1): #python starts at \"0\" and stops just before the last interval \"1\"\n",
    "    print(fruit_list)"
   ]
  },
  {
   "cell_type": "code",
   "execution_count": 23,
   "id": "hxz-Kyi3U8tY",
   "metadata": {
    "colab": {
     "base_uri": "https://localhost:8080/"
    },
    "id": "hxz-Kyi3U8tY",
    "outputId": "de830cde-c2d0-413f-fa9e-2018425b0b23",
    "tags": []
   },
   "outputs": [
    {
     "name": "stdout",
     "output_type": "stream",
     "text": [
      "4 is less than 6\n"
     ]
    }
   ],
   "source": [
    "if x<y:  #If statement to evaluate values\n",
    "  print(x, 'is less than', y)\n",
    "else:\n",
    "  print(x, 'is not less than', y)"
   ]
  },
  {
   "cell_type": "raw",
   "id": "a865d69a-dba2-4e70-a9a4-1aef21db3cb1",
   "metadata": {
    "tags": []
   },
   "source": [
    "### If Statement"
   ]
  },
  {
   "cell_type": "markdown",
   "id": "_906uiWLeh2R",
   "metadata": {
    "id": "_906uiWLeh2R"
   },
   "source": [
    "⌛:#Variables"
   ]
  },
  {
   "cell_type": "markdown",
   "id": "GxmSc5dB4Rko",
   "metadata": {
    "id": "GxmSc5dB4Rko"
   },
   "source": [
    "# One to Two Months of Focused Python Learning\n",
    "\n"
   ]
  },
  {
   "cell_type": "markdown",
   "id": "JQb8Cm-fx8t5",
   "metadata": {
    "id": "JQb8Cm-fx8t5"
   },
   "source": [
    "##Module 4 - Functions, String Manipulation and Regular Expressions (Qualitative Categorization expressions) -- Joyce Thompson, NICHD\n",
    "\n"
   ]
  },
  {
   "cell_type": "markdown",
   "id": "s7aO2vO-o_2D",
   "metadata": {
    "id": "s7aO2vO-o_2D"
   },
   "source": [
    "### Automated reports can be generated reflecting results from a data set that contains information about patients with or with out a diagnosis of cancer, and reported exposure to either smoking and glyphosate use."
   ]
  },
  {
   "cell_type": "code",
   "execution_count": 24,
   "id": "BhuLVbImyN4B",
   "metadata": {
    "colab": {
     "base_uri": "https://localhost:8080/"
    },
    "id": "BhuLVbImyN4B",
    "outputId": "b30a582c-a595-4852-d7e8-470358f68d62"
   },
   "outputs": [],
   "source": [
    "#Importing packages and mounting drive\n",
    "import pandas as pd\n",
    "import numpy as np\n",
    "import itertools"
   ]
  },
  {
   "cell_type": "code",
   "execution_count": 25,
   "id": "jA-JZUGaxmPO",
   "metadata": {
    "colab": {
     "base_uri": "https://localhost:8080/",
     "height": 206
    },
    "id": "jA-JZUGaxmPO",
    "outputId": "8d8de8c1-72fe-465f-fce8-4d4763a022b0",
    "scrolled": true
   },
   "outputs": [
    {
     "data": {
      "text/html": [
       "<div>\n",
       "<style scoped>\n",
       "    .dataframe tbody tr th:only-of-type {\n",
       "        vertical-align: middle;\n",
       "    }\n",
       "\n",
       "    .dataframe tbody tr th {\n",
       "        vertical-align: top;\n",
       "    }\n",
       "\n",
       "    .dataframe thead th {\n",
       "        text-align: right;\n",
       "    }\n",
       "</style>\n",
       "<table border=\"1\" class=\"dataframe\">\n",
       "  <thead>\n",
       "    <tr style=\"text-align: right;\">\n",
       "      <th></th>\n",
       "      <th>ID</th>\n",
       "      <th>LungCA</th>\n",
       "      <th>Gender</th>\n",
       "      <th>age</th>\n",
       "      <th>age_group</th>\n",
       "      <th>status</th>\n",
       "      <th>CigSmoke1</th>\n",
       "      <th>Cigarette_total</th>\n",
       "      <th>Glyphosate_use</th>\n",
       "      <th>Glyphosate_days</th>\n",
       "    </tr>\n",
       "  </thead>\n",
       "  <tbody>\n",
       "    <tr>\n",
       "      <th>0</th>\n",
       "      <td>1.0</td>\n",
       "      <td>1</td>\n",
       "      <td>1</td>\n",
       "      <td>75</td>\n",
       "      <td>4</td>\n",
       "      <td>2</td>\n",
       "      <td>1</td>\n",
       "      <td>0</td>\n",
       "      <td>0</td>\n",
       "      <td>0</td>\n",
       "    </tr>\n",
       "    <tr>\n",
       "      <th>1</th>\n",
       "      <td>1.1</td>\n",
       "      <td>0</td>\n",
       "      <td>1</td>\n",
       "      <td>70</td>\n",
       "      <td>3</td>\n",
       "      <td>2</td>\n",
       "      <td>1</td>\n",
       "      <td>0</td>\n",
       "      <td>0</td>\n",
       "      <td>0</td>\n",
       "    </tr>\n",
       "    <tr>\n",
       "      <th>2</th>\n",
       "      <td>1.2</td>\n",
       "      <td>0</td>\n",
       "      <td>1</td>\n",
       "      <td>72</td>\n",
       "      <td>3</td>\n",
       "      <td>2</td>\n",
       "      <td>1</td>\n",
       "      <td>0</td>\n",
       "      <td>0</td>\n",
       "      <td>0</td>\n",
       "    </tr>\n",
       "    <tr>\n",
       "      <th>3</th>\n",
       "      <td>2.0</td>\n",
       "      <td>1</td>\n",
       "      <td>0</td>\n",
       "      <td>58</td>\n",
       "      <td>2</td>\n",
       "      <td>2</td>\n",
       "      <td>0</td>\n",
       "      <td>246375</td>\n",
       "      <td>0</td>\n",
       "      <td>0</td>\n",
       "    </tr>\n",
       "    <tr>\n",
       "      <th>4</th>\n",
       "      <td>2.1</td>\n",
       "      <td>0</td>\n",
       "      <td>0</td>\n",
       "      <td>55</td>\n",
       "      <td>2</td>\n",
       "      <td>2</td>\n",
       "      <td>1</td>\n",
       "      <td>0</td>\n",
       "      <td>1</td>\n",
       "      <td>160</td>\n",
       "    </tr>\n",
       "  </tbody>\n",
       "</table>\n",
       "</div>"
      ],
      "text/plain": [
       "    ID  LungCA  Gender  age  age_group  status  CigSmoke1 Cigarette_total  \\\n",
       "0  1.0       1       1   75          4       2          1               0   \n",
       "1  1.1       0       1   70          3       2          1               0   \n",
       "2  1.2       0       1   72          3       2          1               0   \n",
       "3  2.0       1       0   58          2       2          0          246375   \n",
       "4  2.1       0       0   55          2       2          1               0   \n",
       "\n",
       "   Glyphosate_use  Glyphosate_days  \n",
       "0               0                0  \n",
       "1               0                0  \n",
       "2               0                0  \n",
       "3               0                0  \n",
       "4               1              160  "
      ]
     },
     "execution_count": 25,
     "metadata": {},
     "output_type": "execute_result"
    }
   ],
   "source": [
    "#Read-in dataset: removed first row\n",
    "dataJT = pd.read_csv(\"TrimmedData_JT.csv\")\n",
    "dataJT.head()"
   ]
  },
  {
   "cell_type": "code",
   "execution_count": 26,
   "id": "RMIwnYfGzLTO",
   "metadata": {
    "colab": {
     "base_uri": "https://localhost:8080/"
    },
    "id": "RMIwnYfGzLTO",
    "outputId": "4fd3795e-506a-48ef-a335-00bb85a4d953"
   },
   "outputs": [
    {
     "name": "stdout",
     "output_type": "stream",
     "text": [
      "ID                 float64\n",
      "LungCA               int64\n",
      "Gender               int64\n",
      "age                  int64\n",
      "age_group            int64\n",
      "status               int64\n",
      "CigSmoke1            int64\n",
      "Cigarette_total     object\n",
      "Glyphosate_use       int64\n",
      "Glyphosate_days      int64\n",
      "dtype: object\n"
     ]
    }
   ],
   "source": [
    "#What category are the values in each column\n",
    "print(dataJT.dtypes)"
   ]
  },
  {
   "cell_type": "markdown",
   "id": "1o75bClH2A-c",
   "metadata": {
    "id": "1o75bClH2A-c"
   },
   "source": [
    "A. Simple counts to categorize lung cancer cases\n",
    "\n"
   ]
  },
  {
   "cell_type": "code",
   "execution_count": 27,
   "id": "0TJdoFJYzTyk",
   "metadata": {
    "colab": {
     "base_uri": "https://localhost:8080/"
    },
    "id": "0TJdoFJYzTyk",
    "outputId": "05a55371-825a-4bf5-e84f-0f8d58a4fa30"
   },
   "outputs": [
    {
     "name": "stdout",
     "output_type": "stream",
     "text": [
      "233 people have lung cancer\n"
     ]
    }
   ],
   "source": [
    "#Count number of patients with Lung cancer\n",
    "df_LungCA = dataJT[\"LungCA\"]==1\n",
    "sum_LungCA = sum(df_LungCA)\n",
    "print (sum_LungCA, \"people have lung cancer\")"
   ]
  },
  {
   "cell_type": "code",
   "execution_count": 28,
   "id": "GWcMPEBDzg49",
   "metadata": {
    "colab": {
     "base_uri": "https://localhost:8080/"
    },
    "id": "GWcMPEBDzg49",
    "outputId": "c4815b49-0285-48cc-c19e-3cae815a67b2"
   },
   "outputs": [
    {
     "name": "stdout",
     "output_type": "stream",
     "text": [
      "447 people do not have lung cancer\n"
     ]
    }
   ],
   "source": [
    "#Count number of patients who don't have Lung cancer\n",
    "df_noLungCA = dataJT[\"LungCA\"]==0\n",
    "sum_noLungCA = sum(df_noLungCA)\n",
    "print (sum_noLungCA, \"people do not have lung cancer\")"
   ]
  },
  {
   "cell_type": "code",
   "execution_count": 29,
   "id": "xnkdR4J0zqJ6",
   "metadata": {
    "id": "xnkdR4J0zqJ6"
   },
   "outputs": [],
   "source": [
    "#Slice data by lung cancer status\n",
    "LungCA_positive = dataJT.loc[dataJT[\"LungCA\"]==1]\n",
    "LungCA_negative = dataJT.loc[dataJT[\"LungCA\"]==0]"
   ]
  },
  {
   "cell_type": "code",
   "execution_count": 30,
   "id": "R1ehncS3z51J",
   "metadata": {
    "colab": {
     "base_uri": "https://localhost:8080/"
    },
    "id": "R1ehncS3z51J",
    "outputId": "0ac223b2-43d1-48b4-b7ce-f9d254e40b33"
   },
   "outputs": [
    {
     "name": "stdout",
     "output_type": "stream",
     "text": [
      "135 males have lung cancer\n",
      "34 people younger than 55 years of age have lung cancer\n",
      "144  smokers have lung cancer\n",
      "97 glyphosphate users have lung cancer\n"
     ]
    }
   ],
   "source": [
    "#Count within people with lung cancer using forward loop\n",
    "n = [\"Gender\", \"age_group\", \"CigSmoke1\", \"Glyphosate_use\"]\n",
    "m = [\"males\", \"people younger than 55 years of age\", \" smokers\", \"glyphosphate users\"]\n",
    "for i,j in zip(n,m):\n",
    "  print(sum(LungCA_positive[i] ==1), j, \"have lung cancer\")"
   ]
  },
  {
   "cell_type": "code",
   "execution_count": 31,
   "id": "BATdAbKAz-IF",
   "metadata": {
    "colab": {
     "base_uri": "https://localhost:8080/"
    },
    "id": "BATdAbKAz-IF",
    "outputId": "e692419a-f794-46e6-b62d-3909977625fa"
   },
   "outputs": [
    {
     "name": "stdout",
     "output_type": "stream",
     "text": [
      "98 females have lung cancer\n",
      "199 people older than 54 years of age have lung cancer\n",
      "89  non-smokers have lung cancer\n",
      "136 non-glyphosphate users have lung cancer\n"
     ]
    }
   ],
   "source": [
    "#Count the number of females, people older than 54, non-smokers, and non-glyphsphate user who have cancer.\n",
    "n = [\"Gender\", \"age_group\", \"CigSmoke1\", \"Glyphosate_use\"]\n",
    "m = [\"females\", \"people older than 54 years of age\", \" non-smokers\", \"non-glyphosphate users\"]\n",
    "for i,j in zip(n,m):\n",
    "  print(sum(LungCA_positive[i] !=1), j, \"have lung cancer\")"
   ]
  },
  {
   "cell_type": "code",
   "execution_count": 32,
   "id": "8dOFjUEd0Hcn",
   "metadata": {
    "colab": {
     "base_uri": "https://localhost:8080/"
    },
    "id": "8dOFjUEd0Hcn",
    "outputId": "925316ec-7dad-4ba1-fbc9-b7093dab6a86"
   },
   "outputs": [
    {
     "name": "stdout",
     "output_type": "stream",
     "text": [
      "266 males do not have lung cancer\n",
      "71 people younger than 55 years of age do not have lung cancer\n",
      "298  smokers do not have lung cancer\n",
      "184 glyphosphate users do not have lung cancer\n"
     ]
    }
   ],
   "source": [
    "#Count within people with no lung cancer using forward loop\n",
    "n = [\"Gender\", \"age_group\", \"CigSmoke1\", \"Glyphosate_use\"]\n",
    "m = [\"males\", \"people younger than 55 years of age\", \" smokers\", \"glyphosphate users\"]\n",
    "for i,j in zip(n,m):\n",
    "  print(sum(LungCA_negative[i] ==1), j, \"do not have lung cancer\")"
   ]
  },
  {
   "cell_type": "code",
   "execution_count": 33,
   "id": "9RpYLW-C0N58",
   "metadata": {
    "colab": {
     "base_uri": "https://localhost:8080/"
    },
    "id": "9RpYLW-C0N58",
    "outputId": "4f95f15f-12bf-4cfb-fd6d-33d9e5fe5b8d"
   },
   "outputs": [
    {
     "name": "stdout",
     "output_type": "stream",
     "text": [
      "181 females do not have lung cancer\n",
      "376 people older than 54 years of age do not have lung cancer\n",
      "149  non-smokers do not have lung cancer\n",
      "263 non-glyphosphate users do not have lung cancer\n"
     ]
    }
   ],
   "source": [
    "n = [\"Gender\", \"age_group\", \"CigSmoke1\", \"Glyphosate_use\"]\n",
    "m = [\"females\", \"people older than 54 years of age\", \" non-smokers\", \"non-glyphosphate users\"]\n",
    "for i,j in zip(n,m):\n",
    "  print(sum(LungCA_negative[i] !=1), j, \"do not have lung cancer\")"
   ]
  },
  {
   "cell_type": "markdown",
   "id": "F1Fdag6i2xuy",
   "metadata": {
    "id": "F1Fdag6i2xuy"
   },
   "source": [
    "B. Is there equal representation within the different categories? Categorization using if-else statements"
   ]
  },
  {
   "cell_type": "code",
   "execution_count": 34,
   "id": "FvtJqnVD5MXC",
   "metadata": {
    "colab": {
     "base_uri": "https://localhost:8080/"
    },
    "id": "FvtJqnVD5MXC",
    "outputId": "4946957d-57e1-4c7d-d3c6-ea69a2294c88"
   },
   "outputs": [
    {
     "name": "stdout",
     "output_type": "stream",
     "text": [
      "Cancer group has more males\n",
      "Cancer group has more smokers\n",
      "Cancer group has more glyphosphate-non-users\n",
      "Control group has more males\n",
      "Control group has more smokers\n",
      "Control group has more glyphosphate-non-users\n",
      "Some age-groups may have equal number of people with lung cancer\n",
      "Control group has more people between age 65-74 yr\n"
     ]
    }
   ],
   "source": [
    "#Categorization of people with lung cancer using if-else statements\n",
    "gender = LungCA_positive[\"Gender\"]\n",
    "age_group = LungCA_positive[\"age_group\"]\n",
    "smoker = LungCA_positive[\"CigSmoke1\"]\n",
    "glyco = LungCA_positive[\"Glyphosate_use\"]\n",
    "\n",
    "\n",
    "if sum(gender == 1) > sum(gender != 1):\n",
    "  print(\"Cancer group has more males\")\n",
    "else:\n",
    "    print (\"Cancer group has more females\")\n",
    "\n",
    "if sum(smoker == 1) > sum(smoker != 1):\n",
    "  print(\"Cancer group has more smokers\")\n",
    "else:\n",
    "    print (\"Cancer group has more non-smokers\")\n",
    "\n",
    "if sum(glyco == 1) > sum(glyco != 1):\n",
    "  print(\"Cancer group has more glyphosphate-users\")\n",
    "else:\n",
    "    print (\"Cancer group has more glyphosphate-non-users\")\n",
    "\n",
    "\n",
    "#Categorization of people without lung cancer using if-else statements\n",
    "gender = LungCA_negative[\"Gender\"]\n",
    "age_group = LungCA_negative[\"age_group\"]\n",
    "smoker = LungCA_negative[\"CigSmoke1\"]\n",
    "glyco = LungCA_negative[\"Glyphosate_use\"]\n",
    "\n",
    "\n",
    "if sum(gender == 1) > sum(gender != 1):\n",
    "  print(\"Control group has more males\")\n",
    "else:\n",
    "    print (\"Control group has more females\")\n",
    "\n",
    "if sum(smoker == 1) > sum(smoker != 1):\n",
    "  print(\"Control group has more smokers\")\n",
    "else:\n",
    "    print (\"Control group has more non-smokers\")\n",
    "\n",
    "if sum(glyco == 1) > sum(glyco != 1):\n",
    "  print(\"Control group has more glyphosphate-users\")\n",
    "else:\n",
    "    print (\"Control group has more glyphosphate-non-users\")\n",
    "\n",
    "#Categorizing data based on age group\n",
    "#In People with Lung cancer\n",
    "age_grp1_JT = LungCA_positive[\"age_group\"] == 1\n",
    "age_grp2_JT = LungCA_positive[\"age_group\"] == 2\n",
    "age_grp3_JT = LungCA_positive[\"age_group\"] == 3\n",
    "age_grp4_JT = LungCA_positive[\"age_group\"] == 4\n",
    "\n",
    "if sum(age_grp1_JT) > sum(age_grp2_JT) and sum(age_grp1_JT) > sum(age_grp3_JT) and sum(age_grp1_JT) > sum(age_grp4_JT):\n",
    "  print(\"Cancer group has more people younger than 55yrs\")\n",
    "elif sum(age_grp2_JT) > sum(age_grp1_JT) and sum(age_grp2_JT) > sum(age_grp3_JT) and sum(age_grp2_JT) > sum(age_grp4_JT):\n",
    "  print(\"Cancer group has more people between age 55-64 yr\")\n",
    "elif sum(age_grp3_JT) > sum(age_grp1_JT) and sum(age_grp3_JT) > sum(age_grp2_JT) and sum(age_grp3_JT) > sum(age_grp4_JT):\n",
    "  print(\"Cancer group has more people between age 65-74 yr\")\n",
    "elif sum(age_grp4_JT) > sum(age_grp1_JT) and sum(age_grp4_JT) > sum(age_grp2_JT) and sum(age_grp4_JT) > sum(age_grp3_JT):\n",
    "  print(\"Cancer group has more people older than 75yrs\")\n",
    "else:\n",
    "    print (\"Some age-groups may have equal number of people with lung cancer\")\n",
    "\n",
    "#In People without Lung cancer\n",
    "age_grp1_JT = LungCA_negative[\"age_group\"] == 1\n",
    "age_grp2_JT = LungCA_negative[\"age_group\"] == 2\n",
    "age_grp3_JT = LungCA_negative[\"age_group\"] == 3\n",
    "age_grp4_JT = LungCA_negative[\"age_group\"] == 4\n",
    "\n",
    "if sum(age_grp1_JT) > sum(age_grp2_JT) and sum(age_grp1_JT) > sum(age_grp3_JT) and sum(age_grp1_JT) > sum(age_grp4_JT):\n",
    "  print(\"Control group has more people younger than 55yrs\")\n",
    "elif sum(age_grp2_JT) > sum(age_grp1_JT) and sum(age_grp2_JT) > sum(age_grp3_JT) and sum(age_grp2_JT) > sum(age_grp4_JT):\n",
    "  print(\"Control group has more people between age 55-64 yr\")\n",
    "elif sum(age_grp3_JT) > sum(age_grp1_JT) and sum(age_grp3_JT) > sum(age_grp2_JT) and sum(age_grp3_JT) > sum(age_grp4_JT):\n",
    "  print(\"Control group has more people between age 65-74 yr\")\n",
    "elif sum(age_grp4_JT) > sum(age_grp1_JT) and sum(age_grp4_JT) > sum(age_grp2_JT) and sum(age_grp4_JT) > sum(age_grp3_JT):\n",
    "  print(\"Control group has more people older than 75yrs\")\n",
    "else:\n",
    "    print (\"Some age-groups may have equal number of people without lung cancer\")"
   ]
  },
  {
   "cell_type": "markdown",
   "id": "63Yw5zf326qT",
   "metadata": {
    "id": "63Yw5zf326qT"
   },
   "source": [
    "C. Violin plot to qualitatively represent dataset"
   ]
  },
  {
   "cell_type": "code",
   "execution_count": 35,
   "id": "0dpOjWN5dK0H",
   "metadata": {
    "colab": {
     "base_uri": "https://localhost:8080/",
     "height": 497
    },
    "id": "0dpOjWN5dK0H",
    "outputId": "548771c5-12e5-46f8-ff22-e2bec133bfa4"
   },
   "outputs": [
    {
     "data": {
      "text/plain": [
       "Text(0.5, 1.0, 'Lung Cancer')"
      ]
     },
     "execution_count": 35,
     "metadata": {},
     "output_type": "execute_result"
    },
    {
     "data": {
      "image/png": "[encoded data removed]",
      "text/plain": [
       "<Figure size 432x288 with 1 Axes>"
      ]
     },
     "metadata": {},
     "output_type": "display_data"
    }
   ],
   "source": [
    "#showing lung cancer by gender using a violin plot\n",
    "import seaborn as sns\n",
    "import matplotlib.pyplot as plt\n",
    "\n",
    "sns.set_theme(style=\"whitegrid\")\n",
    "dataplot = LungCA_positive\n",
    "ax = sns.violinplot(x=dataplot[\"age_group\"], y=dataplot[\"CigSmoke1\"], hue=dataplot[\"Gender\"], split=True)\n",
    "ax.set_title(\"Lung Cancer\")\n"
   ]
  },
  {
   "cell_type": "code",
   "execution_count": 36,
   "id": "j5RLo8pndNHj",
   "metadata": {
    "colab": {
     "base_uri": "https://localhost:8080/",
     "height": 532
    },
    "id": "j5RLo8pndNHj",
    "outputId": "7ec974fa-9ea8-4590-f5cf-0ce89daba912"
   },
   "outputs": [
    {
     "data": {
      "text/plain": [
       "Text(0.5, 1.0, 'Control Group')"
      ]
     },
     "execution_count": 36,
     "metadata": {},
     "output_type": "execute_result"
    },
    {
     "data": {
      "image/png": "[encoded data removed]",
      "text/plain": [
       "<Figure size 432x288 with 1 Axes>"
      ]
     },
     "metadata": {},
     "output_type": "display_data"
    }
   ],
   "source": [
    "sns.set_theme(style=\"whitegrid\")\n",
    "dataplot2 = LungCA_negative\n",
    "ax = sns.violinplot(x=dataplot2[\"age_group\"], y=dataplot2[\"CigSmoke1\"], hue=dataplot2[\"Gender\"], split=True, palette=sns.color_palette('pastel'))\n",
    "ax.set_title(\"Control Group\")"
   ]
  },
  {
   "cell_type": "code",
   "execution_count": 37,
   "id": "jtBzhUoz8dHi",
   "metadata": {
    "id": "jtBzhUoz8dHi"
   },
   "outputs": [],
   "source": [
    "#these libraries are already running in this file, so you don't need to rerun unless this is in a separate .ipynb file.\n",
    "import pandas as pd #pandas library to perform math calculations and work with analytical apps\n",
    "import seaborn as sb #seaborn library making graphics; builds on matploblib\n",
    "##from google.colab import data_table\n",
    "\n"
   ]
  },
  {
   "cell_type": "code",
   "execution_count": 1,
   "id": "95b4Z7Ta8oHN",
   "metadata": {
    "colab": {
     "base_uri": "https://localhost:8080/",
     "height": 206
    },
    "id": "95b4Z7Ta8oHN",
    "outputId": "514a301f-7804-4702-c233-86f2d8a326a8"
   },
   "outputs": [
    {
     "ename": "NameError",
     "evalue": "name 'pd' is not defined",
     "output_type": "error",
     "traceback": [
      "\u001b[1;31m---------------------------------------------------------------------------\u001b[0m",
      "\u001b[1;31mNameError\u001b[0m                                 Traceback (most recent call last)",
      "Input \u001b[1;32mIn [1]\u001b[0m, in \u001b[0;36m<cell line: 2>\u001b[1;34m()\u001b[0m\n\u001b[0;32m      1\u001b[0m \u001b[38;5;66;03m#the iris data set is built into Python\u001b[39;00m\n\u001b[1;32m----> 2\u001b[0m iris \u001b[38;5;241m=\u001b[39m \u001b[43mpd\u001b[49m\u001b[38;5;241m.\u001b[39mread_csv(\u001b[38;5;124m'\u001b[39m\u001b[38;5;124mIrisDataSet.csv\u001b[39m\u001b[38;5;124m'\u001b[39m)\n\u001b[0;32m      3\u001b[0m iris\u001b[38;5;241m.\u001b[39mhead()\n",
      "\u001b[1;31mNameError\u001b[0m: name 'pd' is not defined"
     ]
    }
   ],
   "source": [
    "#the iris data set is built into Python\n",
    "iris = pd.read_csv('IrisDataSet.csv')\n",
    "iris.head() #list the first 5 rows of the Iris data set"
   ]
  },
  {
   "cell_type": "markdown",
   "id": "tH2hId6ee-Qo",
   "metadata": {
    "id": "tH2hId6ee-Qo"
   },
   "source": [
    "☝ #Data__<MyDrive/IrisDataSet>"
   ]
  },
  {
   "cell_type": "code",
   "execution_count": 4,
   "id": "vi-8FGrs_v3B",
   "metadata": {
    "colab": {
     "base_uri": "https://localhost:8080/",
     "height": 458
    },
    "id": "vi-8FGrs_v3B",
    "outputId": "f0c2706b-78f6-41dc-87bf-3a3383ac1cc3"
   },
   "outputs": [
    {
     "ename": "NameError",
     "evalue": "name 'sb' is not defined",
     "output_type": "error",
     "traceback": [
      "\u001b[1;31m---------------------------------------------------------------------------\u001b[0m",
      "\u001b[1;31mNameError\u001b[0m                                 Traceback (most recent call last)",
      "Input \u001b[1;32mIn [4]\u001b[0m, in \u001b[0;36m<cell line: 2>\u001b[1;34m()\u001b[0m\n\u001b[0;32m      1\u001b[0m \u001b[38;5;66;03m#Iris stripplot\u001b[39;00m\n\u001b[1;32m----> 2\u001b[0m \u001b[43msb\u001b[49m\u001b[38;5;241m.\u001b[39mstripplot(x \u001b[38;5;241m=\u001b[39m \u001b[38;5;124m\"\u001b[39m\u001b[38;5;124mspecies\u001b[39m\u001b[38;5;124m\"\u001b[39m, y \u001b[38;5;241m=\u001b[39m \u001b[38;5;124m\"\u001b[39m\u001b[38;5;124mpetal_length\u001b[39m\u001b[38;5;124m\"\u001b[39m, data \u001b[38;5;241m=\u001b[39m iris)\n\u001b[0;32m      3\u001b[0m plt\u001b[38;5;241m.\u001b[39mshow()\n",
      "\u001b[1;31mNameError\u001b[0m: name 'sb' is not defined"
     ]
    }
   ],
   "source": [
    "#Iris stripplot\n",
    "sb.stripplot(x = \"species\", y = \"petal_length\", data = iris)\n",
    "plt.show()"
   ]
  },
  {
   "cell_type": "code",
   "execution_count": null,
   "id": "2poz0k7L_vt4",
   "metadata": {
    "colab": {
     "base_uri": "https://localhost:8080/",
     "height": 472
    },
    "id": "2poz0k7L_vt4",
    "outputId": "7baf9f6e-20c6-4fb4-e908-dd92a8832801"
   },
   "outputs": [],
   "source": [
    "# Draw a boxplot to show bills by day and time\n",
    "sb.boxplot(x=\"species\", y=\"petal_length\", data=iris)\n",
    "sb.despine(offset=10, trim=True)"
   ]
  },
  {
   "cell_type": "code",
   "execution_count": null,
   "id": "WucmEFlf_z4P",
   "metadata": {
    "colab": {
     "base_uri": "https://localhost:8080/",
     "height": 472
    },
    "id": "WucmEFlf_z4P",
    "outputId": "f1d686a9-c872-42e4-a7e8-b0ea636e7833",
    "scrolled": true
   },
   "outputs": [],
   "source": [
    "# Draw a nested boxplot to show bills by day and time\n",
    "sb.histplot(x=\"species\", y=\"petal_length\", data=iris)\n",
    "sb.despine(offset=10, trim=True)"
   ]
  },
  {
   "cell_type": "code",
   "execution_count": null,
   "id": "460289d0-05fa-46dc-aae3-3ba3d43dca30",
   "metadata": {},
   "outputs": [],
   "source": []
  }
 ],
 "metadata": {
  "colab": {
   "provenance": []
  },
  "kernelspec": {
   "display_name": "Python 3 (ipykernel)",
   "language": "python",
   "name": "python3"
  },
  "language_info": {
   "codemirror_mode": {
    "name": "ipython",
    "version": 3
   },
   "file_extension": ".py",
   "mimetype": "text/x-python",
   "name": "python",
   "nbconvert_exporter": "python",
   "pygments_lexer": "ipython3",
   "version": "3.9.12"
  }
 },
 "nbformat": 4,
 "nbformat_minor": 5
}
