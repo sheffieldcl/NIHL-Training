{
  "cells": [
    {
      "cell_type": "code",
      "source": [
        "import os\n",
        "from google.colab import drive\n",
        "drive.mount('/content/drive/')"
      ],
      "metadata": {
        "id": "DQPm0yPA37oW",
        "colab": {
          "base_uri": "https://localhost:8080/"
        },
        "outputId": "f3934689-7abc-4824-cfb9-fb0fd5c5d60d"
      },
      "id": "DQPm0yPA37oW",
      "execution_count": null,
      "outputs": [
        {
          "output_type": "stream",
          "name": "stdout",
          "text": [
            "Mounted at /content/drive/\n"
          ]
        }
      ]
    },
    {
      "cell_type": "markdown",
      "id": "cfa95c1e-4dc9-4e39-a16c-99a754bc6043",
      "metadata": {
        "id": "cfa95c1e-4dc9-4e39-a16c-99a754bc6043"
      },
      "source": [
        "# Basic Code"
      ]
    },
    {
      "cell_type": "markdown",
      "source": [],
      "metadata": {
        "id": "7IlUBIO7826o"
      },
      "id": "7IlUBIO7826o"
    },
    {
      "cell_type": "code",
      "source": [
        "str=\"Hello NIH!\"\n",
        "print(str)\n",
        "\n",
        "x=4\n",
        "y=2*3\n",
        "print(x, y)"
      ],
      "metadata": {
        "id": "fQL_wMD817vS",
        "colab": {
          "base_uri": "https://localhost:8080/"
        },
        "outputId": "0f6b0a0f-3c6e-4067-f53c-b2e97b4b1c31"
      },
      "id": "fQL_wMD817vS",
      "execution_count": null,
      "outputs": [
        {
          "output_type": "stream",
          "name": "stdout",
          "text": [
            "Hello NIH!\n",
            "4 6\n"
          ]
        }
      ]
    },
    {
      "cell_type": "markdown",
      "source": [
        "## A Tuple - ordered and unchangable"
      ],
      "metadata": {
        "id": "41m7hH_3Ubtb"
      },
      "id": "41m7hH_3Ubtb"
    },
    {
      "cell_type": "code",
      "source": [
        "Fruits_tuple = (\"apples\", \"bananas\", \"cantaloupes\", \"dates\") #Create a tuple of fruits\n",
        "print(Fruits_tuple)"
      ],
      "metadata": {
        "id": "moRgIUuEf7h9",
        "colab": {
          "base_uri": "https://localhost:8080/"
        },
        "outputId": "00441b53-a829-4750-c1ec-aa9d0bb846c7"
      },
      "id": "moRgIUuEf7h9",
      "execution_count": null,
      "outputs": [
        {
          "output_type": "stream",
          "name": "stdout",
          "text": [
            "('apples', 'bananas', 'cantaloupes', 'dates')\n"
          ]
        }
      ]
    },
    {
      "cell_type": "markdown",
      "source": [
        "## Loop"
      ],
      "metadata": {
        "id": "BOPRBEZYUZhI"
      },
      "id": "BOPRBEZYUZhI"
    },
    {
      "cell_type": "code",
      "source": [
        "# i = the number of times the code will loop within the range of (0,6)\n",
        "fruit_list=['apples', 'bananas', 'cantaloupes', \"dates\"] #Loop for a list of fruits\n",
        "\n",
        "for i in range(0,6): #python starts at \"0\" and stops just before the last interval \"6\"\n",
        "    print(fruit_list)"
      ],
      "metadata": {
        "id": "oDmeaIB7T24o",
        "colab": {
          "base_uri": "https://localhost:8080/"
        },
        "outputId": "3b37c03b-5817-4081-f810-9f3faba99902"
      },
      "id": "oDmeaIB7T24o",
      "execution_count": null,
      "outputs": [
        {
          "output_type": "stream",
          "name": "stdout",
          "text": [
            "['apples', 'bananas', 'cantaloupes', 'dates']\n",
            "['apples', 'bananas', 'cantaloupes', 'dates']\n",
            "['apples', 'bananas', 'cantaloupes', 'dates']\n",
            "['apples', 'bananas', 'cantaloupes', 'dates']\n",
            "['apples', 'bananas', 'cantaloupes', 'dates']\n",
            "['apples', 'bananas', 'cantaloupes', 'dates']\n"
          ]
        }
      ]
    },
    {
      "cell_type": "markdown",
      "source": [
        "## Another Loop Example\n"
      ],
      "metadata": {
        "id": "qO_SOt9Cuztx"
      },
      "id": "qO_SOt9Cuztx"
    },
    {
      "cell_type": "code",
      "source": [
        "# i = the number of times the code will loop within the range of (0,6)\n",
        "fruit_list=['apples', 'bananas', 'cantaloupes', \"dates\"] #Loop for a list of fruits\n",
        "\n",
        "for i in range(0,1): #python starts at \"0\" and stops just before the last interval \"1\"\n",
        "    print(fruit_list)"
      ],
      "metadata": {
        "colab": {
          "base_uri": "https://localhost:8080/"
        },
        "id": "8wTaBWwluij_",
        "outputId": "f610d9ed-2f6c-4e69-d0f3-67be4e9c84c6"
      },
      "id": "8wTaBWwluij_",
      "execution_count": null,
      "outputs": [
        {
          "output_type": "stream",
          "name": "stdout",
          "text": [
            "['apples', 'bananas', 'cantaloupes', 'dates']\n"
          ]
        }
      ]
    },
    {
      "cell_type": "markdown",
      "source": [
        "### If Statement"
      ],
      "metadata": {
        "id": "zQI00NtaUrqF"
      },
      "id": "zQI00NtaUrqF"
    },
    {
      "cell_type": "markdown",
      "source": [],
      "metadata": {
        "id": "cHdgNnUGPM4j"
      },
      "id": "cHdgNnUGPM4j"
    },
    {
      "cell_type": "code",
      "source": [
        "if x<y:  #If statement to evaluate values\n",
        "  print(x, 'is less than', y)\n",
        "else:\n",
        "  print(x, 'is not less than', y)"
      ],
      "metadata": {
        "id": "hxz-Kyi3U8tY",
        "colab": {
          "base_uri": "https://localhost:8080/"
        },
        "outputId": "b466cc1a-4f41-4c9f-87f5-3adc8103be8e"
      },
      "id": "hxz-Kyi3U8tY",
      "execution_count": null,
      "outputs": [
        {
          "output_type": "stream",
          "name": "stdout",
          "text": [
            "6 is not less than 3\n"
          ]
        }
      ]
    },
    {
      "cell_type": "markdown",
      "source": [
        "⌛:#Variables"
      ],
      "metadata": {
        "id": "_906uiWLeh2R"
      },
      "id": "_906uiWLeh2R"
    },
    {
      "cell_type": "markdown",
      "source": [
        "# One to Two Months of Focused Python Learning\n",
        "\n"
      ],
      "metadata": {
        "id": "GxmSc5dB4Rko"
      },
      "id": "GxmSc5dB4Rko"
    },
    {
      "cell_type": "markdown",
      "source": [
        "##Module 4 - Functions, String Manipulation and Regular Expressions (Qualitative Categorization expressions) -- Joyce Thompson, NICHD\n",
        "\n"
      ],
      "metadata": {
        "id": "JQb8Cm-fx8t5"
      },
      "id": "JQb8Cm-fx8t5"
    },
    {
      "cell_type": "markdown",
      "source": [
        "### Automated reports can be generated reflecting results from a data set that contains information about patients with or with out a diagnosis of cancer, and reported exposure to either smoking and glyphosate use."
      ],
      "metadata": {
        "id": "s7aO2vO-o_2D"
      },
      "id": "s7aO2vO-o_2D"
    },
    {
      "cell_type": "code",
      "source": [
        "#Importing packages and mounting drive\n",
        "import pandas as pd\n",
        "import numpy as np\n",
        "import itertools\n",
        "drive.mount('/content/drive/')\n",
        "os.chdir(\"/content/drive/MyDrive/FAES_BIOF309/Shared Team 2\")"
      ],
      "metadata": {
        "id": "BhuLVbImyN4B",
        "colab": {
          "base_uri": "https://localhost:8080/"
        },
        "outputId": "322a5fa9-4124-4b53-95cd-7ae6b788e8ad"
      },
      "execution_count": null,
      "outputs": [
        {
          "output_type": "stream",
          "name": "stdout",
          "text": [
            "Drive already mounted at /content/drive/; to attempt to forcibly remount, call drive.mount(\"/content/drive/\", force_remount=True).\n"
          ]
        }
      ],
      "id": "BhuLVbImyN4B"
    },
    {
      "cell_type": "code",
      "source": [
        "#Read-in dataset: removed first row\n",
        "dataJT = pd.read_csv(\"/content/drive/MyDrive/FAES_BIOF309/Shared Team 2/TrimmedData_JT.csv\")\n",
        "dataJT.head()"
      ],
      "metadata": {
        "id": "jA-JZUGaxmPO",
        "colab": {
          "base_uri": "https://localhost:8080/",
          "height": 206
        },
        "outputId": "3630d14e-0f1e-4831-bcd2-1a672f69fb87"
      },
      "execution_count": null,
      "outputs": [
        {
          "output_type": "execute_result",
          "data": {
            "text/plain": [
              "    ID  LungCA  Gender  age  age_group  status  CigSmoke1 Cigarette_total  \\\n",
              "0  1.0       1       1   75          4       2          1               0   \n",
              "1  1.1       0       1   70          3       2          1               0   \n",
              "2  1.2       0       1   72          3       2          1               0   \n",
              "3  2.0       1       0   58          2       2          0          246375   \n",
              "4  2.1       0       0   55          2       2          1               0   \n",
              "\n",
              "   Glyphosate_use  Glyphosate_days  \n",
              "0               0                0  \n",
              "1               0                0  \n",
              "2               0                0  \n",
              "3               0                0  \n",
              "4               1              160  "
            ],
            "text/html": [
              "\n",
              "  <div id=\"df-9e513b8b-4260-4934-a968-f1510bb30a00\" class=\"colab-df-container\">\n",
              "    <div>\n",
              "<style scoped>\n",
              "    .dataframe tbody tr th:only-of-type {\n",
              "        vertical-align: middle;\n",
              "    }\n",
              "\n",
              "    .dataframe tbody tr th {\n",
              "        vertical-align: top;\n",
              "    }\n",
              "\n",
              "    .dataframe thead th {\n",
              "        text-align: right;\n",
              "    }\n",
              "</style>\n",
              "<table border=\"1\" class=\"dataframe\">\n",
              "  <thead>\n",
              "    <tr style=\"text-align: right;\">\n",
              "      <th></th>\n",
              "      <th>ID</th>\n",
              "      <th>LungCA</th>\n",
              "      <th>Gender</th>\n",
              "      <th>age</th>\n",
              "      <th>age_group</th>\n",
              "      <th>status</th>\n",
              "      <th>CigSmoke1</th>\n",
              "      <th>Cigarette_total</th>\n",
              "      <th>Glyphosate_use</th>\n",
              "      <th>Glyphosate_days</th>\n",
              "    </tr>\n",
              "  </thead>\n",
              "  <tbody>\n",
              "    <tr>\n",
              "      <th>0</th>\n",
              "      <td>1.0</td>\n",
              "      <td>1</td>\n",
              "      <td>1</td>\n",
              "      <td>75</td>\n",
              "      <td>4</td>\n",
              "      <td>2</td>\n",
              "      <td>1</td>\n",
              "      <td>0</td>\n",
              "      <td>0</td>\n",
              "      <td>0</td>\n",
              "    </tr>\n",
              "    <tr>\n",
              "      <th>1</th>\n",
              "      <td>1.1</td>\n",
              "      <td>0</td>\n",
              "      <td>1</td>\n",
              "      <td>70</td>\n",
              "      <td>3</td>\n",
              "      <td>2</td>\n",
              "      <td>1</td>\n",
              "      <td>0</td>\n",
              "      <td>0</td>\n",
              "      <td>0</td>\n",
              "    </tr>\n",
              "    <tr>\n",
              "      <th>2</th>\n",
              "      <td>1.2</td>\n",
              "      <td>0</td>\n",
              "      <td>1</td>\n",
              "      <td>72</td>\n",
              "      <td>3</td>\n",
              "      <td>2</td>\n",
              "      <td>1</td>\n",
              "      <td>0</td>\n",
              "      <td>0</td>\n",
              "      <td>0</td>\n",
              "    </tr>\n",
              "    <tr>\n",
              "      <th>3</th>\n",
              "      <td>2.0</td>\n",
              "      <td>1</td>\n",
              "      <td>0</td>\n",
              "      <td>58</td>\n",
              "      <td>2</td>\n",
              "      <td>2</td>\n",
              "      <td>0</td>\n",
              "      <td>246375</td>\n",
              "      <td>0</td>\n",
              "      <td>0</td>\n",
              "    </tr>\n",
              "    <tr>\n",
              "      <th>4</th>\n",
              "      <td>2.1</td>\n",
              "      <td>0</td>\n",
              "      <td>0</td>\n",
              "      <td>55</td>\n",
              "      <td>2</td>\n",
              "      <td>2</td>\n",
              "      <td>1</td>\n",
              "      <td>0</td>\n",
              "      <td>1</td>\n",
              "      <td>160</td>\n",
              "    </tr>\n",
              "  </tbody>\n",
              "</table>\n",
              "</div>\n",
              "    <div class=\"colab-df-buttons\">\n",
              "\n",
              "  <div class=\"colab-df-container\">\n",
              "    <button class=\"colab-df-convert\" onclick=\"convertToInteractive('df-9e513b8b-4260-4934-a968-f1510bb30a00')\"\n",
              "            title=\"Convert this dataframe to an interactive table.\"\n",
              "            style=\"display:none;\">\n",
              "\n",
              "  <svg xmlns=\"http://www.w3.org/2000/svg\" height=\"24px\" viewBox=\"0 -960 960 960\">\n",
              "    <path d=\"M120-120v-720h720v720H120Zm60-500h600v-160H180v160Zm220 220h160v-160H400v160Zm0 220h160v-160H400v160ZM180-400h160v-160H180v160Zm440 0h160v-160H620v160ZM180-180h160v-160H180v160Zm440 0h160v-160H620v160Z\"/>\n",
              "  </svg>\n",
              "    </button>\n",
              "\n",
              "  <style>\n",
              "    .colab-df-container {\n",
              "      display:flex;\n",
              "      gap: 12px;\n",
              "    }\n",
              "\n",
              "    .colab-df-convert {\n",
              "      background-color: #E8F0FE;\n",
              "      border: none;\n",
              "      border-radius: 50%;\n",
              "      cursor: pointer;\n",
              "      display: none;\n",
              "      fill: #1967D2;\n",
              "      height: 32px;\n",
              "      padding: 0 0 0 0;\n",
              "      width: 32px;\n",
              "    }\n",
              "\n",
              "    .colab-df-convert:hover {\n",
              "      background-color: #E2EBFA;\n",
              "      box-shadow: 0px 1px 2px rgba(60, 64, 67, 0.3), 0px 1px 3px 1px rgba(60, 64, 67, 0.15);\n",
              "      fill: #174EA6;\n",
              "    }\n",
              "\n",
              "    .colab-df-buttons div {\n",
              "      margin-bottom: 4px;\n",
              "    }\n",
              "\n",
              "    [theme=dark] .colab-df-convert {\n",
              "      background-color: #3B4455;\n",
              "      fill: #D2E3FC;\n",
              "    }\n",
              "\n",
              "    [theme=dark] .colab-df-convert:hover {\n",
              "      background-color: #434B5C;\n",
              "      box-shadow: 0px 1px 3px 1px rgba(0, 0, 0, 0.15);\n",
              "      filter: drop-shadow(0px 1px 2px rgba(0, 0, 0, 0.3));\n",
              "      fill: #FFFFFF;\n",
              "    }\n",
              "  </style>\n",
              "\n",
              "    <script>\n",
              "      const buttonEl =\n",
              "        document.querySelector('#df-9e513b8b-4260-4934-a968-f1510bb30a00 button.colab-df-convert');\n",
              "      buttonEl.style.display =\n",
              "        google.colab.kernel.accessAllowed ? 'block' : 'none';\n",
              "\n",
              "      async function convertToInteractive(key) {\n",
              "        const element = document.querySelector('#df-9e513b8b-4260-4934-a968-f1510bb30a00');\n",
              "        const dataTable =\n",
              "          await google.colab.kernel.invokeFunction('convertToInteractive',\n",
              "                                                    [key], {});\n",
              "        if (!dataTable) return;\n",
              "\n",
              "        const docLinkHtml = 'Like what you see? Visit the ' +\n",
              "          '<a target=\"_blank\" href=https://colab.research.google.com/notebooks/data_table.ipynb>data table notebook</a>'\n",
              "          + ' to learn more about interactive tables.';\n",
              "        element.innerHTML = '';\n",
              "        dataTable['output_type'] = 'display_data';\n",
              "        await google.colab.output.renderOutput(dataTable, element);\n",
              "        const docLink = document.createElement('div');\n",
              "        docLink.innerHTML = docLinkHtml;\n",
              "        element.appendChild(docLink);\n",
              "      }\n",
              "    </script>\n",
              "  </div>\n",
              "\n",
              "\n",
              "<div id=\"df-ee5b4710-fe77-48fb-885c-0277054446ab\">\n",
              "  <button class=\"colab-df-quickchart\" onclick=\"quickchart('df-ee5b4710-fe77-48fb-885c-0277054446ab')\"\n",
              "            title=\"Suggest charts\"\n",
              "            style=\"display:none;\">\n",
              "\n",
              "<svg xmlns=\"http://www.w3.org/2000/svg\" height=\"24px\"viewBox=\"0 0 24 24\"\n",
              "     width=\"24px\">\n",
              "    <g>\n",
              "        <path d=\"M19 3H5c-1.1 0-2 .9-2 2v14c0 1.1.9 2 2 2h14c1.1 0 2-.9 2-2V5c0-1.1-.9-2-2-2zM9 17H7v-7h2v7zm4 0h-2V7h2v10zm4 0h-2v-4h2v4z\"/>\n",
              "    </g>\n",
              "</svg>\n",
              "  </button>\n",
              "\n",
              "<style>\n",
              "  .colab-df-quickchart {\n",
              "      --bg-color: #E8F0FE;\n",
              "      --fill-color: #1967D2;\n",
              "      --hover-bg-color: #E2EBFA;\n",
              "      --hover-fill-color: #174EA6;\n",
              "      --disabled-fill-color: #AAA;\n",
              "      --disabled-bg-color: #DDD;\n",
              "  }\n",
              "\n",
              "  [theme=dark] .colab-df-quickchart {\n",
              "      --bg-color: #3B4455;\n",
              "      --fill-color: #D2E3FC;\n",
              "      --hover-bg-color: #434B5C;\n",
              "      --hover-fill-color: #FFFFFF;\n",
              "      --disabled-bg-color: #3B4455;\n",
              "      --disabled-fill-color: #666;\n",
              "  }\n",
              "\n",
              "  .colab-df-quickchart {\n",
              "    background-color: var(--bg-color);\n",
              "    border: none;\n",
              "    border-radius: 50%;\n",
              "    cursor: pointer;\n",
              "    display: none;\n",
              "    fill: var(--fill-color);\n",
              "    height: 32px;\n",
              "    padding: 0;\n",
              "    width: 32px;\n",
              "  }\n",
              "\n",
              "  .colab-df-quickchart:hover {\n",
              "    background-color: var(--hover-bg-color);\n",
              "    box-shadow: 0 1px 2px rgba(60, 64, 67, 0.3), 0 1px 3px 1px rgba(60, 64, 67, 0.15);\n",
              "    fill: var(--button-hover-fill-color);\n",
              "  }\n",
              "\n",
              "  .colab-df-quickchart-complete:disabled,\n",
              "  .colab-df-quickchart-complete:disabled:hover {\n",
              "    background-color: var(--disabled-bg-color);\n",
              "    fill: var(--disabled-fill-color);\n",
              "    box-shadow: none;\n",
              "  }\n",
              "\n",
              "  .colab-df-spinner {\n",
              "    border: 2px solid var(--fill-color);\n",
              "    border-color: transparent;\n",
              "    border-bottom-color: var(--fill-color);\n",
              "    animation:\n",
              "      spin 1s steps(1) infinite;\n",
              "  }\n",
              "\n",
              "  @keyframes spin {\n",
              "    0% {\n",
              "      border-color: transparent;\n",
              "      border-bottom-color: var(--fill-color);\n",
              "      border-left-color: var(--fill-color);\n",
              "    }\n",
              "    20% {\n",
              "      border-color: transparent;\n",
              "      border-left-color: var(--fill-color);\n",
              "      border-top-color: var(--fill-color);\n",
              "    }\n",
              "    30% {\n",
              "      border-color: transparent;\n",
              "      border-left-color: var(--fill-color);\n",
              "      border-top-color: var(--fill-color);\n",
              "      border-right-color: var(--fill-color);\n",
              "    }\n",
              "    40% {\n",
              "      border-color: transparent;\n",
              "      border-right-color: var(--fill-color);\n",
              "      border-top-color: var(--fill-color);\n",
              "    }\n",
              "    60% {\n",
              "      border-color: transparent;\n",
              "      border-right-color: var(--fill-color);\n",
              "    }\n",
              "    80% {\n",
              "      border-color: transparent;\n",
              "      border-right-color: var(--fill-color);\n",
              "      border-bottom-color: var(--fill-color);\n",
              "    }\n",
              "    90% {\n",
              "      border-color: transparent;\n",
              "      border-bottom-color: var(--fill-color);\n",
              "    }\n",
              "  }\n",
              "</style>\n",
              "\n",
              "  <script>\n",
              "    async function quickchart(key) {\n",
              "      const quickchartButtonEl =\n",
              "        document.querySelector('#' + key + ' button');\n",
              "      quickchartButtonEl.disabled = true;  // To prevent multiple clicks.\n",
              "      quickchartButtonEl.classList.add('colab-df-spinner');\n",
              "      try {\n",
              "        const charts = await google.colab.kernel.invokeFunction(\n",
              "            'suggestCharts', [key], {});\n",
              "      } catch (error) {\n",
              "        console.error('Error during call to suggestCharts:', error);\n",
              "      }\n",
              "      quickchartButtonEl.classList.remove('colab-df-spinner');\n",
              "      quickchartButtonEl.classList.add('colab-df-quickchart-complete');\n",
              "    }\n",
              "    (() => {\n",
              "      let quickchartButtonEl =\n",
              "        document.querySelector('#df-ee5b4710-fe77-48fb-885c-0277054446ab button');\n",
              "      quickchartButtonEl.style.display =\n",
              "        google.colab.kernel.accessAllowed ? 'block' : 'none';\n",
              "    })();\n",
              "  </script>\n",
              "</div>\n",
              "\n",
              "    </div>\n",
              "  </div>\n"
            ]
          },
          "metadata": {},
          "execution_count": 14
        }
      ],
      "id": "jA-JZUGaxmPO"
    },
    {
      "cell_type": "code",
      "source": [
        "#What category are the values in each column\n",
        "print(dataJT.dtypes)"
      ],
      "metadata": {
        "id": "RMIwnYfGzLTO",
        "colab": {
          "base_uri": "https://localhost:8080/"
        },
        "outputId": "4fd3795e-506a-48ef-a335-00bb85a4d953"
      },
      "execution_count": null,
      "outputs": [
        {
          "output_type": "stream",
          "name": "stdout",
          "text": [
            "ID                 float64\n",
            "LungCA               int64\n",
            "Gender               int64\n",
            "age                  int64\n",
            "age_group            int64\n",
            "status               int64\n",
            "CigSmoke1            int64\n",
            "Cigarette_total     object\n",
            "Glyphosate_use       int64\n",
            "Glyphosate_days      int64\n",
            "dtype: object\n"
          ]
        }
      ],
      "id": "RMIwnYfGzLTO"
    },
    {
      "cell_type": "markdown",
      "source": [
        "A. Simple counts to categorize lung cancer cases\n",
        "\n"
      ],
      "metadata": {
        "id": "1o75bClH2A-c"
      },
      "id": "1o75bClH2A-c"
    },
    {
      "cell_type": "code",
      "source": [
        "#Count number of patients with Lung cancer\n",
        "df_LungCA = dataJT[\"LungCA\"]==1\n",
        "sum_LungCA = sum(df_LungCA)\n",
        "print (sum_LungCA, \"people have lung cancer\")"
      ],
      "metadata": {
        "id": "0TJdoFJYzTyk",
        "colab": {
          "base_uri": "https://localhost:8080/"
        },
        "outputId": "05a55371-825a-4bf5-e84f-0f8d58a4fa30"
      },
      "execution_count": null,
      "outputs": [
        {
          "output_type": "stream",
          "name": "stdout",
          "text": [
            "233 people have lung cancer\n"
          ]
        }
      ],
      "id": "0TJdoFJYzTyk"
    },
    {
      "cell_type": "code",
      "source": [
        "#Count number of patients who don't have Lung cancer\n",
        "df_noLungCA = dataJT[\"LungCA\"]==0\n",
        "sum_noLungCA = sum(df_noLungCA)\n",
        "print (sum_noLungCA, \"people do not have lung cancer\")"
      ],
      "metadata": {
        "id": "GWcMPEBDzg49",
        "colab": {
          "base_uri": "https://localhost:8080/"
        },
        "outputId": "c4815b49-0285-48cc-c19e-3cae815a67b2"
      },
      "execution_count": null,
      "outputs": [
        {
          "output_type": "stream",
          "name": "stdout",
          "text": [
            "447 people do not have lung cancer\n"
          ]
        }
      ],
      "id": "GWcMPEBDzg49"
    },
    {
      "cell_type": "code",
      "source": [
        "#Slice data by lung cancer status\n",
        "LungCA_positive = dataJT.loc[dataJT[\"LungCA\"]==1]\n",
        "LungCA_negative = dataJT.loc[dataJT[\"LungCA\"]==0]"
      ],
      "metadata": {
        "id": "xnkdR4J0zqJ6"
      },
      "execution_count": null,
      "outputs": [],
      "id": "xnkdR4J0zqJ6"
    },
    {
      "cell_type": "code",
      "source": [
        "#Count within people with lung cancer using forward loop\n",
        "n = [\"Gender\", \"age_group\", \"CigSmoke1\", \"Glyphosate_use\"]\n",
        "m = [\"males\", \"people younger than 55 years of age\", \" smokers\", \"glyphosphate users\"]\n",
        "for i,j in zip(n,m):\n",
        "  print(sum(LungCA_positive[i] ==1), j, \"have lung cancer\")"
      ],
      "metadata": {
        "id": "R1ehncS3z51J",
        "colab": {
          "base_uri": "https://localhost:8080/"
        },
        "outputId": "ffbb5465-45c0-48d2-a9bd-5c0817912eeb"
      },
      "execution_count": null,
      "outputs": [
        {
          "output_type": "stream",
          "name": "stdout",
          "text": [
            "135 males have lung cancer\n",
            "34 people younger than 55 years of age have lung cancer\n",
            "144  smokers have lung cancer\n",
            "97 glyphosphate users have lung cancer\n"
          ]
        }
      ],
      "id": "R1ehncS3z51J"
    },
    {
      "cell_type": "code",
      "source": [
        "#Count the number of females, people older than 54, non-smokers, and non-glyphsphate user who have cancer.\n",
        "n = [\"Gender\", \"age_group\", \"CigSmoke1\", \"Glyphosate_use\"]\n",
        "m = [\"females\", \"people older than 54 years of age\", \" non-smokers\", \"non-glyphosphate users\"]\n",
        "for i,j in zip(n,m):\n",
        "  print(sum(LungCA_positive[i] !=1), j, \"have lung cancer\")"
      ],
      "metadata": {
        "id": "BATdAbKAz-IF",
        "colab": {
          "base_uri": "https://localhost:8080/"
        },
        "outputId": "3a909c4d-00f7-4eca-f67f-bbcad2f49a54"
      },
      "execution_count": null,
      "outputs": [
        {
          "output_type": "stream",
          "name": "stdout",
          "text": [
            "98 females have lung cancer\n",
            "199 people older than 54 years of age have lung cancer\n",
            "89  non-smokers have lung cancer\n",
            "136 non-glyphosphate users have lung cancer\n"
          ]
        }
      ],
      "id": "BATdAbKAz-IF"
    },
    {
      "cell_type": "code",
      "source": [
        "#Count within people with no lung cancer using forward loop\n",
        "n = [\"Gender\", \"age_group\", \"CigSmoke1\", \"Glyphosate_use\"]\n",
        "m = [\"males\", \"people younger than 55 years of age\", \" smokers\", \"glyphosphate users\"]\n",
        "for i,j in zip(n,m):\n",
        "  print(sum(LungCA_negative[i] ==1), j, \"do not have lung cancer\")"
      ],
      "metadata": {
        "id": "8dOFjUEd0Hcn",
        "colab": {
          "base_uri": "https://localhost:8080/"
        },
        "outputId": "64536903-a863-4402-a3b4-c7cff8efb20e"
      },
      "execution_count": null,
      "outputs": [
        {
          "output_type": "stream",
          "name": "stdout",
          "text": [
            "266 males do not have lung cancer\n",
            "71 people younger than 55 years of age do not have lung cancer\n",
            "298  smokers do not have lung cancer\n",
            "184 glyphosphate users do not have lung cancer\n"
          ]
        }
      ],
      "id": "8dOFjUEd0Hcn"
    },
    {
      "cell_type": "code",
      "source": [
        "n = [\"Gender\", \"age_group\", \"CigSmoke1\", \"Glyphosate_use\"]\n",
        "m = [\"females\", \"people older than 54 years of age\", \" non-smokers\", \"non-glyphosphate users\"]\n",
        "for i,j in zip(n,m):\n",
        "  print(sum(LungCA_negative[i] !=1), j, \"do not have lung cancer\")"
      ],
      "metadata": {
        "id": "9RpYLW-C0N58",
        "colab": {
          "base_uri": "https://localhost:8080/"
        },
        "outputId": "7b64c1f9-6e69-46d9-c9ef-c0c8310f0304"
      },
      "execution_count": null,
      "outputs": [
        {
          "output_type": "stream",
          "name": "stdout",
          "text": [
            "181 females do not have lung cancer\n",
            "376 people older than 54 years of age do not have lung cancer\n",
            "149  non-smokers do not have lung cancer\n",
            "263 non-glyphosphate users do not have lung cancer\n"
          ]
        }
      ],
      "id": "9RpYLW-C0N58"
    },
    {
      "cell_type": "markdown",
      "source": [
        "B. Is there equal representation within the different categories? Categorization using if-else statements"
      ],
      "metadata": {
        "id": "F1Fdag6i2xuy"
      },
      "id": "F1Fdag6i2xuy"
    },
    {
      "cell_type": "code",
      "source": [
        "#Categorization of people with lung cancer using if-else statements\n",
        "gender = LungCA_positive[\"Gender\"]\n",
        "age_group = LungCA_positive[\"age_group\"]\n",
        "smoker = LungCA_positive[\"CigSmoke1\"]\n",
        "glyco = LungCA_positive[\"Glyphosate_use\"]\n",
        "\n",
        "\n",
        "if sum(gender == 1) > sum(gender != 1):\n",
        "  print(\"Cancer group has more males\")\n",
        "else:\n",
        "    print (\"Cancer group has more females\")\n",
        "\n",
        "if sum(smoker == 1) > sum(smoker != 1):\n",
        "  print(\"Cancer group has more smokers\")\n",
        "else:\n",
        "    print (\"Cancer group has more non-smokers\")\n",
        "\n",
        "if sum(glyco == 1) > sum(glyco != 1):\n",
        "  print(\"Cancer group has more glyphosphate-users\")\n",
        "else:\n",
        "    print (\"Cancer group has more glyphosphate-non-users\")\n",
        "\n",
        "\n",
        "#Categorization of people without lung cancer using if-else statements\n",
        "gender = LungCA_negative[\"Gender\"]\n",
        "age_group = LungCA_negative[\"age_group\"]\n",
        "smoker = LungCA_negative[\"CigSmoke1\"]\n",
        "glyco = LungCA_negative[\"Glyphosate_use\"]\n",
        "\n",
        "\n",
        "if sum(gender == 1) > sum(gender != 1):\n",
        "  print(\"Control group has more males\")\n",
        "else:\n",
        "    print (\"Control group has more females\")\n",
        "\n",
        "if sum(smoker == 1) > sum(smoker != 1):\n",
        "  print(\"Control group has more smokers\")\n",
        "else:\n",
        "    print (\"Control group has more non-smokers\")\n",
        "\n",
        "if sum(glyco == 1) > sum(glyco != 1):\n",
        "  print(\"Control group has more glyphosphate-users\")\n",
        "else:\n",
        "    print (\"Control group has more glyphosphate-non-users\")\n",
        "\n",
        "#Categorizing data based on age group\n",
        "#In People with Lung cancer\n",
        "age_grp1_JT = LungCA_positive[\"age_group\"] == 1\n",
        "age_grp2_JT = LungCA_positive[\"age_group\"] == 2\n",
        "age_grp3_JT = LungCA_positive[\"age_group\"] == 3\n",
        "age_grp4_JT = LungCA_positive[\"age_group\"] == 4\n",
        "\n",
        "if sum(age_grp1_JT) > sum(age_grp2_JT) and sum(age_grp1_JT) > sum(age_grp3_JT) and sum(age_grp1_JT) > sum(age_grp4_JT):\n",
        "  print(\"Cancer group has more people younger than 55yrs\")\n",
        "elif sum(age_grp2_JT) > sum(age_grp1_JT) and sum(age_grp2_JT) > sum(age_grp3_JT) and sum(age_grp2_JT) > sum(age_grp4_JT):\n",
        "  print(\"Cancer group has more people between age 55-64 yr\")\n",
        "elif sum(age_grp3_JT) > sum(age_grp1_JT) and sum(age_grp3_JT) > sum(age_grp2_JT) and sum(age_grp3_JT) > sum(age_grp4_JT):\n",
        "  print(\"Cancer group has more people between age 65-74 yr\")\n",
        "elif sum(age_grp4_JT) > sum(age_grp1_JT) and sum(age_grp4_JT) > sum(age_grp2_JT) and sum(age_grp4_JT) > sum(age_grp3_JT):\n",
        "  print(\"Cancer group has more people older than 75yrs\")\n",
        "else:\n",
        "    print (\"Some age-groups may have equal number of people with lung cancer\")\n",
        "\n",
        "#In People without Lung cancer\n",
        "age_grp1_JT = LungCA_negative[\"age_group\"] == 1\n",
        "age_grp2_JT = LungCA_negative[\"age_group\"] == 2\n",
        "age_grp3_JT = LungCA_negative[\"age_group\"] == 3\n",
        "age_grp4_JT = LungCA_negative[\"age_group\"] == 4\n",
        "\n",
        "if sum(age_grp1_JT) > sum(age_grp2_JT) and sum(age_grp1_JT) > sum(age_grp3_JT) and sum(age_grp1_JT) > sum(age_grp4_JT):\n",
        "  print(\"Control group has more people younger than 55yrs\")\n",
        "elif sum(age_grp2_JT) > sum(age_grp1_JT) and sum(age_grp2_JT) > sum(age_grp3_JT) and sum(age_grp2_JT) > sum(age_grp4_JT):\n",
        "  print(\"Control group has more people between age 55-64 yr\")\n",
        "elif sum(age_grp3_JT) > sum(age_grp1_JT) and sum(age_grp3_JT) > sum(age_grp2_JT) and sum(age_grp3_JT) > sum(age_grp4_JT):\n",
        "  print(\"Control group has more people between age 65-74 yr\")\n",
        "elif sum(age_grp4_JT) > sum(age_grp1_JT) and sum(age_grp4_JT) > sum(age_grp2_JT) and sum(age_grp4_JT) > sum(age_grp3_JT):\n",
        "  print(\"Control group has more people older than 75yrs\")\n",
        "else:\n",
        "    print (\"Some age-groups may have equal number of people without lung cancer\")"
      ],
      "metadata": {
        "id": "FvtJqnVD5MXC",
        "colab": {
          "base_uri": "https://localhost:8080/"
        },
        "outputId": "d2f0b3ef-e8e4-401c-90f1-d785db32fa77"
      },
      "execution_count": null,
      "outputs": [
        {
          "output_type": "stream",
          "name": "stdout",
          "text": [
            "Cancer group has more males\n",
            "Cancer group has more smokers\n",
            "Cancer group has more glyphosphate-non-users\n",
            "Control group has more males\n",
            "Control group has more smokers\n",
            "Control group has more glyphosphate-non-users\n",
            "Some age-groups may have equal number of people with lung cancer\n",
            "Control group has more people between age 65-74 yr\n"
          ]
        }
      ],
      "id": "FvtJqnVD5MXC"
    },
    {
      "cell_type": "markdown",
      "source": [
        "C. Violin plot to qualitatively represent dataset"
      ],
      "metadata": {
        "id": "63Yw5zf326qT"
      },
      "id": "63Yw5zf326qT"
    },
    {
      "cell_type": "code",
      "source": [
        "#showing lung cancer by gender using a violin plot\n",
        "import seaborn as sns\n",
        "import matplotlib.pyplot as plt\n",
        "\n",
        "sns.set_theme(style=\"whitegrid\")\n",
        "dataplot = LungCA_positive\n",
        "ax = sns.violinplot(x=dataplot[\"age_group\"], y=dataplot[\"CigSmoke1\"], hue=dataplot[\"Gender\"], split=True)\n",
        "ax.set_title(\"Lung Cancer\")\n"
      ],
      "metadata": {
        "id": "0dpOjWN5dK0H",
        "colab": {
          "base_uri": "https://localhost:8080/",
          "height": 497
        },
        "outputId": "9dabb481-ba88-48e4-cdcb-f59af2e97aaf"
      },
      "execution_count": null,
      "outputs": [
        {
          "output_type": "execute_result",
          "data": {
            "text/plain": [
              "Text(0.5, 1.0, 'Lung Cancer')"
            ]
          },
          "metadata": {},
          "execution_count": 23
        },
        {
          "output_type": "display_data",
          "data": {
            "text/plain": [
              "<Figure size 640x480 with 1 Axes>"
            ],
            "image/png": "[encoded data removed]"
          },
          "metadata": {}
        }
      ],
      "id": "0dpOjWN5dK0H"
    },
    {
      "cell_type": "code",
      "source": [
        "sns.set_theme(style=\"whitegrid\")\n",
        "dataplot2 = LungCA_negative\n",
        "ax = sns.violinplot(x=dataplot2[\"age_group\"], y=dataplot2[\"CigSmoke1\"], hue=dataplot2[\"Gender\"], split=True, palette=sns.color_palette('pastel'))\n",
        "ax.set_title(\"Control Group\")"
      ],
      "metadata": {
        "id": "j5RLo8pndNHj",
        "colab": {
          "base_uri": "https://localhost:8080/",
          "height": 532
        },
        "outputId": "1805d31b-51ba-4023-c7da-78812137b89b"
      },
      "execution_count": null,
      "outputs": [
        {
          "output_type": "stream",
          "name": "stderr",
          "text": [
            "<ipython-input-24-e34574053eae>:3: UserWarning: The palette list has more values (10) than needed (2), which may not be intended.\n",
            "  ax = sns.violinplot(x=dataplot2[\"age_group\"], y=dataplot2[\"CigSmoke1\"], hue=dataplot2[\"Gender\"], split=True, palette=sns.color_palette('pastel'))\n"
          ]
        },
        {
          "output_type": "execute_result",
          "data": {
            "text/plain": [
              "Text(0.5, 1.0, 'Control Group')"
            ]
          },
          "metadata": {},
          "execution_count": 24
        },
        {
          "output_type": "display_data",
          "data": {
            "text/plain": [
              "<Figure size 640x480 with 1 Axes>"
            ],
            "image/png": "[encoded data removed]"
          },
          "metadata": {}
        }
      ],
      "id": "j5RLo8pndNHj"
    },
    {
      "cell_type": "code",
      "source": [
        "import os\n",
        "from google.colab import drive\n",
        "drive.mount('/content/drive/')\n",
        "os.chdir(\"/content/drive/MyDrive/\")"
      ],
      "metadata": {
        "id": "9Q6Hy9X19Kv0",
        "colab": {
          "base_uri": "https://localhost:8080/"
        },
        "outputId": "3c09675e-8cf1-432a-e8cb-0f09beeb0e72"
      },
      "id": "9Q6Hy9X19Kv0",
      "execution_count": null,
      "outputs": [
        {
          "output_type": "stream",
          "name": "stdout",
          "text": [
            "Drive already mounted at /content/drive/; to attempt to forcibly remount, call drive.mount(\"/content/drive/\", force_remount=True).\n"
          ]
        }
      ]
    },
    {
      "cell_type": "code",
      "source": [
        "import pandas as pd #pandas library to perform math calculations and work with analytical apps\n",
        "import seaborn as sb #seaborn library making graphics; builds on matploblib\n",
        "##from google.colab import data_table\n",
        "\n"
      ],
      "metadata": {
        "id": "jtBzhUoz8dHi"
      },
      "id": "jtBzhUoz8dHi",
      "execution_count": null,
      "outputs": []
    },
    {
      "cell_type": "code",
      "source": [
        "iris = pd.read_csv('IrisDataSet.csv') #read csv file 'iris' using pandas\n",
        "iris.head() #list the first 5 rows of the Iris data set"
      ],
      "metadata": {
        "id": "95b4Z7Ta8oHN",
        "colab": {
          "base_uri": "https://localhost:8080/",
          "height": 206
        },
        "outputId": "bf7b9287-856b-4ecf-b183-5b9c0e2e035c"
      },
      "id": "95b4Z7Ta8oHN",
      "execution_count": null,
      "outputs": [
        {
          "output_type": "execute_result",
          "data": {
            "text/plain": [
              "   sepal_length  sepal_width  petal_length  petal_width species  species_id\n",
              "0           5.1          3.5           1.4          0.2  setosa           1\n",
              "1           4.9          3.0           1.4          0.2  setosa           1\n",
              "2           4.7          3.2           1.3          0.2  setosa           1\n",
              "3           4.6          3.1           1.5          0.2  setosa           1\n",
              "4           5.0          3.6           1.4          0.2  setosa           1"
            ],
            "text/html": [
              "\n",
              "  <div id=\"df-48c3da5e-4b42-4d7b-a574-0e8e86d82de2\" class=\"colab-df-container\">\n",
              "    <div>\n",
              "<style scoped>\n",
              "    .dataframe tbody tr th:only-of-type {\n",
              "        vertical-align: middle;\n",
              "    }\n",
              "\n",
              "    .dataframe tbody tr th {\n",
              "        vertical-align: top;\n",
              "    }\n",
              "\n",
              "    .dataframe thead th {\n",
              "        text-align: right;\n",
              "    }\n",
              "</style>\n",
              "<table border=\"1\" class=\"dataframe\">\n",
              "  <thead>\n",
              "    <tr style=\"text-align: right;\">\n",
              "      <th></th>\n",
              "      <th>sepal_length</th>\n",
              "      <th>sepal_width</th>\n",
              "      <th>petal_length</th>\n",
              "      <th>petal_width</th>\n",
              "      <th>species</th>\n",
              "      <th>species_id</th>\n",
              "    </tr>\n",
              "  </thead>\n",
              "  <tbody>\n",
              "    <tr>\n",
              "      <th>0</th>\n",
              "      <td>5.1</td>\n",
              "      <td>3.5</td>\n",
              "      <td>1.4</td>\n",
              "      <td>0.2</td>\n",
              "      <td>setosa</td>\n",
              "      <td>1</td>\n",
              "    </tr>\n",
              "    <tr>\n",
              "      <th>1</th>\n",
              "      <td>4.9</td>\n",
              "      <td>3.0</td>\n",
              "      <td>1.4</td>\n",
              "      <td>0.2</td>\n",
              "      <td>setosa</td>\n",
              "      <td>1</td>\n",
              "    </tr>\n",
              "    <tr>\n",
              "      <th>2</th>\n",
              "      <td>4.7</td>\n",
              "      <td>3.2</td>\n",
              "      <td>1.3</td>\n",
              "      <td>0.2</td>\n",
              "      <td>setosa</td>\n",
              "      <td>1</td>\n",
              "    </tr>\n",
              "    <tr>\n",
              "      <th>3</th>\n",
              "      <td>4.6</td>\n",
              "      <td>3.1</td>\n",
              "      <td>1.5</td>\n",
              "      <td>0.2</td>\n",
              "      <td>setosa</td>\n",
              "      <td>1</td>\n",
              "    </tr>\n",
              "    <tr>\n",
              "      <th>4</th>\n",
              "      <td>5.0</td>\n",
              "      <td>3.6</td>\n",
              "      <td>1.4</td>\n",
              "      <td>0.2</td>\n",
              "      <td>setosa</td>\n",
              "      <td>1</td>\n",
              "    </tr>\n",
              "  </tbody>\n",
              "</table>\n",
              "</div>\n",
              "    <div class=\"colab-df-buttons\">\n",
              "\n",
              "  <div class=\"colab-df-container\">\n",
              "    <button class=\"colab-df-convert\" onclick=\"convertToInteractive('df-48c3da5e-4b42-4d7b-a574-0e8e86d82de2')\"\n",
              "            title=\"Convert this dataframe to an interactive table.\"\n",
              "            style=\"display:none;\">\n",
              "\n",
              "  <svg xmlns=\"http://www.w3.org/2000/svg\" height=\"24px\" viewBox=\"0 -960 960 960\">\n",
              "    <path d=\"M120-120v-720h720v720H120Zm60-500h600v-160H180v160Zm220 220h160v-160H400v160Zm0 220h160v-160H400v160ZM180-400h160v-160H180v160Zm440 0h160v-160H620v160ZM180-180h160v-160H180v160Zm440 0h160v-160H620v160Z\"/>\n",
              "  </svg>\n",
              "    </button>\n",
              "\n",
              "  <style>\n",
              "    .colab-df-container {\n",
              "      display:flex;\n",
              "      gap: 12px;\n",
              "    }\n",
              "\n",
              "    .colab-df-convert {\n",
              "      background-color: #E8F0FE;\n",
              "      border: none;\n",
              "      border-radius: 50%;\n",
              "      cursor: pointer;\n",
              "      display: none;\n",
              "      fill: #1967D2;\n",
              "      height: 32px;\n",
              "      padding: 0 0 0 0;\n",
              "      width: 32px;\n",
              "    }\n",
              "\n",
              "    .colab-df-convert:hover {\n",
              "      background-color: #E2EBFA;\n",
              "      box-shadow: 0px 1px 2px rgba(60, 64, 67, 0.3), 0px 1px 3px 1px rgba(60, 64, 67, 0.15);\n",
              "      fill: #174EA6;\n",
              "    }\n",
              "\n",
              "    .colab-df-buttons div {\n",
              "      margin-bottom: 4px;\n",
              "    }\n",
              "\n",
              "    [theme=dark] .colab-df-convert {\n",
              "      background-color: #3B4455;\n",
              "      fill: #D2E3FC;\n",
              "    }\n",
              "\n",
              "    [theme=dark] .colab-df-convert:hover {\n",
              "      background-color: #434B5C;\n",
              "      box-shadow: 0px 1px 3px 1px rgba(0, 0, 0, 0.15);\n",
              "      filter: drop-shadow(0px 1px 2px rgba(0, 0, 0, 0.3));\n",
              "      fill: #FFFFFF;\n",
              "    }\n",
              "  </style>\n",
              "\n",
              "    <script>\n",
              "      const buttonEl =\n",
              "        document.querySelector('#df-48c3da5e-4b42-4d7b-a574-0e8e86d82de2 button.colab-df-convert');\n",
              "      buttonEl.style.display =\n",
              "        google.colab.kernel.accessAllowed ? 'block' : 'none';\n",
              "\n",
              "      async function convertToInteractive(key) {\n",
              "        const element = document.querySelector('#df-48c3da5e-4b42-4d7b-a574-0e8e86d82de2');\n",
              "        const dataTable =\n",
              "          await google.colab.kernel.invokeFunction('convertToInteractive',\n",
              "                                                    [key], {});\n",
              "        if (!dataTable) return;\n",
              "\n",
              "        const docLinkHtml = 'Like what you see? Visit the ' +\n",
              "          '<a target=\"_blank\" href=https://colab.research.google.com/notebooks/data_table.ipynb>data table notebook</a>'\n",
              "          + ' to learn more about interactive tables.';\n",
              "        element.innerHTML = '';\n",
              "        dataTable['output_type'] = 'display_data';\n",
              "        await google.colab.output.renderOutput(dataTable, element);\n",
              "        const docLink = document.createElement('div');\n",
              "        docLink.innerHTML = docLinkHtml;\n",
              "        element.appendChild(docLink);\n",
              "      }\n",
              "    </script>\n",
              "  </div>\n",
              "\n",
              "\n",
              "<div id=\"df-07e8bf46-0e15-4f44-876d-2144d77adac1\">\n",
              "  <button class=\"colab-df-quickchart\" onclick=\"quickchart('df-07e8bf46-0e15-4f44-876d-2144d77adac1')\"\n",
              "            title=\"Suggest charts\"\n",
              "            style=\"display:none;\">\n",
              "\n",
              "<svg xmlns=\"http://www.w3.org/2000/svg\" height=\"24px\"viewBox=\"0 0 24 24\"\n",
              "     width=\"24px\">\n",
              "    <g>\n",
              "        <path d=\"M19 3H5c-1.1 0-2 .9-2 2v14c0 1.1.9 2 2 2h14c1.1 0 2-.9 2-2V5c0-1.1-.9-2-2-2zM9 17H7v-7h2v7zm4 0h-2V7h2v10zm4 0h-2v-4h2v4z\"/>\n",
              "    </g>\n",
              "</svg>\n",
              "  </button>\n",
              "\n",
              "<style>\n",
              "  .colab-df-quickchart {\n",
              "      --bg-color: #E8F0FE;\n",
              "      --fill-color: #1967D2;\n",
              "      --hover-bg-color: #E2EBFA;\n",
              "      --hover-fill-color: #174EA6;\n",
              "      --disabled-fill-color: #AAA;\n",
              "      --disabled-bg-color: #DDD;\n",
              "  }\n",
              "\n",
              "  [theme=dark] .colab-df-quickchart {\n",
              "      --bg-color: #3B4455;\n",
              "      --fill-color: #D2E3FC;\n",
              "      --hover-bg-color: #434B5C;\n",
              "      --hover-fill-color: #FFFFFF;\n",
              "      --disabled-bg-color: #3B4455;\n",
              "      --disabled-fill-color: #666;\n",
              "  }\n",
              "\n",
              "  .colab-df-quickchart {\n",
              "    background-color: var(--bg-color);\n",
              "    border: none;\n",
              "    border-radius: 50%;\n",
              "    cursor: pointer;\n",
              "    display: none;\n",
              "    fill: var(--fill-color);\n",
              "    height: 32px;\n",
              "    padding: 0;\n",
              "    width: 32px;\n",
              "  }\n",
              "\n",
              "  .colab-df-quickchart:hover {\n",
              "    background-color: var(--hover-bg-color);\n",
              "    box-shadow: 0 1px 2px rgba(60, 64, 67, 0.3), 0 1px 3px 1px rgba(60, 64, 67, 0.15);\n",
              "    fill: var(--button-hover-fill-color);\n",
              "  }\n",
              "\n",
              "  .colab-df-quickchart-complete:disabled,\n",
              "  .colab-df-quickchart-complete:disabled:hover {\n",
              "    background-color: var(--disabled-bg-color);\n",
              "    fill: var(--disabled-fill-color);\n",
              "    box-shadow: none;\n",
              "  }\n",
              "\n",
              "  .colab-df-spinner {\n",
              "    border: 2px solid var(--fill-color);\n",
              "    border-color: transparent;\n",
              "    border-bottom-color: var(--fill-color);\n",
              "    animation:\n",
              "      spin 1s steps(1) infinite;\n",
              "  }\n",
              "\n",
              "  @keyframes spin {\n",
              "    0% {\n",
              "      border-color: transparent;\n",
              "      border-bottom-color: var(--fill-color);\n",
              "      border-left-color: var(--fill-color);\n",
              "    }\n",
              "    20% {\n",
              "      border-color: transparent;\n",
              "      border-left-color: var(--fill-color);\n",
              "      border-top-color: var(--fill-color);\n",
              "    }\n",
              "    30% {\n",
              "      border-color: transparent;\n",
              "      border-left-color: var(--fill-color);\n",
              "      border-top-color: var(--fill-color);\n",
              "      border-right-color: var(--fill-color);\n",
              "    }\n",
              "    40% {\n",
              "      border-color: transparent;\n",
              "      border-right-color: var(--fill-color);\n",
              "      border-top-color: var(--fill-color);\n",
              "    }\n",
              "    60% {\n",
              "      border-color: transparent;\n",
              "      border-right-color: var(--fill-color);\n",
              "    }\n",
              "    80% {\n",
              "      border-color: transparent;\n",
              "      border-right-color: var(--fill-color);\n",
              "      border-bottom-color: var(--fill-color);\n",
              "    }\n",
              "    90% {\n",
              "      border-color: transparent;\n",
              "      border-bottom-color: var(--fill-color);\n",
              "    }\n",
              "  }\n",
              "</style>\n",
              "\n",
              "  <script>\n",
              "    async function quickchart(key) {\n",
              "      const quickchartButtonEl =\n",
              "        document.querySelector('#' + key + ' button');\n",
              "      quickchartButtonEl.disabled = true;  // To prevent multiple clicks.\n",
              "      quickchartButtonEl.classList.add('colab-df-spinner');\n",
              "      try {\n",
              "        const charts = await google.colab.kernel.invokeFunction(\n",
              "            'suggestCharts', [key], {});\n",
              "      } catch (error) {\n",
              "        console.error('Error during call to suggestCharts:', error);\n",
              "      }\n",
              "      quickchartButtonEl.classList.remove('colab-df-spinner');\n",
              "      quickchartButtonEl.classList.add('colab-df-quickchart-complete');\n",
              "    }\n",
              "    (() => {\n",
              "      let quickchartButtonEl =\n",
              "        document.querySelector('#df-07e8bf46-0e15-4f44-876d-2144d77adac1 button');\n",
              "      quickchartButtonEl.style.display =\n",
              "        google.colab.kernel.accessAllowed ? 'block' : 'none';\n",
              "    })();\n",
              "  </script>\n",
              "</div>\n",
              "\n",
              "    </div>\n",
              "  </div>\n"
            ]
          },
          "metadata": {},
          "execution_count": 27
        }
      ]
    },
    {
      "cell_type": "markdown",
      "source": [
        "☝ #Data__<MyDrive/IrisDataSet>"
      ],
      "metadata": {
        "id": "tH2hId6ee-Qo"
      },
      "id": "tH2hId6ee-Qo"
    },
    {
      "cell_type": "code",
      "source": [
        "#Iris stripplot\n",
        "sb.stripplot(x = \"species\", y = \"petal_length\", data = iris)\n",
        "plt.show()"
      ],
      "metadata": {
        "id": "vi-8FGrs_v3B",
        "colab": {
          "base_uri": "https://localhost:8080/",
          "height": 458
        },
        "outputId": "601edb07-ad4e-47aa-df95-522ff0773d63"
      },
      "id": "vi-8FGrs_v3B",
      "execution_count": null,
      "outputs": [
        {
          "output_type": "display_data",
          "data": {
            "text/plain": [
              "<Figure size 640x480 with 1 Axes>"
            ],
            "image/png": "[encoded data removed]"
          },
          "metadata": {}
        }
      ]
    },
    {
      "cell_type": "code",
      "source": [
        "# Draw a boxplot to show bills by day and time\n",
        "sb.boxplot(x=\"species\", y=\"petal_length\", data=iris)\n",
        "sb.despine(offset=10, trim=True)"
      ],
      "metadata": {
        "id": "2poz0k7L_vt4",
        "colab": {
          "base_uri": "https://localhost:8080/",
          "height": 472
        },
        "outputId": "e2602ba1-6302-44ad-c9be-5b7683355473"
      },
      "id": "2poz0k7L_vt4",
      "execution_count": null,
      "outputs": [
        {
          "output_type": "display_data",
          "data": {
            "text/plain": [
              "<Figure size 640x480 with 1 Axes>"
            ],
            "image/png": "[encoded data removed]"
          },
          "metadata": {}
        }
      ]
    },
    {
      "cell_type": "code",
      "source": [
        "# Draw a nested boxplot to show bills by day and time\n",
        "sb.histplot(x=\"species\", y=\"petal_length\", data=iris)\n",
        "sb.despine(offset=10, trim=True)"
      ],
      "metadata": {
        "id": "WucmEFlf_z4P",
        "colab": {
          "base_uri": "https://localhost:8080/",
          "height": 472
        },
        "outputId": "e721b7e8-eea7-46b8-af19-d5237451d51f"
      },
      "id": "WucmEFlf_z4P",
      "execution_count": null,
      "outputs": [
        {
          "output_type": "display_data",
          "data": {
            "text/plain": [
              "<Figure size 640x480 with 1 Axes>"
            ],
            "image/png": "[encoded data removed]"
          },
          "metadata": {}
        }
      ]
    },
    {
      "cell_type": "code",
      "source": [],
      "metadata": {
        "id": "hvU8mJwSdSZ3"
      },
      "id": "hvU8mJwSdSZ3",
      "execution_count": null,
      "outputs": []
    },
    {
      "cell_type": "code",
      "source": [
        "pip install chart-studio\n"
      ],
      "metadata": {
        "colab": {
          "base_uri": "https://localhost:8080/"
        },
        "id": "y0xGvHtMqU-I",
        "outputId": "4be9d435-276a-414a-cac4-b7f66e033690"
      },
      "id": "y0xGvHtMqU-I",
      "execution_count": null,
      "outputs": [
        {
          "output_type": "stream",
          "name": "stdout",
          "text": [
            "Collecting chart-studio\n",
            "  Downloading chart_studio-1.1.0-py3-none-any.whl (64 kB)\n",
            "\u001b[?25l     \u001b[90m━━━━━━━━━━━━━━━━━━━━━━━━━━━━━━━━━━━━━━━━\u001b[0m \u001b[32m0.0/64.4 kB\u001b[0m \u001b[31m?\u001b[0m eta \u001b[36m-:--:--\u001b[0m\r\u001b[2K     \u001b[90m━━━━━━━━━━━━━━━━━━━━━━━━━━━━━━━━━━━━━━━━\u001b[0m \u001b[32m64.4/64.4 kB\u001b[0m \u001b[31m1.9 MB/s\u001b[0m eta \u001b[36m0:00:00\u001b[0m\n",
            "\u001b[?25hRequirement already satisfied: plotly in /usr/local/lib/python3.10/dist-packages (from chart-studio) (5.15.0)\n",
            "Requirement already satisfied: requests in /usr/local/lib/python3.10/dist-packages (from chart-studio) (2.31.0)\n",
            "Collecting retrying>=1.3.3 (from chart-studio)\n",
            "  Downloading retrying-1.3.4-py3-none-any.whl (11 kB)\n",
            "Requirement already satisfied: six in /usr/local/lib/python3.10/dist-packages (from chart-studio) (1.16.0)\n",
            "Requirement already satisfied: tenacity>=6.2.0 in /usr/local/lib/python3.10/dist-packages (from plotly->chart-studio) (8.2.3)\n",
            "Requirement already satisfied: packaging in /usr/local/lib/python3.10/dist-packages (from plotly->chart-studio) (23.2)\n",
            "Requirement already satisfied: charset-normalizer<4,>=2 in /usr/local/lib/python3.10/dist-packages (from requests->chart-studio) (3.3.2)\n",
            "Requirement already satisfied: idna<4,>=2.5 in /usr/local/lib/python3.10/dist-packages (from requests->chart-studio) (3.6)\n",
            "Requirement already satisfied: urllib3<3,>=1.21.1 in /usr/local/lib/python3.10/dist-packages (from requests->chart-studio) (2.0.7)\n",
            "Requirement already satisfied: certifi>=2017.4.17 in /usr/local/lib/python3.10/dist-packages (from requests->chart-studio) (2024.2.2)\n",
            "Installing collected packages: retrying, chart-studio\n",
            "Successfully installed chart-studio-1.1.0 retrying-1.3.4\n"
          ]
        }
      ]
    },
    {
      "cell_type": "code",
      "source": [
        "# https://quantgirl.blog/the-perfect-valentine-2022/\n",
        "# Author: @Quant_Girl\n",
        "# Title: Perfect Valentine\n",
        "# Type: 3d Scatter\n",
        "\n",
        "import plotly.graph_objects as go\n",
        "import numpy as np\n",
        "import plotly.express as px\n",
        "import pandas as pd\n",
        "import chart_studio.plotly as py\n",
        "\n",
        "\n",
        "def get_zvalue(a, b, x, y):\n",
        "    \"\"\"\n",
        "    Finds the roots of the polynomial in z\n",
        "    for given values of\n",
        "    a, b, x, y.\n",
        "    \"\"\"\n",
        "    constant = x ** 2 + ((1 + b) * y) ** 2 - 1\n",
        "    c0 = constant ** 3\n",
        "    c1 = 0.0\n",
        "    c2 = 3 * (constant ** 2)\n",
        "    c3 = -(a * (y ** 2) + x ** 2)\n",
        "    c4 = 3 * constant\n",
        "    c5 = 0.0\n",
        "    c6 = 1.0\n",
        "\n",
        "    coefficients = [c6, c5, c4, c3, c2, c1, c0]\n",
        "    rts = np.roots(coefficients)\n",
        "    z = rts[~np.iscomplex(rts)]\n",
        "\n",
        "    if len(z) > 0:\n",
        "        zreal = z.real\n",
        "        return zreal\n",
        "    else:\n",
        "        return []\n",
        "\n",
        "\n",
        "def draw_heart(a=9/200, b=0.01, grid=0.10, palette='viridis'):\n",
        "    \"\"\"\n",
        "    Draws the figure\n",
        "    @param a: a>0\n",
        "    @param b:\n",
        "    @param grid: sparsity of the scatter\n",
        "    @param palette: palette\n",
        "    \"\"\"\n",
        "    x = np.arange(-2, 2, grid)\n",
        "    y = x\n",
        "\n",
        "    all_triplets = []\n",
        "    for i in x:\n",
        "        for j in y:\n",
        "            zaxis = get_zvalue(a, b, i, j)\n",
        "            for k in zaxis:\n",
        "                triplet = [i, j, k]\n",
        "                all_triplets.append(triplet)\n",
        "    results = np.array(all_triplets).transpose()\n",
        "\n",
        "    # Save the triplets in a data frame\n",
        "    xaxis = results[0]\n",
        "    yaxis = results[1]\n",
        "    zaxis = results[2]\n",
        "    df = pd.DataFrame({'x': xaxis, 'y': yaxis, 'z': zaxis})\n",
        "\n",
        "    # Draw\n",
        "    fig = go.Figure(data=px.scatter_3d(df, x='x', y='y', z='z',\n",
        "                                       color='z',\n",
        "                                       color_continuous_scale=palette,\n",
        "                                       height=800, width=800,\n",
        "                                       template=\"plotly_white\"))\n",
        "\n",
        "    fig.update(layout_coloraxis_showscale=False)\n",
        "\n",
        "    fig.update_layout(\n",
        "        title='$\\hbox{A Perfect Valentine: } (x^2 + (1+b)^2y^2 +z^2 -1)^3 -(x^2 +ay^2 )z^3$',\n",
        "        scene=dict(\n",
        "            xaxis=dict(showticklabels=False, showgrid=False),\n",
        "            yaxis=dict(showticklabels=False, showgrid=False),\n",
        "            zaxis=dict(showticklabels=False, showgrid=False),\n",
        "            bgcolor='white'))\n",
        "    fig.show()\n",
        "\n",
        "draw_heart(palette='twilight')"
      ],
      "metadata": {
        "colab": {
          "base_uri": "https://localhost:8080/",
          "height": 817
        },
        "id": "e_GO3Syue7tr",
        "outputId": "cbb1b271-85d5-40c5-e79d-bab7e587bffc"
      },
      "id": "e_GO3Syue7tr",
      "execution_count": null,
      "outputs": [
        {
          "output_type": "display_data",
          "data": {
            "text/html": [
              "<html>\n",
              "<head><meta charset=\"utf-8\" /></head>\n",
              "<body>\n",
              "    <div>            <script src=\"https://cdnjs.cloudflare.com/ajax/libs/mathjax/2.7.5/MathJax.js?config=TeX-AMS-MML_SVG\"></script><script type=\"text/javascript\">if (window.MathJax && window.MathJax.Hub && window.MathJax.Hub.Config) {window.MathJax.Hub.Config({SVG: {font: \"STIX-Web\"}});}</script>                <script type=\"text/javascript\">window.PlotlyConfig = {MathJaxConfig: 'local'};</script>\n",
              "        <script charset=\"utf-8\" src=\"https://cdn.plot.ly/plotly-2.24.1.min.js\"></script>                <div id=\"a62eb632-743b-4c0e-976c-1b3c149ba3e1\" class=\"plotly-graph-div\" style=\"height:800px; width:800px;\"></div>            <script type=\"text/javascript\">                                    window.PLOTLYENV=window.PLOTLYENV || {};                                    if (document.getElementById(\"a62eb632-743b-4c0e-976c-1b3c149ba3e1\")) {                    Plotly.newPlot(                        \"a62eb632-743b-4c0e-976c-1b3c149ba3e1\",                        [{\"hovertemplate\":\"x=%{x}\\u003cbr\\u003ey=%{y}\\u003cbr\\u003ez=%{marker.color}\\u003cextra\\u003e\\u003c\\u002fextra\\u003e\",\"legendgroup\":\"\",\"marker\":{\"color\":[0.7156973109860353,0.3504330617848197,0.7853476742672081,0.2803866455776582,0.804604414445922,0.2609978223206887,0.7853476742672075,0.2803866455776594,0.7156973109860307,0.35043306178482303,0.7978156821133675,0.20457858081662111,0.8992534996874195,0.10209468190216686,0.9580070520124552,0.04259258834711291,0.9898443164736545,0.010305661031968378,1.000000000000003,-1.776356839400251e-15,0.9898443164736535,0.010305661031969053,0.9580070520124537,0.04259258834711427,0.8992534996874174,0.10209468190216932,0.7978156821133623,0.2045785808166262,0.6762609966018204,0.2620822447111386,0.8609373848318093,0.0755281407749532,0.9627440705111442,-0.027820477757689557,1.0291322368577247,-0.09541145101023324,1.0720310757998839,-0.1391713387493746,1.0963414358547525,-0.16399909199803583,1.1042346322483305,-0.17206488046217377,1.0963414358547499,-0.16399909199803528,1.072031075799881,-0.13917133874937343,1.0291322368577247,-0.09541145101023132,0.9627440705111389,-0.027820477757686753,0.8609373848318049,0.07552814077495774,0.6762609966018114,0.26208224471114877,0.6595091478735126,0.2120501291770081,0.8605762714345662,0.008408319216069734,0.9745143533175826,-0.10772032206876353,1.0520428923385785,-0.18704940780748308,1.1060616788827384,-0.24247381960733824,1.1420700247699807,-0.2794889919856619,1.1628004292872456,-0.30082462234247337,1.1695773693404468,-0.30780349332769236,1.1628004292872465,-0.300824622342473,1.1420700247699829,-0.2794889919856608,1.1060616788827364,-0.24247381960733672,1.0520428923385765,-0.18704940780748075,0.9745143533175804,-0.1077203220687602,0.8605762714345613,0.008408319216074713,0.659509147873502,0.2120501291770188,0.5379597807551505,0.26556632133252434,0.8125192827827329,-0.012493241963732688,0.9476226001382105,-0.1506549125983077,1.039619413679834,-0.245258021007413,1.1058162103694817,-0.3136000329423031,1.153180893110752,-0.36264128420643094,1.1852126448965419,-0.3958749529211774,1.2037994031626598,-0.4151846218621761,1.2098970010141816,-0.42152348470365714,1.2037994031626609,-0.4151846218621756,1.1852126448965412,-0.3958749529211766,1.1531808931107503,-0.36264128420642966,1.1058162103694813,-0.3136000329423009,1.0396194136798318,-0.24525802100741043,0.9476226001382051,-0.15065491259830374,0.812519282782729,-0.01249324196372662,0.5379597807551306,0.26556632133254504,0.7117915321969288,0.018072707271878385,0.884133688832248,-0.15851788227311261,0.9958059656038174,-0.27391279970351373,1.0763725883928608,-0.3576596098334427,1.1358496834877165,-0.41975976833131595,1.1789993326091908,-0.46496294343680783,1.2084151087927069,-0.4958527873742329,-0.5138862231089658,1.2255611683648076,-0.5198190360417233,1.2311976969397367,-0.5138862231089658,1.2255611683648058,1.2084151087927086,-0.4958527873742328,1.1789993326091908,-0.4649629434368068,1.1358496834877143,-0.41975976833131406,1.076372588392858,-0.3576596098334401,0.9958059656038143,-0.2739127997035105,0.8841336888322451,-0.158517882273108,0.7117915321969206,0.01807270727188642,0.509473416908127,0.14972518186116204,0.7781127174955659,-0.12483538414928498,0.9198960464513548,-0.271933987503262,1.01893496333959,-0.3756510609327623,1.092385487765951,-0.4531138554506811,-0.5114173010663763,1.147368301339194,-0.5542310353628788,1.18757514105838,-0.583645498573751,1.215114314653426,-0.6008715741558066,1.2312098488589354,-0.6065470381245951,1.236507563072031,-0.6008715741558055,1.2312098488589345,-0.583645498573752,1.2151143146534267,-0.554231035362877,1.1875751410583812,-0.5114173010663744,1.147368301339192,1.0923854877659491,-0.4531138554506789,1.018934963339589,-0.375651060932759,0.9198960464513521,-0.2719339875032579,0.7781127174955609,-0.1248353841492786,0.5094734169081104,0.1497251818611796,0.6040350419743501,-0.02271225847288755,0.8058878326116815,-0.23221097580483557,0.9318030339647642,-0.36504603183430406,1.0228312178684857,-0.4622111563872809,-0.536016797309415,1.0913370680477505,-0.5921053048633432,1.1430128972686733,-0.6335409960798651,1.180966984977372,-0.6621179337987553,1.2070296833900753,-0.6788920896923445,1.2222840899148546,-0.6844246672796204,1.2273081905986025,-0.678892089692343,1.2222840899148544,-0.6621179337987538,1.2070296833900733,-0.6335409960798646,1.1809669849773723,-0.592105304863342,1.1430128972686715,-0.5360167973094129,1.0913370680477472,1.0228312178684815,-0.4622111563872779,0.9318030339647605,-0.3650460318343002,0.8058878326116785,-0.23221097580482983,0.6040350419743411,-0.022712258472877264,0.6339791452358488,-0.13205323965168914,0.8093137819774351,-0.3177210196170502,0.9253425267771545,-0.4432423541891059,-0.537060338633362,1.010620150021049,-0.6091474325007784,1.0752323083938546,-0.6643301364127431,1.1241157958488746,-0.7052987784304454,1.1600629761769665,-0.7336489654690712,1.1847573443305632,-0.7503254646424831,1.199211598701028,-0.7558315287977899,1.203972003453504,-0.750325464642482,1.1992115987010283,-0.7336489654690712,1.1847573443305652,-0.7052987784304453,1.1600629761769645,-0.6643301364127425,1.124115795848875,-0.6091474325007772,1.0752323083938538,-0.5370603386333586,1.0106201500210472,0.9253425267771525,-0.44324235418910224,0.8093137819774314,-0.3177210196170455,0.6339791452358406,-0.13205323965168064,0.6349983733941896,-0.2105816417847626,0.7957367957226192,-0.38597687281896764,0.9045836792022262,-0.5086881518864245,-0.6018545742876418,0.9848957295067513,-0.6741995101047125,1.0456474521770391,-0.7300365345183969,1.0914303083826329,-0.7717685277145537,1.1249370359413162,-0.8007988151193901,1.1478488512285776,-0.8179382453399892,1.1612111371625615,-0.8236079439164138,1.1656031332517496,-0.8179382453399902,1.161211137162562,-0.8007988151193873,1.1478488512285752,-0.7717685277145524,1.1249370359413164,-0.7300365345183942,1.0914303083826347,-0.6741995101047106,1.0456474521770396,-0.6018545742876391,0.9848957295067488,0.9045836792022242,-0.5086881518864204,0.7957367957226148,-0.38597687281896276,0.6349983733941832,-0.2105816417847549,0.26796869053929173,0.11232655553684658,0.6224801706014416,-0.2630107877039951,0.7740746677155228,-0.4355342114410875,0.8767194328002021,-0.5590739541776567,-0.6545015467424421,0.9515088285117033,-0.7299294573671992,1.0069123702049203,-0.7893247543080678,1.047457330442875,-0.8347278041656827,1.0760286113839832,-0.8670624324791167,1.0947262439753647,-0.8865518080170278,1.1051796309473982,-0.8930799302072718,1.1085233992104557,-0.8865518080170208,1.105179630947393,-0.867062432479114,1.0947262439753613,-0.8347278041656829,1.0760286113839836,-0.789324754308063,1.0474573304428743,-0.7299294573671988,1.006912370204921,-0.6545015467424404,0.9515088285117023,0.8767194328002013,-0.5590739541776533,0.7740746677155182,-0.4355342114410832,0.6224801706014341,-0.2630107877039873,0.2679686905392472,0.11232655553689165,0.28521656540708007,0.07047276504192572,0.6143374098946375,-0.2827745750170023,0.7620518386354584,-0.4555280656780375,-0.5807699853046772,0.8611860334648958,-0.678947712540162,0.9319775121306847,-0.7583250756315343,0.9823953129593946,-0.8232911006320304,1.0163889775531514,-0.8766180196775902,1.0360168050549803,-0.9204502756439741,1.042094315555435,-0.9573084912123675,1.0339394344517294,-1.0000060120253236,1.0000059738516724,-0.957308491212428,1.033939434451758,-0.920450275643983,1.0420943155554574,-0.8766180196775804,1.0360168050549734,-0.8232911006320336,1.0163889775531538,-0.7583250756315315,0.982395312959391,-0.6789477125401605,0.9319775121306838,-0.5807699853046735,0.8611860334648936,0.7620518386354553,-0.45552806567803217,0.6143374098946313,-0.28277457501699477,0.285216565407048,0.07047276504195858,0.26796869053928896,0.1123265555368512,0.6224801706014417,-0.2630107877039935,0.774074667715524,-0.43553421144108617,0.8767194328002041,-0.559073954177656,-0.6545015467424413,0.9515088285117056,-0.7299294573671969,1.006912370204921,-0.7893247543080656,1.0474573304428716,-0.8347278041656777,1.0760286113839874,-0.8670624324791191,1.0947262439753638,-0.8865518080170182,1.1051796309473922,-0.8930799302072667,1.108523399210457,-0.8865518080170259,1.105179630947403,-0.8670624324791055,1.0947262439753631,-0.8347278041656818,1.0760286113839885,-0.7893247543080639,1.0474573304428736,-0.7299294573671996,1.0069123702049256,-0.6545015467424389,0.9515088285117045,0.8767194328002017,-0.5590739541776512,0.7740746677155207,-0.43553421144108173,0.622480170601436,-0.26301078770398617,0.26796869053924455,0.11232655553689633,0.6349983733941913,-0.21058164178476044,0.7957367957226197,-0.3859768728189657,0.9045836792022273,-0.5086881518864224,-0.6018545742876396,0.9848957295067533,-0.6741995101047115,1.0456474521770402,-0.7300365345183936,1.0914303083826353,-0.7717685277145493,1.1249370359413118,-0.8007988151193862,1.1478488512285796,-0.8179382453399893,1.1612111371625653,-0.82360794391641,1.1656031332517511,-0.8179382453399866,1.1612111371625635,-0.8007988151193871,1.1478488512285812,-0.7717685277145495,1.1249370359413162,-0.7300365345183922,1.091430308382634,-0.6741995101047102,1.0456474521770405,-0.6018545742876372,0.9848957295067496,0.904583679202223,-0.5086881518864181,0.7957367957226145,-0.38597687281896065,0.6349983733941836,-0.21058164178475255,0.6339791452358499,-0.13205323965168594,0.8093137819774382,-0.31772101961704824,0.9253425267771571,-0.44324235418910385,-0.5370603386333572,1.0106201500210472,-0.6091474325007764,1.0752323083938582,-0.6643301364127422,1.124115795848877,-0.7052987784304436,1.1600629761769659,-0.7336489654690683,1.1847573443305623,-0.7503254646424797,1.199211598701028,-0.755831528797788,1.203972003453505,-0.7503254646424792,1.1992115987010283,-0.7336489654690681,1.1847573443305628,-0.7052987784304423,1.1600629761769663,-0.6643301364127394,1.124115795848874,-0.6091474325007745,1.0752323083938562,-0.5370603386333558,1.010620150021049,0.925342526777152,-0.44324235418909974,0.8093137819774329,-0.31772101961704274,0.6339791452358405,-0.13205323965167748,0.6040350419743485,-0.0227122584728828,0.8058878326116816,-0.2322109758048322,0.9318030339647649,-0.365046031834301,1.0228312178684842,-0.4622111563872776,-0.5360167973094133,1.0913370680477508,-0.5921053048633415,1.1430128972686728,-0.6335409960798626,1.1809669849773738,-0.662117933798752,1.2070296833900749,-0.678892089692341,1.2222840899148555,-0.6844246672796176,1.2273081905986043,-0.6788920896923413,1.2222840899148555,-0.6621179337987513,1.207029683390074,-0.6335409960798628,1.180966984977373,-0.5921053048633396,1.1430128972686697,-0.5360167973094099,1.0913370680477468,1.0228312178684813,-0.4622111563872751,0.9318030339647629,-0.36504603183429685,0.805887832611679,-0.2322109758048266,0.6040350419743382,-0.022712258472872542,0.5094734169081216,0.14972518186117081,0.7781127174955653,-0.12483538414928065,0.9198960464513533,-0.2719339875032583,1.0189349633395914,-0.37565106093275913,1.09238548776595,-0.4531138554506783,-0.5114173010663727,1.1473683013391918,-0.5542310353628742,1.1875751410583821,-0.5836454985737488,1.215114314653425,-0.6008715741558044,1.2312098488589351,-0.6065470381245917,1.236507563072031,-0.6008715741558034,1.2312098488589354,-0.5836454985737486,1.2151143146534253,-0.5542310353628745,1.1875751410583797,-0.5114173010663713,1.1473683013391902,1.0923854877659487,-0.4531138554506756,1.0189349633395874,-0.3756510609327557,0.9198960464513491,-0.27193398750325437,0.7781127174955587,-0.12483538414927436,0.5094734169081042,0.1497251818611885,0.7117915321969255,0.018072707271884394,0.8841336888322444,-0.15851788227310812,0.9958059656038176,-0.27391279970350985,1.0763725883928605,-0.3576596098334392,1.1358496834877196,-0.41975976833131246,1.1789993326091908,-0.46496294343680483,1.2084151087927097,-0.4958527873742302,-0.513886223108963,1.2255611683648069,-0.5198190360417201,1.2311976969397354,-0.5138862231089624,1.2255611683648062,1.2084151087927073,-0.4958527873742286,1.1789993326091914,-0.46496294343680356,1.1358496834877156,-0.4197597683313106,1.0763725883928557,-0.3576596098334365,0.9958059656038127,-0.2739127997035066,0.8841336888322409,-0.1585178822731034,0.7117915321969174,0.018072707271892415,0.5379597807551382,0.2655663213325402,0.8125192827827308,-0.012493241963726583,0.9476226001382081,-0.15065491259830283,1.0396194136798322,-0.24525802100740854,1.1058162103694813,-0.31360003294229905,1.1531808931107506,-0.36264128420642694,1.1852126448965394,-0.39587495292117375,1.20379940316266,-0.41518462186217214,1.2098970010141794,-0.4215234847036537,1.2037994031626584,-0.4151846218621717,1.1852126448965379,-0.39587495292117275,1.1531808931107483,-0.3626412842064258,1.1058162103694784,-0.313600032942297,1.0396194136798296,-0.24525802100740576,0.9476226001382019,-0.15065491259829897,0.8125192827827242,-0.0124932419637205,0.5379597807551167,0.2655663213325611,0.6595091478735041,0.21205012917701932,0.8605762714345624,0.008408319216076222,0.9745143533175828,-0.10772032206875815,1.052042892338576,-0.18704940780747814,1.1060616788827344,-0.24247381960733344,1.1420700247699824,-0.2794889919856574,1.1628004292872423,-0.30082462234246904,1.1695773693404443,-0.30780349332768797,1.162800429287243,-0.3008246223424686,1.1420700247699804,-0.2794889919856562,1.1060616788827335,-0.242473819607332,1.0520428923385736,-0.18704940780747567,0.9745143533175775,-0.1077203220687548,0.8605762714345565,0.008408319216081435,0.6595091478734925,0.2120501291770306,0.6762609966018097,0.2620822447111527,0.8609373848318037,0.07552814077496083,0.9627440705111402,-0.027820477757683225,1.0291322368577231,-0.09541145101022755,1.0720310757998839,-0.13917133874936924,1.096341435854747,-0.1639990919980305,1.1042346322483305,-0.17206488046216864,1.0963414358547479,-0.16399909199803003,1.0720310757998812,-0.1391713387493679,1.0291322368577196,-0.0954114510102255,0.9627440705111359,-0.027820477757680297,0.8609373848317992,0.07552814077496552,0.6762609966017991,0.2620822447111629,0.7978156821133583,0.2045785808166324,0.8992534996874122,0.10209468190217524,0.9580070520124497,0.04259258834712052,0.9898443164736497,0.010305661031975622,0.999999999999996,5.329070524082942e-15,0.989844316473649,0.010305661031976296,0.9580070520124486,0.042592588347121985,0.8992534996874108,0.10209468190217805,0.7978156821133539,0.20457858081663738,0.7156973109860182,0.35043306178483835,0.7853476742671963,0.2803866455776722,0.8046044144459108,0.2609978223207018,0.7853476742671944,0.280386645577673,0.7156973109860145,0.3504330617848412],\"coloraxis\":\"coloraxis\",\"symbol\":\"circle\"},\"mode\":\"markers\",\"name\":\"\",\"scene\":\"scene\",\"showlegend\":false,\"x\":[-1.0999999999999992,-1.0999999999999992,-1.0999999999999992,-1.0999999999999992,-1.0999999999999992,-1.0999999999999992,-1.0999999999999992,-1.0999999999999992,-1.0999999999999992,-1.0999999999999992,-0.9999999999999991,-0.9999999999999991,-0.9999999999999991,-0.9999999999999991,-0.9999999999999991,-0.9999999999999991,-0.9999999999999991,-0.9999999999999991,-0.9999999999999991,-0.9999999999999991,-0.9999999999999991,-0.9999999999999991,-0.9999999999999991,-0.9999999999999991,-0.9999999999999991,-0.9999999999999991,-0.9999999999999991,-0.9999999999999991,-0.899999999999999,-0.899999999999999,-0.899999999999999,-0.899999999999999,-0.899999999999999,-0.899999999999999,-0.899999999999999,-0.899999999999999,-0.899999999999999,-0.899999999999999,-0.899999999999999,-0.899999999999999,-0.899999999999999,-0.899999999999999,-0.899999999999999,-0.899999999999999,-0.899999999999999,-0.899999999999999,-0.899999999999999,-0.899999999999999,-0.899999999999999,-0.899999999999999,-0.899999999999999,-0.899999999999999,-0.899999999999999,-0.899999999999999,-0.7999999999999989,-0.7999999999999989,-0.7999999999999989,-0.7999999999999989,-0.7999999999999989,-0.7999999999999989,-0.7999999999999989,-0.7999999999999989,-0.7999999999999989,-0.7999999999999989,-0.7999999999999989,-0.7999999999999989,-0.7999999999999989,-0.7999999999999989,-0.7999999999999989,-0.7999999999999989,-0.7999999999999989,-0.7999999999999989,-0.7999999999999989,-0.7999999999999989,-0.7999999999999989,-0.7999999999999989,-0.7999999999999989,-0.7999999999999989,-0.7999999999999989,-0.7999999999999989,-0.7999999999999989,-0.7999999999999989,-0.7999999999999989,-0.7999999999999989,-0.6999999999999988,-0.6999999999999988,-0.6999999999999988,-0.6999999999999988,-0.6999999999999988,-0.6999999999999988,-0.6999999999999988,-0.6999999999999988,-0.6999999999999988,-0.6999999999999988,-0.6999999999999988,-0.6999999999999988,-0.6999999999999988,-0.6999999999999988,-0.6999999999999988,-0.6999999999999988,-0.6999999999999988,-0.6999999999999988,-0.6999999999999988,-0.6999999999999988,-0.6999999999999988,-0.6999999999999988,-0.6999999999999988,-0.6999999999999988,-0.6999999999999988,-0.6999999999999988,-0.6999999999999988,-0.6999999999999988,-0.6999999999999988,-0.6999999999999988,-0.6999999999999988,-0.6999999999999988,-0.6999999999999988,-0.6999999999999988,-0.5999999999999988,-0.5999999999999988,-0.5999999999999988,-0.5999999999999988,-0.5999999999999988,-0.5999999999999988,-0.5999999999999988,-0.5999999999999988,-0.5999999999999988,-0.5999999999999988,-0.5999999999999988,-0.5999999999999988,-0.5999999999999988,-0.5999999999999988,-0.5999999999999988,-0.5999999999999988,-0.5999999999999988,-0.5999999999999988,-0.5999999999999988,-0.5999999999999988,-0.5999999999999988,-0.5999999999999988,-0.5999999999999988,-0.5999999999999988,-0.5999999999999988,-0.5999999999999988,-0.5999999999999988,-0.5999999999999988,-0.5999999999999988,-0.5999999999999988,-0.5999999999999988,-0.5999999999999988,-0.5999999999999988,-0.5999999999999988,-0.49999999999999867,-0.49999999999999867,-0.49999999999999867,-0.49999999999999867,-0.49999999999999867,-0.49999999999999867,-0.49999999999999867,-0.49999999999999867,-0.49999999999999867,-0.49999999999999867,-0.49999999999999867,-0.49999999999999867,-0.49999999999999867,-0.49999999999999867,-0.49999999999999867,-0.49999999999999867,-0.49999999999999867,-0.49999999999999867,-0.49999999999999867,-0.49999999999999867,-0.49999999999999867,-0.49999999999999867,-0.49999999999999867,-0.49999999999999867,-0.49999999999999867,-0.49999999999999867,-0.49999999999999867,-0.49999999999999867,-0.49999999999999867,-0.49999999999999867,-0.49999999999999867,-0.49999999999999867,-0.49999999999999867,-0.49999999999999867,-0.49999999999999867,-0.49999999999999867,-0.49999999999999867,-0.49999999999999867,-0.3999999999999986,-0.3999999999999986,-0.3999999999999986,-0.3999999999999986,-0.3999999999999986,-0.3999999999999986,-0.3999999999999986,-0.3999999999999986,-0.3999999999999986,-0.3999999999999986,-0.3999999999999986,-0.3999999999999986,-0.3999999999999986,-0.3999999999999986,-0.3999999999999986,-0.3999999999999986,-0.3999999999999986,-0.3999999999999986,-0.3999999999999986,-0.3999999999999986,-0.3999999999999986,-0.3999999999999986,-0.3999999999999986,-0.3999999999999986,-0.3999999999999986,-0.3999999999999986,-0.3999999999999986,-0.3999999999999986,-0.3999999999999986,-0.3999999999999986,-0.3999999999999986,-0.3999999999999986,-0.3999999999999986,-0.3999999999999986,-0.3999999999999986,-0.3999999999999986,-0.3999999999999986,-0.3999999999999986,-0.2999999999999985,-0.2999999999999985,-0.2999999999999985,-0.2999999999999985,-0.2999999999999985,-0.2999999999999985,-0.2999999999999985,-0.2999999999999985,-0.2999999999999985,-0.2999999999999985,-0.2999999999999985,-0.2999999999999985,-0.2999999999999985,-0.2999999999999985,-0.2999999999999985,-0.2999999999999985,-0.2999999999999985,-0.2999999999999985,-0.2999999999999985,-0.2999999999999985,-0.2999999999999985,-0.2999999999999985,-0.2999999999999985,-0.2999999999999985,-0.2999999999999985,-0.2999999999999985,-0.2999999999999985,-0.2999999999999985,-0.2999999999999985,-0.2999999999999985,-0.2999999999999985,-0.2999999999999985,-0.2999999999999985,-0.2999999999999985,-0.2999999999999985,-0.2999999999999985,-0.2999999999999985,-0.2999999999999985,-0.1999999999999984,-0.1999999999999984,-0.1999999999999984,-0.1999999999999984,-0.1999999999999984,-0.1999999999999984,-0.1999999999999984,-0.1999999999999984,-0.1999999999999984,-0.1999999999999984,-0.1999999999999984,-0.1999999999999984,-0.1999999999999984,-0.1999999999999984,-0.1999999999999984,-0.1999999999999984,-0.1999999999999984,-0.1999999999999984,-0.1999999999999984,-0.1999999999999984,-0.1999999999999984,-0.1999999999999984,-0.1999999999999984,-0.1999999999999984,-0.1999999999999984,-0.1999999999999984,-0.1999999999999984,-0.1999999999999984,-0.1999999999999984,-0.1999999999999984,-0.1999999999999984,-0.1999999999999984,-0.1999999999999984,-0.1999999999999984,-0.1999999999999984,-0.1999999999999984,-0.1999999999999984,-0.1999999999999984,-0.09999999999999831,-0.09999999999999831,-0.09999999999999831,-0.09999999999999831,-0.09999999999999831,-0.09999999999999831,-0.09999999999999831,-0.09999999999999831,-0.09999999999999831,-0.09999999999999831,-0.09999999999999831,-0.09999999999999831,-0.09999999999999831,-0.09999999999999831,-0.09999999999999831,-0.09999999999999831,-0.09999999999999831,-0.09999999999999831,-0.09999999999999831,-0.09999999999999831,-0.09999999999999831,-0.09999999999999831,-0.09999999999999831,-0.09999999999999831,-0.09999999999999831,-0.09999999999999831,-0.09999999999999831,-0.09999999999999831,-0.09999999999999831,-0.09999999999999831,-0.09999999999999831,-0.09999999999999831,-0.09999999999999831,-0.09999999999999831,-0.09999999999999831,-0.09999999999999831,-0.09999999999999831,-0.09999999999999831,-0.09999999999999831,-0.09999999999999831,-0.09999999999999831,-0.09999999999999831,1.7763568394002505e-15,1.7763568394002505e-15,1.7763568394002505e-15,1.7763568394002505e-15,1.7763568394002505e-15,1.7763568394002505e-15,1.7763568394002505e-15,1.7763568394002505e-15,1.7763568394002505e-15,1.7763568394002505e-15,1.7763568394002505e-15,1.7763568394002505e-15,1.7763568394002505e-15,1.7763568394002505e-15,1.7763568394002505e-15,1.7763568394002505e-15,1.7763568394002505e-15,1.7763568394002505e-15,1.7763568394002505e-15,1.7763568394002505e-15,1.7763568394002505e-15,1.7763568394002505e-15,1.7763568394002505e-15,1.7763568394002505e-15,1.7763568394002505e-15,1.7763568394002505e-15,1.7763568394002505e-15,1.7763568394002505e-15,1.7763568394002505e-15,1.7763568394002505e-15,1.7763568394002505e-15,1.7763568394002505e-15,1.7763568394002505e-15,1.7763568394002505e-15,1.7763568394002505e-15,1.7763568394002505e-15,1.7763568394002505e-15,1.7763568394002505e-15,1.7763568394002505e-15,1.7763568394002505e-15,1.7763568394002505e-15,1.7763568394002505e-15,0.10000000000000187,0.10000000000000187,0.10000000000000187,0.10000000000000187,0.10000000000000187,0.10000000000000187,0.10000000000000187,0.10000000000000187,0.10000000000000187,0.10000000000000187,0.10000000000000187,0.10000000000000187,0.10000000000000187,0.10000000000000187,0.10000000000000187,0.10000000000000187,0.10000000000000187,0.10000000000000187,0.10000000000000187,0.10000000000000187,0.10000000000000187,0.10000000000000187,0.10000000000000187,0.10000000000000187,0.10000000000000187,0.10000000000000187,0.10000000000000187,0.10000000000000187,0.10000000000000187,0.10000000000000187,0.10000000000000187,0.10000000000000187,0.10000000000000187,0.10000000000000187,0.10000000000000187,0.10000000000000187,0.10000000000000187,0.10000000000000187,0.10000000000000187,0.10000000000000187,0.10000000000000187,0.10000000000000187,0.20000000000000195,0.20000000000000195,0.20000000000000195,0.20000000000000195,0.20000000000000195,0.20000000000000195,0.20000000000000195,0.20000000000000195,0.20000000000000195,0.20000000000000195,0.20000000000000195,0.20000000000000195,0.20000000000000195,0.20000000000000195,0.20000000000000195,0.20000000000000195,0.20000000000000195,0.20000000000000195,0.20000000000000195,0.20000000000000195,0.20000000000000195,0.20000000000000195,0.20000000000000195,0.20000000000000195,0.20000000000000195,0.20000000000000195,0.20000000000000195,0.20000000000000195,0.20000000000000195,0.20000000000000195,0.20000000000000195,0.20000000000000195,0.20000000000000195,0.20000000000000195,0.20000000000000195,0.20000000000000195,0.20000000000000195,0.20000000000000195,0.30000000000000204,0.30000000000000204,0.30000000000000204,0.30000000000000204,0.30000000000000204,0.30000000000000204,0.30000000000000204,0.30000000000000204,0.30000000000000204,0.30000000000000204,0.30000000000000204,0.30000000000000204,0.30000000000000204,0.30000000000000204,0.30000000000000204,0.30000000000000204,0.30000000000000204,0.30000000000000204,0.30000000000000204,0.30000000000000204,0.30000000000000204,0.30000000000000204,0.30000000000000204,0.30000000000000204,0.30000000000000204,0.30000000000000204,0.30000000000000204,0.30000000000000204,0.30000000000000204,0.30000000000000204,0.30000000000000204,0.30000000000000204,0.30000000000000204,0.30000000000000204,0.30000000000000204,0.30000000000000204,0.30000000000000204,0.30000000000000204,0.40000000000000213,0.40000000000000213,0.40000000000000213,0.40000000000000213,0.40000000000000213,0.40000000000000213,0.40000000000000213,0.40000000000000213,0.40000000000000213,0.40000000000000213,0.40000000000000213,0.40000000000000213,0.40000000000000213,0.40000000000000213,0.40000000000000213,0.40000000000000213,0.40000000000000213,0.40000000000000213,0.40000000000000213,0.40000000000000213,0.40000000000000213,0.40000000000000213,0.40000000000000213,0.40000000000000213,0.40000000000000213,0.40000000000000213,0.40000000000000213,0.40000000000000213,0.40000000000000213,0.40000000000000213,0.40000000000000213,0.40000000000000213,0.40000000000000213,0.40000000000000213,0.40000000000000213,0.40000000000000213,0.40000000000000213,0.40000000000000213,0.5000000000000022,0.5000000000000022,0.5000000000000022,0.5000000000000022,0.5000000000000022,0.5000000000000022,0.5000000000000022,0.5000000000000022,0.5000000000000022,0.5000000000000022,0.5000000000000022,0.5000000000000022,0.5000000000000022,0.5000000000000022,0.5000000000000022,0.5000000000000022,0.5000000000000022,0.5000000000000022,0.5000000000000022,0.5000000000000022,0.5000000000000022,0.5000000000000022,0.5000000000000022,0.5000000000000022,0.5000000000000022,0.5000000000000022,0.5000000000000022,0.5000000000000022,0.5000000000000022,0.5000000000000022,0.5000000000000022,0.5000000000000022,0.5000000000000022,0.5000000000000022,0.5000000000000022,0.5000000000000022,0.5000000000000022,0.5000000000000022,0.6000000000000023,0.6000000000000023,0.6000000000000023,0.6000000000000023,0.6000000000000023,0.6000000000000023,0.6000000000000023,0.6000000000000023,0.6000000000000023,0.6000000000000023,0.6000000000000023,0.6000000000000023,0.6000000000000023,0.6000000000000023,0.6000000000000023,0.6000000000000023,0.6000000000000023,0.6000000000000023,0.6000000000000023,0.6000000000000023,0.6000000000000023,0.6000000000000023,0.6000000000000023,0.6000000000000023,0.6000000000000023,0.6000000000000023,0.6000000000000023,0.6000000000000023,0.6000000000000023,0.6000000000000023,0.6000000000000023,0.6000000000000023,0.6000000000000023,0.6000000000000023,0.7000000000000024,0.7000000000000024,0.7000000000000024,0.7000000000000024,0.7000000000000024,0.7000000000000024,0.7000000000000024,0.7000000000000024,0.7000000000000024,0.7000000000000024,0.7000000000000024,0.7000000000000024,0.7000000000000024,0.7000000000000024,0.7000000000000024,0.7000000000000024,0.7000000000000024,0.7000000000000024,0.7000000000000024,0.7000000000000024,0.7000000000000024,0.7000000000000024,0.7000000000000024,0.7000000000000024,0.7000000000000024,0.7000000000000024,0.7000000000000024,0.7000000000000024,0.7000000000000024,0.7000000000000024,0.7000000000000024,0.7000000000000024,0.7000000000000024,0.7000000000000024,0.8000000000000025,0.8000000000000025,0.8000000000000025,0.8000000000000025,0.8000000000000025,0.8000000000000025,0.8000000000000025,0.8000000000000025,0.8000000000000025,0.8000000000000025,0.8000000000000025,0.8000000000000025,0.8000000000000025,0.8000000000000025,0.8000000000000025,0.8000000000000025,0.8000000000000025,0.8000000000000025,0.8000000000000025,0.8000000000000025,0.8000000000000025,0.8000000000000025,0.8000000000000025,0.8000000000000025,0.8000000000000025,0.8000000000000025,0.8000000000000025,0.8000000000000025,0.8000000000000025,0.8000000000000025,0.9000000000000026,0.9000000000000026,0.9000000000000026,0.9000000000000026,0.9000000000000026,0.9000000000000026,0.9000000000000026,0.9000000000000026,0.9000000000000026,0.9000000000000026,0.9000000000000026,0.9000000000000026,0.9000000000000026,0.9000000000000026,0.9000000000000026,0.9000000000000026,0.9000000000000026,0.9000000000000026,0.9000000000000026,0.9000000000000026,0.9000000000000026,0.9000000000000026,0.9000000000000026,0.9000000000000026,0.9000000000000026,0.9000000000000026,1.0000000000000027,1.0000000000000027,1.0000000000000027,1.0000000000000027,1.0000000000000027,1.0000000000000027,1.0000000000000027,1.0000000000000027,1.0000000000000027,1.0000000000000027,1.0000000000000027,1.0000000000000027,1.0000000000000027,1.0000000000000027,1.0000000000000027,1.0000000000000027,1.0000000000000027,1.0000000000000027,1.1000000000000028,1.1000000000000028,1.1000000000000028,1.1000000000000028,1.1000000000000028,1.1000000000000028,1.1000000000000028,1.1000000000000028,1.1000000000000028,1.1000000000000028],\"y\":[-0.1999999999999984,-0.1999999999999984,-0.09999999999999831,-0.09999999999999831,1.7763568394002505e-15,1.7763568394002505e-15,0.10000000000000187,0.10000000000000187,0.20000000000000195,0.20000000000000195,-0.3999999999999986,-0.3999999999999986,-0.2999999999999985,-0.2999999999999985,-0.1999999999999984,-0.1999999999999984,-0.09999999999999831,-0.09999999999999831,1.7763568394002505e-15,1.7763568394002505e-15,0.10000000000000187,0.10000000000000187,0.20000000000000195,0.20000000000000195,0.30000000000000204,0.30000000000000204,0.40000000000000213,0.40000000000000213,-0.5999999999999988,-0.5999999999999988,-0.49999999999999867,-0.49999999999999867,-0.3999999999999986,-0.3999999999999986,-0.2999999999999985,-0.2999999999999985,-0.1999999999999984,-0.1999999999999984,-0.09999999999999831,-0.09999999999999831,1.7763568394002505e-15,1.7763568394002505e-15,0.10000000000000187,0.10000000000000187,0.20000000000000195,0.20000000000000195,0.30000000000000204,0.30000000000000204,0.40000000000000213,0.40000000000000213,0.5000000000000022,0.5000000000000022,0.6000000000000023,0.6000000000000023,-0.6999999999999988,-0.6999999999999988,-0.5999999999999988,-0.5999999999999988,-0.49999999999999867,-0.49999999999999867,-0.3999999999999986,-0.3999999999999986,-0.2999999999999985,-0.2999999999999985,-0.1999999999999984,-0.1999999999999984,-0.09999999999999831,-0.09999999999999831,1.7763568394002505e-15,1.7763568394002505e-15,0.10000000000000187,0.10000000000000187,0.20000000000000195,0.20000000000000195,0.30000000000000204,0.30000000000000204,0.40000000000000213,0.40000000000000213,0.5000000000000022,0.5000000000000022,0.6000000000000023,0.6000000000000023,0.7000000000000024,0.7000000000000024,-0.7999999999999989,-0.7999999999999989,-0.6999999999999988,-0.6999999999999988,-0.5999999999999988,-0.5999999999999988,-0.49999999999999867,-0.49999999999999867,-0.3999999999999986,-0.3999999999999986,-0.2999999999999985,-0.2999999999999985,-0.1999999999999984,-0.1999999999999984,-0.09999999999999831,-0.09999999999999831,1.7763568394002505e-15,1.7763568394002505e-15,0.10000000000000187,0.10000000000000187,0.20000000000000195,0.20000000000000195,0.30000000000000204,0.30000000000000204,0.40000000000000213,0.40000000000000213,0.5000000000000022,0.5000000000000022,0.6000000000000023,0.6000000000000023,0.7000000000000024,0.7000000000000024,0.8000000000000025,0.8000000000000025,-0.7999999999999989,-0.7999999999999989,-0.6999999999999988,-0.6999999999999988,-0.5999999999999988,-0.5999999999999988,-0.49999999999999867,-0.49999999999999867,-0.3999999999999986,-0.3999999999999986,-0.2999999999999985,-0.2999999999999985,-0.1999999999999984,-0.1999999999999984,-0.09999999999999831,-0.09999999999999831,1.7763568394002505e-15,1.7763568394002505e-15,0.10000000000000187,0.10000000000000187,0.20000000000000195,0.20000000000000195,0.30000000000000204,0.30000000000000204,0.40000000000000213,0.40000000000000213,0.5000000000000022,0.5000000000000022,0.6000000000000023,0.6000000000000023,0.7000000000000024,0.7000000000000024,0.8000000000000025,0.8000000000000025,-0.899999999999999,-0.899999999999999,-0.7999999999999989,-0.7999999999999989,-0.6999999999999988,-0.6999999999999988,-0.5999999999999988,-0.5999999999999988,-0.49999999999999867,-0.49999999999999867,-0.3999999999999986,-0.3999999999999986,-0.2999999999999985,-0.2999999999999985,-0.1999999999999984,-0.1999999999999984,-0.09999999999999831,-0.09999999999999831,1.7763568394002505e-15,1.7763568394002505e-15,0.10000000000000187,0.10000000000000187,0.20000000000000195,0.20000000000000195,0.30000000000000204,0.30000000000000204,0.40000000000000213,0.40000000000000213,0.5000000000000022,0.5000000000000022,0.6000000000000023,0.6000000000000023,0.7000000000000024,0.7000000000000024,0.8000000000000025,0.8000000000000025,0.9000000000000026,0.9000000000000026,-0.899999999999999,-0.899999999999999,-0.7999999999999989,-0.7999999999999989,-0.6999999999999988,-0.6999999999999988,-0.5999999999999988,-0.5999999999999988,-0.49999999999999867,-0.49999999999999867,-0.3999999999999986,-0.3999999999999986,-0.2999999999999985,-0.2999999999999985,-0.1999999999999984,-0.1999999999999984,-0.09999999999999831,-0.09999999999999831,1.7763568394002505e-15,1.7763568394002505e-15,0.10000000000000187,0.10000000000000187,0.20000000000000195,0.20000000000000195,0.30000000000000204,0.30000000000000204,0.40000000000000213,0.40000000000000213,0.5000000000000022,0.5000000000000022,0.6000000000000023,0.6000000000000023,0.7000000000000024,0.7000000000000024,0.8000000000000025,0.8000000000000025,0.9000000000000026,0.9000000000000026,-0.899999999999999,-0.899999999999999,-0.7999999999999989,-0.7999999999999989,-0.6999999999999988,-0.6999999999999988,-0.5999999999999988,-0.5999999999999988,-0.49999999999999867,-0.49999999999999867,-0.3999999999999986,-0.3999999999999986,-0.2999999999999985,-0.2999999999999985,-0.1999999999999984,-0.1999999999999984,-0.09999999999999831,-0.09999999999999831,1.7763568394002505e-15,1.7763568394002505e-15,0.10000000000000187,0.10000000000000187,0.20000000000000195,0.20000000000000195,0.30000000000000204,0.30000000000000204,0.40000000000000213,0.40000000000000213,0.5000000000000022,0.5000000000000022,0.6000000000000023,0.6000000000000023,0.7000000000000024,0.7000000000000024,0.8000000000000025,0.8000000000000025,0.9000000000000026,0.9000000000000026,-0.899999999999999,-0.899999999999999,-0.7999999999999989,-0.7999999999999989,-0.6999999999999988,-0.6999999999999988,-0.5999999999999988,-0.5999999999999988,-0.49999999999999867,-0.49999999999999867,-0.3999999999999986,-0.3999999999999986,-0.2999999999999985,-0.2999999999999985,-0.1999999999999984,-0.1999999999999984,-0.09999999999999831,-0.09999999999999831,1.7763568394002505e-15,1.7763568394002505e-15,0.10000000000000187,0.10000000000000187,0.20000000000000195,0.20000000000000195,0.30000000000000204,0.30000000000000204,0.40000000000000213,0.40000000000000213,0.5000000000000022,0.5000000000000022,0.6000000000000023,0.6000000000000023,0.7000000000000024,0.7000000000000024,0.8000000000000025,0.8000000000000025,0.9000000000000026,0.9000000000000026,-0.9999999999999991,-0.9999999999999991,-0.899999999999999,-0.899999999999999,-0.7999999999999989,-0.7999999999999989,-0.6999999999999988,-0.6999999999999988,-0.5999999999999988,-0.5999999999999988,-0.49999999999999867,-0.49999999999999867,-0.3999999999999986,-0.3999999999999986,-0.2999999999999985,-0.2999999999999985,-0.1999999999999984,-0.1999999999999984,-0.09999999999999831,-0.09999999999999831,1.7763568394002505e-15,1.7763568394002505e-15,0.10000000000000187,0.10000000000000187,0.20000000000000195,0.20000000000000195,0.30000000000000204,0.30000000000000204,0.40000000000000213,0.40000000000000213,0.5000000000000022,0.5000000000000022,0.6000000000000023,0.6000000000000023,0.7000000000000024,0.7000000000000024,0.8000000000000025,0.8000000000000025,0.9000000000000026,0.9000000000000026,1.0000000000000027,1.0000000000000027,-0.9999999999999991,-0.9999999999999991,-0.899999999999999,-0.899999999999999,-0.7999999999999989,-0.7999999999999989,-0.6999999999999988,-0.6999999999999988,-0.5999999999999988,-0.5999999999999988,-0.49999999999999867,-0.49999999999999867,-0.3999999999999986,-0.3999999999999986,-0.2999999999999985,-0.2999999999999985,-0.1999999999999984,-0.1999999999999984,-0.09999999999999831,-0.09999999999999831,1.7763568394002505e-15,1.7763568394002505e-15,0.10000000000000187,0.10000000000000187,0.20000000000000195,0.20000000000000195,0.30000000000000204,0.30000000000000204,0.40000000000000213,0.40000000000000213,0.5000000000000022,0.5000000000000022,0.6000000000000023,0.6000000000000023,0.7000000000000024,0.7000000000000024,0.8000000000000025,0.8000000000000025,0.9000000000000026,0.9000000000000026,1.0000000000000027,1.0000000000000027,-0.9999999999999991,-0.9999999999999991,-0.899999999999999,-0.899999999999999,-0.7999999999999989,-0.7999999999999989,-0.6999999999999988,-0.6999999999999988,-0.5999999999999988,-0.5999999999999988,-0.49999999999999867,-0.49999999999999867,-0.3999999999999986,-0.3999999999999986,-0.2999999999999985,-0.2999999999999985,-0.1999999999999984,-0.1999999999999984,-0.09999999999999831,-0.09999999999999831,1.7763568394002505e-15,1.7763568394002505e-15,0.10000000000000187,0.10000000000000187,0.20000000000000195,0.20000000000000195,0.30000000000000204,0.30000000000000204,0.40000000000000213,0.40000000000000213,0.5000000000000022,0.5000000000000022,0.6000000000000023,0.6000000000000023,0.7000000000000024,0.7000000000000024,0.8000000000000025,0.8000000000000025,0.9000000000000026,0.9000000000000026,1.0000000000000027,1.0000000000000027,-0.899999999999999,-0.899999999999999,-0.7999999999999989,-0.7999999999999989,-0.6999999999999988,-0.6999999999999988,-0.5999999999999988,-0.5999999999999988,-0.49999999999999867,-0.49999999999999867,-0.3999999999999986,-0.3999999999999986,-0.2999999999999985,-0.2999999999999985,-0.1999999999999984,-0.1999999999999984,-0.09999999999999831,-0.09999999999999831,1.7763568394002505e-15,1.7763568394002505e-15,0.10000000000000187,0.10000000000000187,0.20000000000000195,0.20000000000000195,0.30000000000000204,0.30000000000000204,0.40000000000000213,0.40000000000000213,0.5000000000000022,0.5000000000000022,0.6000000000000023,0.6000000000000023,0.7000000000000024,0.7000000000000024,0.8000000000000025,0.8000000000000025,0.9000000000000026,0.9000000000000026,-0.899999999999999,-0.899999999999999,-0.7999999999999989,-0.7999999999999989,-0.6999999999999988,-0.6999999999999988,-0.5999999999999988,-0.5999999999999988,-0.49999999999999867,-0.49999999999999867,-0.3999999999999986,-0.3999999999999986,-0.2999999999999985,-0.2999999999999985,-0.1999999999999984,-0.1999999999999984,-0.09999999999999831,-0.09999999999999831,1.7763568394002505e-15,1.7763568394002505e-15,0.10000000000000187,0.10000000000000187,0.20000000000000195,0.20000000000000195,0.30000000000000204,0.30000000000000204,0.40000000000000213,0.40000000000000213,0.5000000000000022,0.5000000000000022,0.6000000000000023,0.6000000000000023,0.7000000000000024,0.7000000000000024,0.8000000000000025,0.8000000000000025,0.9000000000000026,0.9000000000000026,-0.899999999999999,-0.899999999999999,-0.7999999999999989,-0.7999999999999989,-0.6999999999999988,-0.6999999999999988,-0.5999999999999988,-0.5999999999999988,-0.49999999999999867,-0.49999999999999867,-0.3999999999999986,-0.3999999999999986,-0.2999999999999985,-0.2999999999999985,-0.1999999999999984,-0.1999999999999984,-0.09999999999999831,-0.09999999999999831,1.7763568394002505e-15,1.7763568394002505e-15,0.10000000000000187,0.10000000000000187,0.20000000000000195,0.20000000000000195,0.30000000000000204,0.30000000000000204,0.40000000000000213,0.40000000000000213,0.5000000000000022,0.5000000000000022,0.6000000000000023,0.6000000000000023,0.7000000000000024,0.7000000000000024,0.8000000000000025,0.8000000000000025,0.9000000000000026,0.9000000000000026,-0.899999999999999,-0.899999999999999,-0.7999999999999989,-0.7999999999999989,-0.6999999999999988,-0.6999999999999988,-0.5999999999999988,-0.5999999999999988,-0.49999999999999867,-0.49999999999999867,-0.3999999999999986,-0.3999999999999986,-0.2999999999999985,-0.2999999999999985,-0.1999999999999984,-0.1999999999999984,-0.09999999999999831,-0.09999999999999831,1.7763568394002505e-15,1.7763568394002505e-15,0.10000000000000187,0.10000000000000187,0.20000000000000195,0.20000000000000195,0.30000000000000204,0.30000000000000204,0.40000000000000213,0.40000000000000213,0.5000000000000022,0.5000000000000022,0.6000000000000023,0.6000000000000023,0.7000000000000024,0.7000000000000024,0.8000000000000025,0.8000000000000025,0.9000000000000026,0.9000000000000026,-0.7999999999999989,-0.7999999999999989,-0.6999999999999988,-0.6999999999999988,-0.5999999999999988,-0.5999999999999988,-0.49999999999999867,-0.49999999999999867,-0.3999999999999986,-0.3999999999999986,-0.2999999999999985,-0.2999999999999985,-0.1999999999999984,-0.1999999999999984,-0.09999999999999831,-0.09999999999999831,1.7763568394002505e-15,1.7763568394002505e-15,0.10000000000000187,0.10000000000000187,0.20000000000000195,0.20000000000000195,0.30000000000000204,0.30000000000000204,0.40000000000000213,0.40000000000000213,0.5000000000000022,0.5000000000000022,0.6000000000000023,0.6000000000000023,0.7000000000000024,0.7000000000000024,0.8000000000000025,0.8000000000000025,-0.7999999999999989,-0.7999999999999989,-0.6999999999999988,-0.6999999999999988,-0.5999999999999988,-0.5999999999999988,-0.49999999999999867,-0.49999999999999867,-0.3999999999999986,-0.3999999999999986,-0.2999999999999985,-0.2999999999999985,-0.1999999999999984,-0.1999999999999984,-0.09999999999999831,-0.09999999999999831,1.7763568394002505e-15,1.7763568394002505e-15,0.10000000000000187,0.10000000000000187,0.20000000000000195,0.20000000000000195,0.30000000000000204,0.30000000000000204,0.40000000000000213,0.40000000000000213,0.5000000000000022,0.5000000000000022,0.6000000000000023,0.6000000000000023,0.7000000000000024,0.7000000000000024,0.8000000000000025,0.8000000000000025,-0.6999999999999988,-0.6999999999999988,-0.5999999999999988,-0.5999999999999988,-0.49999999999999867,-0.49999999999999867,-0.3999999999999986,-0.3999999999999986,-0.2999999999999985,-0.2999999999999985,-0.1999999999999984,-0.1999999999999984,-0.09999999999999831,-0.09999999999999831,1.7763568394002505e-15,1.7763568394002505e-15,0.10000000000000187,0.10000000000000187,0.20000000000000195,0.20000000000000195,0.30000000000000204,0.30000000000000204,0.40000000000000213,0.40000000000000213,0.5000000000000022,0.5000000000000022,0.6000000000000023,0.6000000000000023,0.7000000000000024,0.7000000000000024,-0.5999999999999988,-0.5999999999999988,-0.49999999999999867,-0.49999999999999867,-0.3999999999999986,-0.3999999999999986,-0.2999999999999985,-0.2999999999999985,-0.1999999999999984,-0.1999999999999984,-0.09999999999999831,-0.09999999999999831,1.7763568394002505e-15,1.7763568394002505e-15,0.10000000000000187,0.10000000000000187,0.20000000000000195,0.20000000000000195,0.30000000000000204,0.30000000000000204,0.40000000000000213,0.40000000000000213,0.5000000000000022,0.5000000000000022,0.6000000000000023,0.6000000000000023,-0.3999999999999986,-0.3999999999999986,-0.2999999999999985,-0.2999999999999985,-0.1999999999999984,-0.1999999999999984,-0.09999999999999831,-0.09999999999999831,1.7763568394002505e-15,1.7763568394002505e-15,0.10000000000000187,0.10000000000000187,0.20000000000000195,0.20000000000000195,0.30000000000000204,0.30000000000000204,0.40000000000000213,0.40000000000000213,-0.1999999999999984,-0.1999999999999984,-0.09999999999999831,-0.09999999999999831,1.7763568394002505e-15,1.7763568394002505e-15,0.10000000000000187,0.10000000000000187,0.20000000000000195,0.20000000000000195],\"z\":[0.7156973109860353,0.3504330617848197,0.7853476742672081,0.2803866455776582,0.804604414445922,0.2609978223206887,0.7853476742672075,0.2803866455776594,0.7156973109860307,0.35043306178482303,0.7978156821133675,0.20457858081662111,0.8992534996874195,0.10209468190216686,0.9580070520124552,0.04259258834711291,0.9898443164736545,0.010305661031968378,1.000000000000003,-1.776356839400251e-15,0.9898443164736535,0.010305661031969053,0.9580070520124537,0.04259258834711427,0.8992534996874174,0.10209468190216932,0.7978156821133623,0.2045785808166262,0.6762609966018204,0.2620822447111386,0.8609373848318093,0.0755281407749532,0.9627440705111442,-0.027820477757689557,1.0291322368577247,-0.09541145101023324,1.0720310757998839,-0.1391713387493746,1.0963414358547525,-0.16399909199803583,1.1042346322483305,-0.17206488046217377,1.0963414358547499,-0.16399909199803528,1.072031075799881,-0.13917133874937343,1.0291322368577247,-0.09541145101023132,0.9627440705111389,-0.027820477757686753,0.8609373848318049,0.07552814077495774,0.6762609966018114,0.26208224471114877,0.6595091478735126,0.2120501291770081,0.8605762714345662,0.008408319216069734,0.9745143533175826,-0.10772032206876353,1.0520428923385785,-0.18704940780748308,1.1060616788827384,-0.24247381960733824,1.1420700247699807,-0.2794889919856619,1.1628004292872456,-0.30082462234247337,1.1695773693404468,-0.30780349332769236,1.1628004292872465,-0.300824622342473,1.1420700247699829,-0.2794889919856608,1.1060616788827364,-0.24247381960733672,1.0520428923385765,-0.18704940780748075,0.9745143533175804,-0.1077203220687602,0.8605762714345613,0.008408319216074713,0.659509147873502,0.2120501291770188,0.5379597807551505,0.26556632133252434,0.8125192827827329,-0.012493241963732688,0.9476226001382105,-0.1506549125983077,1.039619413679834,-0.245258021007413,1.1058162103694817,-0.3136000329423031,1.153180893110752,-0.36264128420643094,1.1852126448965419,-0.3958749529211774,1.2037994031626598,-0.4151846218621761,1.2098970010141816,-0.42152348470365714,1.2037994031626609,-0.4151846218621756,1.1852126448965412,-0.3958749529211766,1.1531808931107503,-0.36264128420642966,1.1058162103694813,-0.3136000329423009,1.0396194136798318,-0.24525802100741043,0.9476226001382051,-0.15065491259830374,0.812519282782729,-0.01249324196372662,0.5379597807551306,0.26556632133254504,0.7117915321969288,0.018072707271878385,0.884133688832248,-0.15851788227311261,0.9958059656038174,-0.27391279970351373,1.0763725883928608,-0.3576596098334427,1.1358496834877165,-0.41975976833131595,1.1789993326091908,-0.46496294343680783,1.2084151087927069,-0.4958527873742329,-0.5138862231089658,1.2255611683648076,-0.5198190360417233,1.2311976969397367,-0.5138862231089658,1.2255611683648058,1.2084151087927086,-0.4958527873742328,1.1789993326091908,-0.4649629434368068,1.1358496834877143,-0.41975976833131406,1.076372588392858,-0.3576596098334401,0.9958059656038143,-0.2739127997035105,0.8841336888322451,-0.158517882273108,0.7117915321969206,0.01807270727188642,0.509473416908127,0.14972518186116204,0.7781127174955659,-0.12483538414928498,0.9198960464513548,-0.271933987503262,1.01893496333959,-0.3756510609327623,1.092385487765951,-0.4531138554506811,-0.5114173010663763,1.147368301339194,-0.5542310353628788,1.18757514105838,-0.583645498573751,1.215114314653426,-0.6008715741558066,1.2312098488589354,-0.6065470381245951,1.236507563072031,-0.6008715741558055,1.2312098488589345,-0.583645498573752,1.2151143146534267,-0.554231035362877,1.1875751410583812,-0.5114173010663744,1.147368301339192,1.0923854877659491,-0.4531138554506789,1.018934963339589,-0.375651060932759,0.9198960464513521,-0.2719339875032579,0.7781127174955609,-0.1248353841492786,0.5094734169081104,0.1497251818611796,0.6040350419743501,-0.02271225847288755,0.8058878326116815,-0.23221097580483557,0.9318030339647642,-0.36504603183430406,1.0228312178684857,-0.4622111563872809,-0.536016797309415,1.0913370680477505,-0.5921053048633432,1.1430128972686733,-0.6335409960798651,1.180966984977372,-0.6621179337987553,1.2070296833900753,-0.6788920896923445,1.2222840899148546,-0.6844246672796204,1.2273081905986025,-0.678892089692343,1.2222840899148544,-0.6621179337987538,1.2070296833900733,-0.6335409960798646,1.1809669849773723,-0.592105304863342,1.1430128972686715,-0.5360167973094129,1.0913370680477472,1.0228312178684815,-0.4622111563872779,0.9318030339647605,-0.3650460318343002,0.8058878326116785,-0.23221097580482983,0.6040350419743411,-0.022712258472877264,0.6339791452358488,-0.13205323965168914,0.8093137819774351,-0.3177210196170502,0.9253425267771545,-0.4432423541891059,-0.537060338633362,1.010620150021049,-0.6091474325007784,1.0752323083938546,-0.6643301364127431,1.1241157958488746,-0.7052987784304454,1.1600629761769665,-0.7336489654690712,1.1847573443305632,-0.7503254646424831,1.199211598701028,-0.7558315287977899,1.203972003453504,-0.750325464642482,1.1992115987010283,-0.7336489654690712,1.1847573443305652,-0.7052987784304453,1.1600629761769645,-0.6643301364127425,1.124115795848875,-0.6091474325007772,1.0752323083938538,-0.5370603386333586,1.0106201500210472,0.9253425267771525,-0.44324235418910224,0.8093137819774314,-0.3177210196170455,0.6339791452358406,-0.13205323965168064,0.6349983733941896,-0.2105816417847626,0.7957367957226192,-0.38597687281896764,0.9045836792022262,-0.5086881518864245,-0.6018545742876418,0.9848957295067513,-0.6741995101047125,1.0456474521770391,-0.7300365345183969,1.0914303083826329,-0.7717685277145537,1.1249370359413162,-0.8007988151193901,1.1478488512285776,-0.8179382453399892,1.1612111371625615,-0.8236079439164138,1.1656031332517496,-0.8179382453399902,1.161211137162562,-0.8007988151193873,1.1478488512285752,-0.7717685277145524,1.1249370359413164,-0.7300365345183942,1.0914303083826347,-0.6741995101047106,1.0456474521770396,-0.6018545742876391,0.9848957295067488,0.9045836792022242,-0.5086881518864204,0.7957367957226148,-0.38597687281896276,0.6349983733941832,-0.2105816417847549,0.26796869053929173,0.11232655553684658,0.6224801706014416,-0.2630107877039951,0.7740746677155228,-0.4355342114410875,0.8767194328002021,-0.5590739541776567,-0.6545015467424421,0.9515088285117033,-0.7299294573671992,1.0069123702049203,-0.7893247543080678,1.047457330442875,-0.8347278041656827,1.0760286113839832,-0.8670624324791167,1.0947262439753647,-0.8865518080170278,1.1051796309473982,-0.8930799302072718,1.1085233992104557,-0.8865518080170208,1.105179630947393,-0.867062432479114,1.0947262439753613,-0.8347278041656829,1.0760286113839836,-0.789324754308063,1.0474573304428743,-0.7299294573671988,1.006912370204921,-0.6545015467424404,0.9515088285117023,0.8767194328002013,-0.5590739541776533,0.7740746677155182,-0.4355342114410832,0.6224801706014341,-0.2630107877039873,0.2679686905392472,0.11232655553689165,0.28521656540708007,0.07047276504192572,0.6143374098946375,-0.2827745750170023,0.7620518386354584,-0.4555280656780375,-0.5807699853046772,0.8611860334648958,-0.678947712540162,0.9319775121306847,-0.7583250756315343,0.9823953129593946,-0.8232911006320304,1.0163889775531514,-0.8766180196775902,1.0360168050549803,-0.9204502756439741,1.042094315555435,-0.9573084912123675,1.0339394344517294,-1.0000060120253236,1.0000059738516724,-0.957308491212428,1.033939434451758,-0.920450275643983,1.0420943155554574,-0.8766180196775804,1.0360168050549734,-0.8232911006320336,1.0163889775531538,-0.7583250756315315,0.982395312959391,-0.6789477125401605,0.9319775121306838,-0.5807699853046735,0.8611860334648936,0.7620518386354553,-0.45552806567803217,0.6143374098946313,-0.28277457501699477,0.285216565407048,0.07047276504195858,0.26796869053928896,0.1123265555368512,0.6224801706014417,-0.2630107877039935,0.774074667715524,-0.43553421144108617,0.8767194328002041,-0.559073954177656,-0.6545015467424413,0.9515088285117056,-0.7299294573671969,1.006912370204921,-0.7893247543080656,1.0474573304428716,-0.8347278041656777,1.0760286113839874,-0.8670624324791191,1.0947262439753638,-0.8865518080170182,1.1051796309473922,-0.8930799302072667,1.108523399210457,-0.8865518080170259,1.105179630947403,-0.8670624324791055,1.0947262439753631,-0.8347278041656818,1.0760286113839885,-0.7893247543080639,1.0474573304428736,-0.7299294573671996,1.0069123702049256,-0.6545015467424389,0.9515088285117045,0.8767194328002017,-0.5590739541776512,0.7740746677155207,-0.43553421144108173,0.622480170601436,-0.26301078770398617,0.26796869053924455,0.11232655553689633,0.6349983733941913,-0.21058164178476044,0.7957367957226197,-0.3859768728189657,0.9045836792022273,-0.5086881518864224,-0.6018545742876396,0.9848957295067533,-0.6741995101047115,1.0456474521770402,-0.7300365345183936,1.0914303083826353,-0.7717685277145493,1.1249370359413118,-0.8007988151193862,1.1478488512285796,-0.8179382453399893,1.1612111371625653,-0.82360794391641,1.1656031332517511,-0.8179382453399866,1.1612111371625635,-0.8007988151193871,1.1478488512285812,-0.7717685277145495,1.1249370359413162,-0.7300365345183922,1.091430308382634,-0.6741995101047102,1.0456474521770405,-0.6018545742876372,0.9848957295067496,0.904583679202223,-0.5086881518864181,0.7957367957226145,-0.38597687281896065,0.6349983733941836,-0.21058164178475255,0.6339791452358499,-0.13205323965168594,0.8093137819774382,-0.31772101961704824,0.9253425267771571,-0.44324235418910385,-0.5370603386333572,1.0106201500210472,-0.6091474325007764,1.0752323083938582,-0.6643301364127422,1.124115795848877,-0.7052987784304436,1.1600629761769659,-0.7336489654690683,1.1847573443305623,-0.7503254646424797,1.199211598701028,-0.755831528797788,1.203972003453505,-0.7503254646424792,1.1992115987010283,-0.7336489654690681,1.1847573443305628,-0.7052987784304423,1.1600629761769663,-0.6643301364127394,1.124115795848874,-0.6091474325007745,1.0752323083938562,-0.5370603386333558,1.010620150021049,0.925342526777152,-0.44324235418909974,0.8093137819774329,-0.31772101961704274,0.6339791452358405,-0.13205323965167748,0.6040350419743485,-0.0227122584728828,0.8058878326116816,-0.2322109758048322,0.9318030339647649,-0.365046031834301,1.0228312178684842,-0.4622111563872776,-0.5360167973094133,1.0913370680477508,-0.5921053048633415,1.1430128972686728,-0.6335409960798626,1.1809669849773738,-0.662117933798752,1.2070296833900749,-0.678892089692341,1.2222840899148555,-0.6844246672796176,1.2273081905986043,-0.6788920896923413,1.2222840899148555,-0.6621179337987513,1.207029683390074,-0.6335409960798628,1.180966984977373,-0.5921053048633396,1.1430128972686697,-0.5360167973094099,1.0913370680477468,1.0228312178684813,-0.4622111563872751,0.9318030339647629,-0.36504603183429685,0.805887832611679,-0.2322109758048266,0.6040350419743382,-0.022712258472872542,0.5094734169081216,0.14972518186117081,0.7781127174955653,-0.12483538414928065,0.9198960464513533,-0.2719339875032583,1.0189349633395914,-0.37565106093275913,1.09238548776595,-0.4531138554506783,-0.5114173010663727,1.1473683013391918,-0.5542310353628742,1.1875751410583821,-0.5836454985737488,1.215114314653425,-0.6008715741558044,1.2312098488589351,-0.6065470381245917,1.236507563072031,-0.6008715741558034,1.2312098488589354,-0.5836454985737486,1.2151143146534253,-0.5542310353628745,1.1875751410583797,-0.5114173010663713,1.1473683013391902,1.0923854877659487,-0.4531138554506756,1.0189349633395874,-0.3756510609327557,0.9198960464513491,-0.27193398750325437,0.7781127174955587,-0.12483538414927436,0.5094734169081042,0.1497251818611885,0.7117915321969255,0.018072707271884394,0.8841336888322444,-0.15851788227310812,0.9958059656038176,-0.27391279970350985,1.0763725883928605,-0.3576596098334392,1.1358496834877196,-0.41975976833131246,1.1789993326091908,-0.46496294343680483,1.2084151087927097,-0.4958527873742302,-0.513886223108963,1.2255611683648069,-0.5198190360417201,1.2311976969397354,-0.5138862231089624,1.2255611683648062,1.2084151087927073,-0.4958527873742286,1.1789993326091914,-0.46496294343680356,1.1358496834877156,-0.4197597683313106,1.0763725883928557,-0.3576596098334365,0.9958059656038127,-0.2739127997035066,0.8841336888322409,-0.1585178822731034,0.7117915321969174,0.018072707271892415,0.5379597807551382,0.2655663213325402,0.8125192827827308,-0.012493241963726583,0.9476226001382081,-0.15065491259830283,1.0396194136798322,-0.24525802100740854,1.1058162103694813,-0.31360003294229905,1.1531808931107506,-0.36264128420642694,1.1852126448965394,-0.39587495292117375,1.20379940316266,-0.41518462186217214,1.2098970010141794,-0.4215234847036537,1.2037994031626584,-0.4151846218621717,1.1852126448965379,-0.39587495292117275,1.1531808931107483,-0.3626412842064258,1.1058162103694784,-0.313600032942297,1.0396194136798296,-0.24525802100740576,0.9476226001382019,-0.15065491259829897,0.8125192827827242,-0.0124932419637205,0.5379597807551167,0.2655663213325611,0.6595091478735041,0.21205012917701932,0.8605762714345624,0.008408319216076222,0.9745143533175828,-0.10772032206875815,1.052042892338576,-0.18704940780747814,1.1060616788827344,-0.24247381960733344,1.1420700247699824,-0.2794889919856574,1.1628004292872423,-0.30082462234246904,1.1695773693404443,-0.30780349332768797,1.162800429287243,-0.3008246223424686,1.1420700247699804,-0.2794889919856562,1.1060616788827335,-0.242473819607332,1.0520428923385736,-0.18704940780747567,0.9745143533175775,-0.1077203220687548,0.8605762714345565,0.008408319216081435,0.6595091478734925,0.2120501291770306,0.6762609966018097,0.2620822447111527,0.8609373848318037,0.07552814077496083,0.9627440705111402,-0.027820477757683225,1.0291322368577231,-0.09541145101022755,1.0720310757998839,-0.13917133874936924,1.096341435854747,-0.1639990919980305,1.1042346322483305,-0.17206488046216864,1.0963414358547479,-0.16399909199803003,1.0720310757998812,-0.1391713387493679,1.0291322368577196,-0.0954114510102255,0.9627440705111359,-0.027820477757680297,0.8609373848317992,0.07552814077496552,0.6762609966017991,0.2620822447111629,0.7978156821133583,0.2045785808166324,0.8992534996874122,0.10209468190217524,0.9580070520124497,0.04259258834712052,0.9898443164736497,0.010305661031975622,0.999999999999996,5.329070524082942e-15,0.989844316473649,0.010305661031976296,0.9580070520124486,0.042592588347121985,0.8992534996874108,0.10209468190217805,0.7978156821133539,0.20457858081663738,0.7156973109860182,0.35043306178483835,0.7853476742671963,0.2803866455776722,0.8046044144459108,0.2609978223207018,0.7853476742671944,0.280386645577673,0.7156973109860145,0.3504330617848412],\"type\":\"scatter3d\"}],                        {\"coloraxis\":{\"colorbar\":{\"title\":{\"text\":\"z\"}},\"colorscale\":[[0.0,\"#e2d9e2\"],[0.1111111111111111,\"#9ebbc9\"],[0.2222222222222222,\"#6785be\"],[0.3333333333333333,\"#5e43a5\"],[0.4444444444444444,\"#421257\"],[0.5555555555555556,\"#471340\"],[0.6666666666666666,\"#8e2c50\"],[0.7777777777777778,\"#ba6657\"],[0.8888888888888888,\"#ceac94\"],[1.0,\"#e2d9e2\"]],\"showscale\":false},\"height\":800,\"legend\":{\"tracegroupgap\":0},\"margin\":{\"t\":60},\"scene\":{\"domain\":{\"x\":[0.0,1.0],\"y\":[0.0,1.0]},\"xaxis\":{\"title\":{\"text\":\"x\"},\"showticklabels\":false,\"showgrid\":false},\"yaxis\":{\"title\":{\"text\":\"y\"},\"showticklabels\":false,\"showgrid\":false},\"zaxis\":{\"title\":{\"text\":\"z\"},\"showticklabels\":false,\"showgrid\":false},\"bgcolor\":\"white\"},\"template\":{\"data\":{\"barpolar\":[{\"marker\":{\"line\":{\"color\":\"white\",\"width\":0.5},\"pattern\":{\"fillmode\":\"overlay\",\"size\":10,\"solidity\":0.2}},\"type\":\"barpolar\"}],\"bar\":[{\"error_x\":{\"color\":\"#2a3f5f\"},\"error_y\":{\"color\":\"#2a3f5f\"},\"marker\":{\"line\":{\"color\":\"white\",\"width\":0.5},\"pattern\":{\"fillmode\":\"overlay\",\"size\":10,\"solidity\":0.2}},\"type\":\"bar\"}],\"carpet\":[{\"aaxis\":{\"endlinecolor\":\"#2a3f5f\",\"gridcolor\":\"#C8D4E3\",\"linecolor\":\"#C8D4E3\",\"minorgridcolor\":\"#C8D4E3\",\"startlinecolor\":\"#2a3f5f\"},\"baxis\":{\"endlinecolor\":\"#2a3f5f\",\"gridcolor\":\"#C8D4E3\",\"linecolor\":\"#C8D4E3\",\"minorgridcolor\":\"#C8D4E3\",\"startlinecolor\":\"#2a3f5f\"},\"type\":\"carpet\"}],\"choropleth\":[{\"colorbar\":{\"outlinewidth\":0,\"ticks\":\"\"},\"type\":\"choropleth\"}],\"contourcarpet\":[{\"colorbar\":{\"outlinewidth\":0,\"ticks\":\"\"},\"type\":\"contourcarpet\"}],\"contour\":[{\"colorbar\":{\"outlinewidth\":0,\"ticks\":\"\"},\"colorscale\":[[0.0,\"#0d0887\"],[0.1111111111111111,\"#46039f\"],[0.2222222222222222,\"#7201a8\"],[0.3333333333333333,\"#9c179e\"],[0.4444444444444444,\"#bd3786\"],[0.5555555555555556,\"#d8576b\"],[0.6666666666666666,\"#ed7953\"],[0.7777777777777778,\"#fb9f3a\"],[0.8888888888888888,\"#fdca26\"],[1.0,\"#f0f921\"]],\"type\":\"contour\"}],\"heatmapgl\":[{\"colorbar\":{\"outlinewidth\":0,\"ticks\":\"\"},\"colorscale\":[[0.0,\"#0d0887\"],[0.1111111111111111,\"#46039f\"],[0.2222222222222222,\"#7201a8\"],[0.3333333333333333,\"#9c179e\"],[0.4444444444444444,\"#bd3786\"],[0.5555555555555556,\"#d8576b\"],[0.6666666666666666,\"#ed7953\"],[0.7777777777777778,\"#fb9f3a\"],[0.8888888888888888,\"#fdca26\"],[1.0,\"#f0f921\"]],\"type\":\"heatmapgl\"}],\"heatmap\":[{\"colorbar\":{\"outlinewidth\":0,\"ticks\":\"\"},\"colorscale\":[[0.0,\"#0d0887\"],[0.1111111111111111,\"#46039f\"],[0.2222222222222222,\"#7201a8\"],[0.3333333333333333,\"#9c179e\"],[0.4444444444444444,\"#bd3786\"],[0.5555555555555556,\"#d8576b\"],[0.6666666666666666,\"#ed7953\"],[0.7777777777777778,\"#fb9f3a\"],[0.8888888888888888,\"#fdca26\"],[1.0,\"#f0f921\"]],\"type\":\"heatmap\"}],\"histogram2dcontour\":[{\"colorbar\":{\"outlinewidth\":0,\"ticks\":\"\"},\"colorscale\":[[0.0,\"#0d0887\"],[0.1111111111111111,\"#46039f\"],[0.2222222222222222,\"#7201a8\"],[0.3333333333333333,\"#9c179e\"],[0.4444444444444444,\"#bd3786\"],[0.5555555555555556,\"#d8576b\"],[0.6666666666666666,\"#ed7953\"],[0.7777777777777778,\"#fb9f3a\"],[0.8888888888888888,\"#fdca26\"],[1.0,\"#f0f921\"]],\"type\":\"histogram2dcontour\"}],\"histogram2d\":[{\"colorbar\":{\"outlinewidth\":0,\"ticks\":\"\"},\"colorscale\":[[0.0,\"#0d0887\"],[0.1111111111111111,\"#46039f\"],[0.2222222222222222,\"#7201a8\"],[0.3333333333333333,\"#9c179e\"],[0.4444444444444444,\"#bd3786\"],[0.5555555555555556,\"#d8576b\"],[0.6666666666666666,\"#ed7953\"],[0.7777777777777778,\"#fb9f3a\"],[0.8888888888888888,\"#fdca26\"],[1.0,\"#f0f921\"]],\"type\":\"histogram2d\"}],\"histogram\":[{\"marker\":{\"pattern\":{\"fillmode\":\"overlay\",\"size\":10,\"solidity\":0.2}},\"type\":\"histogram\"}],\"mesh3d\":[{\"colorbar\":{\"outlinewidth\":0,\"ticks\":\"\"},\"type\":\"mesh3d\"}],\"parcoords\":[{\"line\":{\"colorbar\":{\"outlinewidth\":0,\"ticks\":\"\"}},\"type\":\"parcoords\"}],\"pie\":[{\"automargin\":true,\"type\":\"pie\"}],\"scatter3d\":[{\"line\":{\"colorbar\":{\"outlinewidth\":0,\"ticks\":\"\"}},\"marker\":{\"colorbar\":{\"outlinewidth\":0,\"ticks\":\"\"}},\"type\":\"scatter3d\"}],\"scattercarpet\":[{\"marker\":{\"colorbar\":{\"outlinewidth\":0,\"ticks\":\"\"}},\"type\":\"scattercarpet\"}],\"scattergeo\":[{\"marker\":{\"colorbar\":{\"outlinewidth\":0,\"ticks\":\"\"}},\"type\":\"scattergeo\"}],\"scattergl\":[{\"marker\":{\"colorbar\":{\"outlinewidth\":0,\"ticks\":\"\"}},\"type\":\"scattergl\"}],\"scattermapbox\":[{\"marker\":{\"colorbar\":{\"outlinewidth\":0,\"ticks\":\"\"}},\"type\":\"scattermapbox\"}],\"scatterpolargl\":[{\"marker\":{\"colorbar\":{\"outlinewidth\":0,\"ticks\":\"\"}},\"type\":\"scatterpolargl\"}],\"scatterpolar\":[{\"marker\":{\"colorbar\":{\"outlinewidth\":0,\"ticks\":\"\"}},\"type\":\"scatterpolar\"}],\"scatter\":[{\"fillpattern\":{\"fillmode\":\"overlay\",\"size\":10,\"solidity\":0.2},\"type\":\"scatter\"}],\"scatterternary\":[{\"marker\":{\"colorbar\":{\"outlinewidth\":0,\"ticks\":\"\"}},\"type\":\"scatterternary\"}],\"surface\":[{\"colorbar\":{\"outlinewidth\":0,\"ticks\":\"\"},\"colorscale\":[[0.0,\"#0d0887\"],[0.1111111111111111,\"#46039f\"],[0.2222222222222222,\"#7201a8\"],[0.3333333333333333,\"#9c179e\"],[0.4444444444444444,\"#bd3786\"],[0.5555555555555556,\"#d8576b\"],[0.6666666666666666,\"#ed7953\"],[0.7777777777777778,\"#fb9f3a\"],[0.8888888888888888,\"#fdca26\"],[1.0,\"#f0f921\"]],\"type\":\"surface\"}],\"table\":[{\"cells\":{\"fill\":{\"color\":\"#EBF0F8\"},\"line\":{\"color\":\"white\"}},\"header\":{\"fill\":{\"color\":\"#C8D4E3\"},\"line\":{\"color\":\"white\"}},\"type\":\"table\"}]},\"layout\":{\"annotationdefaults\":{\"arrowcolor\":\"#2a3f5f\",\"arrowhead\":0,\"arrowwidth\":1},\"autotypenumbers\":\"strict\",\"coloraxis\":{\"colorbar\":{\"outlinewidth\":0,\"ticks\":\"\"}},\"colorscale\":{\"diverging\":[[0,\"#8e0152\"],[0.1,\"#c51b7d\"],[0.2,\"#de77ae\"],[0.3,\"#f1b6da\"],[0.4,\"#fde0ef\"],[0.5,\"#f7f7f7\"],[0.6,\"#e6f5d0\"],[0.7,\"#b8e186\"],[0.8,\"#7fbc41\"],[0.9,\"#4d9221\"],[1,\"#276419\"]],\"sequential\":[[0.0,\"#0d0887\"],[0.1111111111111111,\"#46039f\"],[0.2222222222222222,\"#7201a8\"],[0.3333333333333333,\"#9c179e\"],[0.4444444444444444,\"#bd3786\"],[0.5555555555555556,\"#d8576b\"],[0.6666666666666666,\"#ed7953\"],[0.7777777777777778,\"#fb9f3a\"],[0.8888888888888888,\"#fdca26\"],[1.0,\"#f0f921\"]],\"sequentialminus\":[[0.0,\"#0d0887\"],[0.1111111111111111,\"#46039f\"],[0.2222222222222222,\"#7201a8\"],[0.3333333333333333,\"#9c179e\"],[0.4444444444444444,\"#bd3786\"],[0.5555555555555556,\"#d8576b\"],[0.6666666666666666,\"#ed7953\"],[0.7777777777777778,\"#fb9f3a\"],[0.8888888888888888,\"#fdca26\"],[1.0,\"#f0f921\"]]},\"colorway\":[\"#636efa\",\"#EF553B\",\"#00cc96\",\"#ab63fa\",\"#FFA15A\",\"#19d3f3\",\"#FF6692\",\"#B6E880\",\"#FF97FF\",\"#FECB52\"],\"font\":{\"color\":\"#2a3f5f\"},\"geo\":{\"bgcolor\":\"white\",\"lakecolor\":\"white\",\"landcolor\":\"white\",\"showlakes\":true,\"showland\":true,\"subunitcolor\":\"#C8D4E3\"},\"hoverlabel\":{\"align\":\"left\"},\"hovermode\":\"closest\",\"mapbox\":{\"style\":\"light\"},\"paper_bgcolor\":\"white\",\"plot_bgcolor\":\"white\",\"polar\":{\"angularaxis\":{\"gridcolor\":\"#EBF0F8\",\"linecolor\":\"#EBF0F8\",\"ticks\":\"\"},\"bgcolor\":\"white\",\"radialaxis\":{\"gridcolor\":\"#EBF0F8\",\"linecolor\":\"#EBF0F8\",\"ticks\":\"\"}},\"scene\":{\"xaxis\":{\"backgroundcolor\":\"white\",\"gridcolor\":\"#DFE8F3\",\"gridwidth\":2,\"linecolor\":\"#EBF0F8\",\"showbackground\":true,\"ticks\":\"\",\"zerolinecolor\":\"#EBF0F8\"},\"yaxis\":{\"backgroundcolor\":\"white\",\"gridcolor\":\"#DFE8F3\",\"gridwidth\":2,\"linecolor\":\"#EBF0F8\",\"showbackground\":true,\"ticks\":\"\",\"zerolinecolor\":\"#EBF0F8\"},\"zaxis\":{\"backgroundcolor\":\"white\",\"gridcolor\":\"#DFE8F3\",\"gridwidth\":2,\"linecolor\":\"#EBF0F8\",\"showbackground\":true,\"ticks\":\"\",\"zerolinecolor\":\"#EBF0F8\"}},\"shapedefaults\":{\"line\":{\"color\":\"#2a3f5f\"}},\"ternary\":{\"aaxis\":{\"gridcolor\":\"#DFE8F3\",\"linecolor\":\"#A2B1C6\",\"ticks\":\"\"},\"baxis\":{\"gridcolor\":\"#DFE8F3\",\"linecolor\":\"#A2B1C6\",\"ticks\":\"\"},\"bgcolor\":\"white\",\"caxis\":{\"gridcolor\":\"#DFE8F3\",\"linecolor\":\"#A2B1C6\",\"ticks\":\"\"}},\"title\":{\"x\":0.05},\"xaxis\":{\"automargin\":true,\"gridcolor\":\"#EBF0F8\",\"linecolor\":\"#EBF0F8\",\"ticks\":\"\",\"title\":{\"standoff\":15},\"zerolinecolor\":\"#EBF0F8\",\"zerolinewidth\":2},\"yaxis\":{\"automargin\":true,\"gridcolor\":\"#EBF0F8\",\"linecolor\":\"#EBF0F8\",\"ticks\":\"\",\"title\":{\"standoff\":15},\"zerolinecolor\":\"#EBF0F8\",\"zerolinewidth\":2}}},\"width\":800,\"title\":{\"text\":\"$\\\\hbox{A Perfect Valentine: } (x^2 + (1+b)^2y^2 +z^2 -1)^3 -(x^2 +ay^2 )z^3$\"}},                        {\"responsive\": true}                    ).then(function(){\n",
              "                            \n",
              "var gd = document.getElementById('a62eb632-743b-4c0e-976c-1b3c149ba3e1');\n",
              "var x = new MutationObserver(function (mutations, observer) {{\n",
              "        var display = window.getComputedStyle(gd).display;\n",
              "        if (!display || display === 'none') {{\n",
              "            console.log([gd, 'removed!']);\n",
              "            Plotly.purge(gd);\n",
              "            observer.disconnect();\n",
              "        }}\n",
              "}});\n",
              "\n",
              "// Listen for the removal of the full notebook cells\n",
              "var notebookContainer = gd.closest('#notebook-container');\n",
              "if (notebookContainer) {{\n",
              "    x.observe(notebookContainer, {childList: true});\n",
              "}}\n",
              "\n",
              "// Listen for the clearing of the current output cell\n",
              "var outputEl = gd.closest('.output');\n",
              "if (outputEl) {{\n",
              "    x.observe(outputEl, {childList: true});\n",
              "}}\n",
              "\n",
              "                        })                };                            </script>        </div>\n",
              "</body>\n",
              "</html>"
            ]
          },
          "metadata": {}
        }
      ]
    },
    {
      "cell_type": "code",
      "source": [
        "# https://www.geeksforgeeks.org/python-print-heart-pattern/\n",
        "# define size n = even only\n",
        "n = 8\n",
        "\n",
        "# so this heart can be made n//2 part left,\n",
        "# n//2 part right, and one middle line\n",
        "# i.e; columns m = n + 1\n",
        "m = n+1\n",
        "\n",
        "# loops for upper part\n",
        "for i in range(n//2-1):\n",
        "    for j in range(m):\n",
        "\n",
        "        # condition for printing stars to GFG upper line\n",
        "        if i == n//2-2 and (j == 0 or j == m-1):\n",
        "            print(\"*\", end=\" \")\n",
        "\n",
        "        # condition for printing stars to left upper\n",
        "        elif j <= m//2 and ((i+j == n//2-3 and j <= m//4) \\\n",
        "                            or (j-i == m//2-n//2+3 and j > m//4)):\n",
        "            print(\"*\", end=\" \")\n",
        "\n",
        "        # condition for printing stars to right upper\n",
        "        elif j > m//2 and ((i+j == n//2-3+m//2 and j < 3*m//4) \\\n",
        "                           or (j-i == m//2-n//2+3+m//2 and j >= 3*m//4)):\n",
        "            print(\"*\", end=\" \")\n",
        "\n",
        "        # condition for printing spaces\n",
        "        else:\n",
        "            print(\" \", end=\" \")\n",
        "    print()\n",
        "\n",
        "# loops for lower part\n",
        "for i in range(n//2-1, n):\n",
        "    for j in range(m):\n",
        "\n",
        "        # condition for printing stars\n",
        "        if (i-j == n//2-1) or (i+j == n-1+m//2):\n",
        "            print('*', end=\" \")\n",
        "\n",
        "        # condition for printing GFG\n",
        "        elif i == n//2-1:\n",
        "\n",
        "            if j == m//2-1 or j == m//2+1:\n",
        "                print('   ', end=\" \")\n",
        "            elif j == m//2:\n",
        "                print('DATA ', end=\" \")\n",
        "\n",
        "        # condition for printing spaces\n",
        "        else:\n",
        "            print(' ', end=\" \")\n",
        "    print()"
      ],
      "metadata": {
        "colab": {
          "base_uri": "https://localhost:8080/"
        },
        "id": "R58zGyUTfl43",
        "outputId": "129495a7-6870-4072-e8ec-8d4f419de346"
      },
      "id": "R58zGyUTfl43",
      "execution_count": null,
      "outputs": [
        {
          "output_type": "stream",
          "name": "stdout",
          "text": [
            "  *   *   *   *   \n",
            "*       *       * \n",
            "*               * \n",
            "*     DATA      * \n",
            "  *           *   \n",
            "    *       *     \n",
            "      *   *       \n",
            "        *         \n"
          ]
        }
      ]
    }
  ],
  "metadata": {
    "kernelspec": {
      "display_name": "Python 3 (ipykernel)",
      "language": "python",
      "name": "python3"
    },
    "language_info": {
      "codemirror_mode": {
        "name": "ipython",
        "version": 3
      },
      "file_extension": ".py",
      "mimetype": "text/x-python",
      "name": "python",
      "nbconvert_exporter": "python",
      "pygments_lexer": "ipython3",
      "version": "3.9.12"
    },
    "colab": {
      "provenance": []
    }
  },
  "nbformat": 4,
  "nbformat_minor": 5
}