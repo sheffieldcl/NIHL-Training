{
  "nbformat": 4,
  "nbformat_minor": 0,
  "metadata": {
    "colab": {
      "provenance": [],
      "include_colab_link": true
    },
    "kernelspec": {
      "name": "python3",
      "display_name": "Python 3"
    },
    "language_info": {
      "name": "python"
    }
  },
  "cells": [
    {
      "cell_type": "markdown",
      "metadata": {
        "id": "view-in-github",
        "colab_type": "text"
      },
      "source": [
        "<a href=\"https://colab.research.google.com/github/sheffieldcl/NIHL-Training/blob/Python-Training/Week1b_sz_Basic_Python_Variable_Type.ipynb\" target=\"_parent\"><img src=\"https://colab.research.google.com/assets/colab-badge.svg\" alt=\"Open In Colab\"/></a>"
      ]
    },
    {
      "cell_type": "markdown",
      "source": [
        "In Colab, the Python interpreter and the essential packages are installed.\n",
        "\n",
        "We can first check the python version on the Colab environment by the following command: !python --version\n",
        "\n",
        "Colab supports command line commands by simply adding an exclamation mark in the front."
      ],
      "metadata": {
        "id": "Au7jttQ_rx0J"
      }
    },
    {
      "cell_type": "code",
      "execution_count": null,
      "metadata": {
        "colab": {
          "base_uri": "https://localhost:8080/"
        },
        "id": "XTetnrb4rnHS",
        "outputId": "6cd934b8-dc48-4083-cf49-39255310fa11"
      },
      "outputs": [
        {
          "output_type": "stream",
          "name": "stdout",
          "text": [
            "Python 3.10.12\n"
          ]
        }
      ],
      "source": [
        "!python --version"
      ]
    },
    {
      "cell_type": "markdown",
      "source": [
        "Let try more commands:\n",
        "\n",
        "1.   To show the present working directory: ! pwd\n",
        "2.   To list the file system: ! ls\n",
        "3.   To use pip to install a bioinformatic processing package named 'biopython': ! pip install biopython\n",
        "\n",
        "Note that you can add some white spaces between the exclamation mark and the command\n",
        "\n"
      ],
      "metadata": {
        "id": "2ef7FT7RstpA"
      }
    },
    {
      "cell_type": "code",
      "source": [
        "! pwd"
      ],
      "metadata": {
        "colab": {
          "base_uri": "https://localhost:8080/"
        },
        "id": "8RfV5VSYtCII",
        "outputId": "08c63a08-1c09-4733-db60-6acdddefa9eb"
      },
      "execution_count": null,
      "outputs": [
        {
          "output_type": "stream",
          "name": "stdout",
          "text": [
            "/content\n"
          ]
        }
      ]
    },
    {
      "cell_type": "code",
      "source": [
        "!ls -h"
      ],
      "metadata": {
        "colab": {
          "base_uri": "https://localhost:8080/"
        },
        "id": "T4i6XzkIwggz",
        "outputId": "7a774823-8759-49fe-8830-8ed2da8ca7ca"
      },
      "execution_count": null,
      "outputs": [
        {
          "output_type": "stream",
          "name": "stdout",
          "text": [
            "sample_data\n"
          ]
        }
      ]
    },
    {
      "cell_type": "code",
      "source": [
        "! pip install biopython\n",
        "# the document on Biopython can be found at: https://pypi.org/project/biopython/\n",
        "# we will use Biopython to fetch data from the NCBI GenBank database and PubMed database later"
      ],
      "metadata": {
        "colab": {
          "base_uri": "https://localhost:8080/"
        },
        "id": "1T0p5SHEwpXw",
        "outputId": "6e796f97-5b74-467c-c7fe-11809a5b1a74"
      },
      "execution_count": null,
      "outputs": [
        {
          "output_type": "stream",
          "name": "stdout",
          "text": [
            "Collecting biopython\n",
            "  Downloading biopython-1.83-cp310-cp310-manylinux_2_17_x86_64.manylinux2014_x86_64.whl (3.1 MB)\n",
            "\u001b[2K     \u001b[90m━━━━━━━━━━━━━━━━━━━━━━━━━━━━━━━━━━━━━━━━\u001b[0m \u001b[32m3.1/3.1 MB\u001b[0m \u001b[31m12.1 MB/s\u001b[0m eta \u001b[36m0:00:00\u001b[0m\n",
            "\u001b[?25hRequirement already satisfied: numpy in /usr/local/lib/python3.10/dist-packages (from biopython) (1.25.2)\n",
            "Installing collected packages: biopython\n",
            "Successfully installed biopython-1.83\n"
          ]
        }
      ]
    },
    {
      "cell_type": "markdown",
      "source": [
        "# Basic command line interaction with Python\n",
        "\n",
        "Python has a basic interactive function name \"input\" that pick the message from the command prompt as a string and stores it in the designated variable.\n",
        "\n",
        "A variables is a container to store data value. In Python, a variable is created at the moment you first assign a value to it. In a extreme case, you can store the None value to a variable, which means the value inside is null or nothing.\n",
        "\n",
        "The varaible name is case sensitive. For example, \"Name\" and \"name\" are two different variables.\n",
        "\n",
        "A value is assigned to a variable by using the \"=\" operator, which means to assign the value on the right to the variable on the left.\n",
        "\n",
        "We intriduce three basic types of Python: integer, float, string\n",
        "\n",
        "\n",
        "*   Integer -- a whole number that can be positive, negative, or zero.\n",
        "*   Float -- it is used to store positive and negative numbers with a decimal point\n",
        "*   Boolean -- booleans represent one of two values: True or False. However, True also means 1, so True+1 is equal to 2; similarly, False also means 0, so False-1 is equal to -1.\n",
        "*   String -- a string is traditionally a sequence of characters. Python does NOT the char type. A string is considered as a list of characters, but each character is still a string, NOT a char. String should be wrapped by single quotation marks or double quotation marks. In Python, single quotation marks and double quotation marks have the same syntatic meaning.\n",
        "\n",
        "Unlike other languages such as C++ and Java, we do not need to declare type when a variable is initiated."
      ],
      "metadata": {
        "id": "5Ze_l1H00UEG"
      }
    },
    {
      "cell_type": "code",
      "source": [
        "num_1 = 1000\n",
        "# assign 1000 to the variable num_1\n",
        "num_2 = 200.0\n",
        "input_text = input(\"enter some text:\")\n",
        "bool_1 = True\n",
        "bool_2 = False\n",
        "null_value = None\n",
        "\n",
        "# to print out some to the command prompt, we can use the print() function as shown below.\n",
        "# the text you want to print out should be wrapped by a pair of single / double quotation marks\n",
        "print(\"You entered:\", input_text)\n",
        "print(\"The type of num_1 is: \", type(num_1))\n",
        "print(\"The type of num_2 is: \", type(num_2))\n",
        "print(\"The types of bool_1 and bool_2 are: \", type(bool_1), type(bool_2))\n",
        "print(\"bool_1 + 1 = \", bool_1 + 1)\n",
        "print(\"bool_2 - 1 = \", bool_2 - 1)\n",
        "print(\"The type of null_value is: \", type(null_value))\n",
        "print(\"convert boolean to integer: \", int(bool_1), int(bool_2))\n",
        "# print(\"The value of null_value+1 is: \", null_value+1) # this will return an error"
      ],
      "metadata": {
        "colab": {
          "base_uri": "https://localhost:8080/"
        },
        "id": "GxsKVeMTy8O0",
        "outputId": "fc06dd68-9b91-43c0-96e3-f165b401bdf8"
      },
      "execution_count": null,
      "outputs": [
        {
          "output_type": "stream",
          "name": "stdout",
          "text": [
            "enter some text:hello nih\n",
            "You entered: hello nih\n",
            "The type of num_1 is:  <class 'int'>\n",
            "The type of num_2 is:  <class 'float'>\n",
            "The types of bool_1 and bool_2 are:  <class 'bool'> <class 'bool'>\n",
            "bool_1 + 1 =  2\n",
            "bool_2 - 1 =  -1\n",
            "The type of null_value is:  <class 'NoneType'>\n",
            "convert boolean to integer:  1 0\n"
          ]
        }
      ]
    },
    {
      "cell_type": "markdown",
      "source": [
        "The above example shows that Python can automatically recognize the type of the variable when a value is assigned to it.\n",
        "\n",
        "Note that if you want to assign an integer, like 1000, don't use the decimal point. 1000--> integer, 1000. --> float"
      ],
      "metadata": {
        "id": "HvGe0ymr1KVH"
      }
    },
    {
      "cell_type": "code",
      "source": [
        "num_1 = 1000\n",
        "num_2 = 1000.\n",
        "print(\"The type of num_1 is: \", type(num_1))\n",
        "print(\"The type of num_2 is: \", type(num_2))"
      ],
      "metadata": {
        "colab": {
          "base_uri": "https://localhost:8080/"
        },
        "id": "4P5ysjyp2nTX",
        "outputId": "069ed6ea-f4c7-4c40-c007-c641ce477f77"
      },
      "execution_count": null,
      "outputs": [
        {
          "output_type": "stream",
          "name": "stdout",
          "text": [
            "The type of num_1 is:  <class 'int'>\n",
            "The type of num_2 is:  <class 'float'>\n"
          ]
        }
      ]
    },
    {
      "cell_type": "code",
      "source": [
        "# numeric values can also be assigned by arithmetic operation\n",
        "num_1 = 1000 + 2000. # the value is an integer\n",
        "num_2 = 1000. + 2000.  # since 2000. is a float, the final value will be cast into float\n",
        "print(\"The value of num_1 is: \", num_1)\n",
        "print(\"The type of num_1 is: \", type(num_1))\n",
        "print(\"The value of num_2 is: \", num_2)\n",
        "print(\"The type of num_2 is: \", type(num_2))"
      ],
      "metadata": {
        "colab": {
          "base_uri": "https://localhost:8080/"
        },
        "id": "ZxdAgi7N3Fk7",
        "outputId": "4f5f42e5-2c9a-4d38-f1a6-6dde1a548be5"
      },
      "execution_count": null,
      "outputs": [
        {
          "output_type": "stream",
          "name": "stdout",
          "text": [
            "The value of num_1 is:  3000.0\n",
            "The type of num_1 is:  <class 'float'>\n",
            "The value of num_2 is:  3000.0\n",
            "The type of num_2 is:  <class 'float'>\n"
          ]
        }
      ]
    },
    {
      "cell_type": "markdown",
      "source": [
        "Unlike other strict-type languages such as C++ and Java, the Python variable type can be changed by assigning different values"
      ],
      "metadata": {
        "id": "bL3hO-9K3zue"
      }
    },
    {
      "cell_type": "code",
      "source": [
        "# we can use the \"variable_name: type\" notation to specify the type of the variable\n",
        "# but the variable type can still be converted by new assignment\n",
        "num_1: int = 1000\n",
        "print(type(num_1)) # as integer\n",
        "num_1: float = 1000.\n",
        "num_1 = 2000.\n",
        "print(type(num_1)) # as float\n",
        "num_1 = \"1000\"\n",
        "print(type(num_1)) # as string"
      ],
      "metadata": {
        "colab": {
          "base_uri": "https://localhost:8080/"
        },
        "id": "SMbwPG7I3gaQ",
        "outputId": "3267cafe-9437-4f08-f78f-a662210ee730"
      },
      "execution_count": null,
      "outputs": [
        {
          "output_type": "stream",
          "name": "stdout",
          "text": [
            "<class 'int'>\n",
            "<class 'float'>\n",
            "<class 'str'>\n"
          ]
        }
      ]
    },
    {
      "cell_type": "code",
      "source": [
        "word_1 = \"hello\"\n",
        "word_2 = \"world\"\n",
        "concated = word_1 + \" \" + word_2 # strings can be concatenated by +\n",
        "print(concated)\n",
        "print(\"length of the string:\",len(concated))\n",
        "# a string can be sliced by indices, the python convention is to include the first index but to exclude the last index\n",
        "# [0:5] means include the 1st index but skip the 6th index labeled by 5, so it turns out to slice from the 1st character through the 5th character\n",
        "first_word = word_1[0:5]\n",
        "print(first_word)\n",
        "print(type(first_word))\n",
        "\n",
        "# Python supports negative indices, -1 means the last character, -2 means the 2nd last character, ...\n",
        "last_char = word_1[-1]\n",
        "print(last_char)\n",
        "print(type(last_char))\n",
        "last_three_chars = word_1[-3:]\n",
        "print(last_three_chars)\n",
        "print(type(last_three_chars))"
      ],
      "metadata": {
        "colab": {
          "base_uri": "https://localhost:8080/"
        },
        "id": "kgaIb8Tv9_r2",
        "outputId": "350c04c7-cf0e-4ca0-97c0-75f9465ecb44"
      },
      "execution_count": null,
      "outputs": [
        {
          "output_type": "stream",
          "name": "stdout",
          "text": [
            "hello world\n",
            "length of the string: 11\n",
            "hello\n",
            "<class 'str'>\n",
            "o\n",
            "<class 'str'>\n",
            "llo\n",
            "<class 'str'>\n"
          ]
        }
      ]
    },
    {
      "cell_type": "markdown",
      "source": [
        "To add extra text to the string, we can use the '+=' operator, which means based on the exiting content, concatenate the new content on the right of the '+=' operator to the string"
      ],
      "metadata": {
        "id": "g75coIZfKKLh"
      }
    },
    {
      "cell_type": "code",
      "source": [
        "text = 'Hello'\n",
        "text += ' world!' # add the new content ' world!' to the original string\n",
        "print(text)"
      ],
      "metadata": {
        "colab": {
          "base_uri": "https://localhost:8080/"
        },
        "id": "rbp9WM3SJ-6T",
        "outputId": "ba631f91-1640-45eb-aef8-70c4b93385cf"
      },
      "execution_count": null,
      "outputs": [
        {
          "output_type": "stream",
          "name": "stdout",
          "text": [
            "Hello world!\n"
          ]
        }
      ]
    },
    {
      "cell_type": "markdown",
      "source": [
        "**String format**\n",
        "\n",
        "String format plays an important rule in python because it helps combine multiple results into a single readable text. We introduce two string format methods: str.format() and f-strings.\n",
        "\n",
        "\n",
        "*   The format() method formats the specified values and insert them inside the string's placeholder. The placeholder is defined using curly brackets: { }. The format() method finally returns the formatted string.\n",
        "*   f-strings is introduced in Python 3.6. It provides a concise and intuitive way to embed expressions and variables directly into strings. A f-string is initiated by the character 'f' and followed by the content wrapped by single / double quotations. Any embeded variable is wrapped by the curly brackets { }, and the f-string will automatically parse the value.\n",
        "\n"
      ],
      "metadata": {
        "id": "bfXCvnwCHt3V"
      }
    },
    {
      "cell_type": "code",
      "source": [
        "first_name = \"John\"\n",
        "last_name = \"Smith\"\n",
        "age = 30\n",
        "job = \"Research Scientist\"\n",
        "message1 = \"Hello, my name is {} {} at the age of {}. I am a {}.\".format(first_name, last_name, age, job)\n",
        "print(message1)\n",
        "\n",
        "# we can give more notations in the {} placehoders for details formats\n",
        "# the values will be parsed in order, since the name order is {1} {0}, the output will be last_name then first_name\n",
        "message2 = \"Hello, my name is {1} {0} at the age of {2}. I am a {3}.\".format(first_name, last_name, age, job)\n",
        "print(message2)\n",
        "\n",
        "# we can give more format information\n",
        "# we want the first two string to be 10-charater (using white space to fill the missing character)\n",
        "# we also want the percentage to be 2 decimals.\n",
        "yes_votes = 42_572_654\n",
        "no_votes = 43_132_495\n",
        "percentage = yes_votes / (yes_votes + no_votes)\n",
        "# \":-10,\" means the string holds 10-charater in space, and it uses comma \",\" as seperator\n",
        "message3 = '{0:-10,} YES votes and {1:-10,} NO votes, approval rate: {2:3.2%}'.format(yes_votes, no_votes, percentage)\n",
        "print(message3)"
      ],
      "metadata": {
        "colab": {
          "base_uri": "https://localhost:8080/"
        },
        "id": "CZUQzIymSMYc",
        "outputId": "fffa736b-3c41-4de9-b2f3-067f7399b9e3"
      },
      "execution_count": null,
      "outputs": [
        {
          "output_type": "stream",
          "name": "stdout",
          "text": [
            "Hello, my name is John Smith at the age of 30. I am a Research Scientist.\n",
            "Hello, my name is Smith John at the age of 30. I am a Research Scientist.\n",
            "42,572,654 YES votes and 43,132,495 NO votes, approval rate: 49.67%\n"
          ]
        }
      ]
    },
    {
      "cell_type": "markdown",
      "source": [
        "f-string is simpler than the .format() method. Its format is f'a string with some {value}' or f\"a string with some {value}\". Note that the single quotation mark is equivalent to the double quotation mark in Python, but in many programming languages like C, C++, Java, they are different. <p>"
      ],
      "metadata": {
        "id": "AXWlkFoBsgiX"
      }
    },
    {
      "cell_type": "code",
      "source": [
        "first_name = \"John\"\n",
        "last_name = \"Smith\"\n",
        "age = 30\n",
        "job = \"Research Scientist\"\n",
        "message1 = f\"Hello, my name is {first_name} {last_name} at the age of {age}. I am a {job}.\"\n",
        "print(message1)\n",
        "\n",
        "yes_votes = 42_572_654\n",
        "no_votes = 43_132_495\n",
        "percentage = yes_votes / (yes_votes + no_votes)\n",
        "message3 = f'{yes_votes:-10,} YES votes and {no_votes:-10,} NO votes, approval rate: {percentage:3.3%}'\n",
        "print(message3)\n"
      ],
      "metadata": {
        "colab": {
          "base_uri": "https://localhost:8080/"
        },
        "id": "7--Vd7KEtIfu",
        "outputId": "43aeb4af-e5ad-4472-8bd9-5b7657fb7ecf"
      },
      "execution_count": null,
      "outputs": [
        {
          "output_type": "stream",
          "name": "stdout",
          "text": [
            "Hello, my name is John Smith at the age of 30. I am a Research Scientist.\n",
            "42,572,654 YES votes and 43,132,495 NO votes, approval rate: 49.673%\n"
          ]
        }
      ]
    },
    {
      "cell_type": "markdown",
      "source": [
        "# Unicode in Python\n",
        "The ASCII codes to prepresent English language only has 128 code points, which is not enough for all human languages. To encode all the languages in the world, we introduce the Unicode to encode different characters in all languages. Unicode has 1,114,112 possible code points, that is $17\\times2^{16}-1$, or 0 to $0 \\times10FFFF$ (Heximal)\n",
        "\n",
        "The first 128 code points of Unicode are just ASCII, which makes it backward compatible. Unicode itself is NOT encoding, it is the map for code points. There are multiple encodings under Unicode, such as UTF-8, UTF-16, UTF-32, and more.\n",
        "\n",
        "Taking the advantage of Unicode, when we visit the webpages whose language is NOT English, like Japanese, Chinese, Russian, we can still see their letters because these pages declare they are using some encodings under Unicode (UTF-8 the most common) in their headers.\n",
        "\n",
        "In Python 3.X, it offers two representations for text data: strings and bytes. The encoding / decoding process in Python means the process of moving between these two representations.\n",
        "\n",
        "Python 3 defaults to Unicode and UTF-8. All strings are Unicode by default and can contain any Unicode character. Most Unicode is valid for identifiers but only English-like charaters are recommended. Some Unicode characters like the emojis are NOT acceptable by Python. The Regular expression module also defaults to Unicode, and the default string encoding str.encode() is UTF-8"
      ],
      "metadata": {
        "id": "mHc9WU11jXmq"
      }
    },
    {
      "cell_type": "code",
      "source": [
        "string_text = \"hello\" # single quotation mark and double quotation mark means the same in python\n",
        "encoded_text = string_text.encode(\"utf-8\")\n",
        "print(encoded_text) # it still looks 'normal' because 'hello' are English\n",
        "print(type(encoded_text))\n",
        "decoded_text = encoded_text.decode(\"utf-8\")\n",
        "print(decoded_text)\n",
        "print(type(decoded_text))"
      ],
      "metadata": {
        "colab": {
          "base_uri": "https://localhost:8080/"
        },
        "id": "WK4-12dSqfH8",
        "outputId": "6a4934d4-5211-4790-b780-79af31f365a4"
      },
      "execution_count": null,
      "outputs": [
        {
          "output_type": "stream",
          "name": "stdout",
          "text": [
            "b'hello'\n",
            "<class 'bytes'>\n",
            "hello\n",
            "<class 'str'>\n"
          ]
        }
      ]
    },
    {
      "cell_type": "code",
      "source": [
        "string_text = \"café\"\n",
        "print(string_text)\n",
        "encoded_text = string_text.encode(\"utf-8\")\n",
        "print(encoded_text) # the é cannot be encoded by ASCII because 'é' is not English, and UTF-8 uses heximal \"\\xc3\\xa9\" to encode 'é'\n",
        "print(type(encoded_text))\n",
        "decoded_text = encoded_text.decode(\"utf-8\")\n",
        "print(decoded_text)\n",
        "print(type(decoded_text))"
      ],
      "metadata": {
        "colab": {
          "base_uri": "https://localhost:8080/"
        },
        "id": "58Iu_vCErmeu",
        "outputId": "32ab0c06-32c5-42ec-d707-8f30f7cefb05"
      },
      "execution_count": null,
      "outputs": [
        {
          "output_type": "stream",
          "name": "stdout",
          "text": [
            "café\n",
            "b'caf\\xc3\\xa9'\n",
            "<class 'bytes'>\n",
            "café\n",
            "<class 'str'>\n"
          ]
        }
      ]
    },
    {
      "cell_type": "markdown",
      "source": [
        "# Mutable and Immutable type in Python\n",
        "The data types in Python are categorized into mutable and immutable data types. Mutable data type is those whose values can be changed, whereas immutable data type is one in which the values can't be changed.\n",
        "\n",
        "\n",
        "*   Mutable Type: List, Dictionary\n",
        "*   Immutable Type: integer, float, string, tuple\n",
        "\n",
        "We use the id() function to get the memory address IDs where the values are stored. We also use the 'is' operator to check if the address ID is identical.\n",
        "\n"
      ],
      "metadata": {
        "id": "xqb4E8dqw1MM"
      }
    },
    {
      "cell_type": "code",
      "source": [
        "integer_1 = 1000\n",
        "integer_2 = integer_1 # the memory ID is identical\n",
        "print(id(integer_1), id(integer_2))\n",
        "print(integer_1 is integer_2)\n",
        "\n",
        "integer_2 += 1000 # the integer value will be stored in a different address ID since string is immutable\n",
        "# += means to add the value on the right to the original value\n",
        "# it is a handy way for integer_2 = integer_2 + 1000\n",
        "print(integer_2)\n",
        "print(id(integer_1), id(integer_2)) # because basic types like integer, float, string is immutable, new value will be stored in different memory ID\n",
        "print(integer_1 is integer_2)"
      ],
      "metadata": {
        "colab": {
          "base_uri": "https://localhost:8080/"
        },
        "id": "OkH4EhO_20pE",
        "outputId": "cddf800e-d09a-4e83-e8e1-a0e5da03d1bc"
      },
      "execution_count": null,
      "outputs": [
        {
          "output_type": "stream",
          "name": "stdout",
          "text": [
            "138814339029072 138814339029072\n",
            "True\n",
            "2000\n",
            "138814339029072 138814339026352\n",
            "False\n"
          ]
        }
      ]
    },
    {
      "cell_type": "code",
      "source": [
        "float_1 = 1000.\n",
        "float_2 = float_1\n",
        "print(id(float_1), id(float_2))\n",
        "print(float_1 is float_2)\n",
        "float_2 *= 20. # the float value will be stored in a different address ID since string is immutable\n",
        "print(float_2)\n",
        "print(id(float_1), id(float_2))\n",
        "print(float_1 is float_2)"
      ],
      "metadata": {
        "colab": {
          "base_uri": "https://localhost:8080/"
        },
        "id": "Lq0W9iar7vwe",
        "outputId": "7538510d-7097-4706-c203-3381f6769ddd"
      },
      "execution_count": null,
      "outputs": [
        {
          "output_type": "stream",
          "name": "stdout",
          "text": [
            "134461699596848 134461699596848\n",
            "True\n",
            "20000.0\n",
            "134461699596848 134461699601008\n",
            "False\n"
          ]
        }
      ]
    },
    {
      "cell_type": "code",
      "source": [
        "string_text1 = \"café\"\n",
        "string_text2 = string_text1\n",
        "print(id(string_text1), id(string_text2))\n",
        "print(string_text1 is string_text2)\n",
        "string_text2 += \"teria\" # the string value will be stored in a different address ID since string is immutable\n",
        "print(string_text2)\n",
        "print(id(string_text1), id(string_text2))\n",
        "print(string_text1 is string_text2)"
      ],
      "metadata": {
        "colab": {
          "base_uri": "https://localhost:8080/"
        },
        "id": "_S0v1mkZxoO4",
        "outputId": "bfc69b84-c056-4646-ecbc-c0ed2df52913"
      },
      "execution_count": null,
      "outputs": [
        {
          "output_type": "stream",
          "name": "stdout",
          "text": [
            "138814338894464 138814338894464\n",
            "True\n",
            "caféteria\n",
            "138814338894464 138813726869616\n",
            "False\n"
          ]
        }
      ]
    },
    {
      "cell_type": "markdown",
      "source": [
        "There are **four** built-in types in Python to store collections of data:\n",
        "\n",
        "Tuple, List, Set, and Dictionary\n",
        "\n",
        "Tuples are used to store multiple items in a single variable. A tuple an immutable type to store a collection which is ordered and unchangeable. Tuple is good for returnig multiple values from a function because the order of the indices are unchangeable."
      ],
      "metadata": {
        "id": "Ly5Abm7E78UD"
      }
    },
    {
      "cell_type": "code",
      "source": [
        "tuple_1 = (1,2,3)\n",
        "tuple_2 = tuple_1\n",
        "print(tuple_1, tuple_2)\n",
        "print(id(tuple_1), id(tuple_2))\n",
        "print(tuple_1 is tuple_2)\n",
        "tuple_1 = (10,20,30)\n",
        "print(tuple_1)\n",
        "print(id(tuple_1), id(tuple_2))\n",
        "print(tuple_1 is tuple_2)\n",
        "first_element = tuple_1[0]\n",
        "second_element = tuple_1[1]\n",
        "print(first_element, second_element)"
      ],
      "metadata": {
        "colab": {
          "base_uri": "https://localhost:8080/"
        },
        "id": "L2ihUN2aw9Vp",
        "outputId": "b8061456-6ded-421c-d63a-178b22c9e256"
      },
      "execution_count": null,
      "outputs": [
        {
          "output_type": "stream",
          "name": "stdout",
          "text": [
            "(1, 2, 3) (1, 2, 3)\n",
            "138814339011072 138814339011072\n",
            "True\n",
            "(10, 20, 30)\n",
            "138813728822848 138814339011072\n",
            "False\n",
            "10 20\n"
          ]
        }
      ]
    },
    {
      "cell_type": "markdown",
      "source": [
        "**Use tuple to return multiple values from a function**\n",
        "\n",
        "The immutable property of tuple makes it good for returning multiple values from a function. <p>\n",
        "A function is a named section of a code that performs a specific task. A function typically takes some input, processes the inputs with the defined procedures, and returns one or multiple outputs. We will discuss functions soon the the 3rd week of this course. <p>\n",
        "For the demo, we define a function to take the full name of a person and return the first name and last name separately.\n"
      ],
      "metadata": {
        "id": "ATpzfWpH-lyp"
      }
    },
    {
      "cell_type": "code",
      "source": [
        "def name_split(full_name:str)->tuple:\n",
        "    '''\n",
        "    This function takes the full name of a person and return the first name and last name separately.\n",
        "    '''\n",
        "    first_name = full_name.split()[0]\n",
        "    last_name = full_name.split()[-1]\n",
        "    return first_name, last_name"
      ],
      "metadata": {
        "id": "U24GWnKGAylo"
      },
      "execution_count": null,
      "outputs": []
    },
    {
      "cell_type": "markdown",
      "source": [
        "The above function name_splite takes the full name of a person, splits the full name into first name and last name, and return the first name and the last name as a tuple. <p>\n",
        "Note that the \"->tumple\" is just a function annotation to improve the readability of the code. You can use \"name_split.__annotations__\" to check the function annotations"
      ],
      "metadata": {
        "id": "nMHnoYrYCu8n"
      }
    },
    {
      "cell_type": "code",
      "source": [
        "name_split.__annotations__"
      ],
      "metadata": {
        "colab": {
          "base_uri": "https://localhost:8080/"
        },
        "id": "E2tW-or9Ca9l",
        "outputId": "a37c4ba9-7b2e-406a-8fdf-abfab90635f6"
      },
      "execution_count": null,
      "outputs": [
        {
          "output_type": "execute_result",
          "data": {
            "text/plain": [
              "{'full_name': str, 'return': tuple}"
            ]
          },
          "metadata": {},
          "execution_count": 23
        }
      ]
    },
    {
      "cell_type": "code",
      "source": [
        "results = name_split(\"John Smith\")\n",
        "print(type(results)) # the type of the function returns\n",
        "first_name, last_name = results # parse the tuple into first name and last name\n",
        "print(first_name, last_name)"
      ],
      "metadata": {
        "colab": {
          "base_uri": "https://localhost:8080/"
        },
        "id": "8bvW9KcU6jFq",
        "outputId": "82cb7850-0d9e-44dd-f7ce-25bfd3ae2e17"
      },
      "execution_count": null,
      "outputs": [
        {
          "output_type": "stream",
          "name": "stdout",
          "text": [
            "<class 'tuple'>\n",
            "John Smith\n"
          ]
        }
      ]
    },
    {
      "cell_type": "markdown",
      "source": [
        "A tuple can also hold values of different types."
      ],
      "metadata": {
        "id": "uq1zh8wfEUrq"
      }
    },
    {
      "cell_type": "code",
      "source": [
        "def name_merge_count(first_name:str, last_name:str)->tuple:\n",
        "    '''\n",
        "    This function takes the first name and last name of a person and return the full name and the number of characters in the full name.\n",
        "    '''\n",
        "    full_name = first_name + \" \" + last_name\n",
        "    return full_name, len(full_name)"
      ],
      "metadata": {
        "id": "BMpuuw8FEY_e"
      },
      "execution_count": null,
      "outputs": []
    },
    {
      "cell_type": "code",
      "source": [
        "results = name_merge_count(\"John\", \"Smith\")\n",
        "print(type(results))\n",
        "full_name, number_of_characters = results\n",
        "print(f'type: {type(full_name)}, value: {full_name}')\n",
        "print(f'type: {type(number_of_characters)}, value: {number_of_characters}')"
      ],
      "metadata": {
        "colab": {
          "base_uri": "https://localhost:8080/"
        },
        "id": "xPK3RzMGEi3y",
        "outputId": "1de3bad1-b405-4054-8548-3ce9bf22b83c"
      },
      "execution_count": null,
      "outputs": [
        {
          "output_type": "stream",
          "name": "stdout",
          "text": [
            "<class 'tuple'>\n",
            "type: <class 'str'>, value: John Smith\n",
            "type: <class 'int'>, value: 10\n"
          ]
        }
      ]
    },
    {
      "cell_type": "markdown",
      "source": [
        "Since tuple is immutable, we can not add new elements to an existing tumple. This immutable property is good for tuple as the returned data structure for a function, because we don't want any accidentally changes of the results return from a function. (If we need to change them, we should change them outside the function.)"
      ],
      "metadata": {
        "id": "RXBhOyRAMldP"
      }
    },
    {
      "cell_type": "markdown",
      "source": [
        "\n",
        "A list is a data structure in Python that is a mutable, or changeable, ordered sequence of elements. Each element or value that is inside of a list is called an item."
      ],
      "metadata": {
        "id": "DrnvKICC9pNB"
      }
    },
    {
      "cell_type": "code",
      "source": [
        "list_1 = [1,2,3]\n",
        "list_2 = list_1 # just assign the memory ID of list_1 to list_2\n",
        "print(list_1, list_2)\n",
        "print(id(list_1), id(list_2))\n",
        "print(f'Is list 1 and list 2 stay in the identical memory ID: {list_1 is list_2}')\n",
        "list_1[0] = 1000\n",
        "# because list_1 and list_2 use the identical memory address ID, the value change for list_1 also affects list_2\n",
        "print(list_1, list_2)\n",
        "print(f'Is list 1 and list 2 stay in the identical memory ID: {list_1 is list_2}')"
      ],
      "metadata": {
        "colab": {
          "base_uri": "https://localhost:8080/"
        },
        "id": "76iigDKAxY-D",
        "outputId": "9791738e-9edf-4a2d-f5d4-be99d8d3119b"
      },
      "execution_count": null,
      "outputs": [
        {
          "output_type": "stream",
          "name": "stdout",
          "text": [
            "[1, 2, 3] [1, 2, 3]\n",
            "138814339100672 138814339100672\n",
            "Is list 1 and list 2 stay in the identical memory ID: True\n",
            "[1000, 2, 3] [1000, 2, 3]\n",
            "Is list 1 and list 2 stay in the identical memory ID: True\n"
          ]
        }
      ]
    },
    {
      "cell_type": "code",
      "source": [
        "# the above example tells us if we want to copy the data from a list, don't assign it to a new name.\n",
        "# you need to create a copy of the list\n",
        "list_copy = list_1.copy()\n",
        "print(list_copy)\n",
        "print(id(list_1), id(list_copy))\n",
        "print(f'Is list 1 and list 2 stay in the identical memory ID: {list_1 is list_copy}')"
      ],
      "metadata": {
        "colab": {
          "base_uri": "https://localhost:8080/"
        },
        "id": "T3S3t9IPNS4f",
        "outputId": "d4d3149b-43eb-4724-86e6-e8b289d33508"
      },
      "execution_count": null,
      "outputs": [
        {
          "output_type": "stream",
          "name": "stdout",
          "text": [
            "[1000, 2, 3]\n",
            "138814339100672 138813727196800\n",
            "Is list 1 and list 2 stay in the identical memory ID: False\n"
          ]
        }
      ]
    },
    {
      "cell_type": "markdown",
      "source": [
        "Slice a list - the list can be sliced by indices"
      ],
      "metadata": {
        "id": "NCBP29L8-S0w"
      }
    },
    {
      "cell_type": "code",
      "source": [
        "fruit_list = [\"apple\", \"banana\", \"cherry\", \"kiwi\", \"mango\"]\n",
        "# get the first 2 items from the fruit_list\n",
        "first_two_items = fruit_list[:2] # we can skip 0 if we slice from the beginning\n",
        "print(first_two_items)\n",
        "# get the last 2 items from the fruit_list\n",
        "last_two_items = fruit_list[-2:]\n",
        "print(last_two_items)\n",
        "\n",
        "# Note that the new slices are stored in different memory address IDs\n",
        "print(id(fruit_list), id(first_two_items), id(last_two_items))\n",
        "print(f'Do the fruit list and the 1st sliced list stay in the identical memory ID: {fruit_list is first_two_items}')\n",
        "print(f'Do the fruit list and the 2nd sliced list stay in the identical memory ID: {first_two_items is last_two_items}')"
      ],
      "metadata": {
        "colab": {
          "base_uri": "https://localhost:8080/"
        },
        "id": "bXQMKoJa-Zrq",
        "outputId": "3bc70f75-65bb-40d9-b0da-9064f77c8d39"
      },
      "execution_count": null,
      "outputs": [
        {
          "output_type": "stream",
          "name": "stdout",
          "text": [
            "['apple', 'banana']\n",
            "['kiwi', 'mango']\n",
            "138813487801728 138813487568512 138813487575872\n",
            "Do the fruit list and the 1st sliced list stay in the identical memory ID: False\n",
            "Do the fruit list and the 2nd sliced list stay in the identical memory ID: False\n"
          ]
        }
      ]
    },
    {
      "cell_type": "markdown",
      "source": [
        "Add and remove an element from a list"
      ],
      "metadata": {
        "id": "nduLLarWNvAB"
      }
    },
    {
      "cell_type": "code",
      "source": [
        "fruit_list = [\"apple\", \"banana\", \"cherry\", \"kiwi\", \"mango\"]\n",
        "\n",
        "# to add a new element to the list, use the '+=' operator, or use the .append() method\n",
        "fruit_list += ['orange']\n",
        "print(fruit_list)\n",
        "fruit_list.append('pear')\n",
        "print(fruit_list)"
      ],
      "metadata": {
        "colab": {
          "base_uri": "https://localhost:8080/"
        },
        "id": "Z7vfh9TANy4w",
        "outputId": "4d489911-0e9e-4afe-b8ce-9f22a6d4a6ea"
      },
      "execution_count": null,
      "outputs": [
        {
          "output_type": "stream",
          "name": "stdout",
          "text": [
            "['apple', 'banana', 'cherry', 'kiwi', 'mango', 'orange']\n",
            "['apple', 'banana', 'cherry', 'kiwi', 'mango', 'orange', 'pear']\n"
          ]
        }
      ]
    },
    {
      "cell_type": "markdown",
      "source": [
        "Remove an element from a list"
      ],
      "metadata": {
        "id": "n1P5JBSbOC_C"
      }
    },
    {
      "cell_type": "code",
      "source": [
        "# the .pop() method will remove the last element from a list\n",
        "last_element = fruit_list.pop()\n",
        "print(last_element)\n",
        "print(fruit_list)"
      ],
      "metadata": {
        "colab": {
          "base_uri": "https://localhost:8080/"
        },
        "id": "GEdWSHSuOKTk",
        "outputId": "b215d2c8-e41c-4de9-d23e-0a709c1c966c"
      },
      "execution_count": null,
      "outputs": [
        {
          "output_type": "stream",
          "name": "stdout",
          "text": [
            "pear\n",
            "['apple', 'banana', 'cherry', 'kiwi', 'mango', 'orange']\n"
          ]
        }
      ]
    },
    {
      "cell_type": "code",
      "source": [
        "# the .remove() method can remove any known element from a list\n",
        "# to get the index of a known element in the list, use .index() method\n",
        "idx = fruit_list.index('banana')\n",
        "print(f'the index of banana: {idx}')\n",
        "\n",
        "# we can remove the element by its index\n",
        "fruit_list.remove(fruit_list[idx]) # we know the index of banana is stored in idx\n",
        "print(fruit_list)\n",
        "\n",
        "# we can also remove the element by value\n",
        "# we want to remove 'mango' from the list\n",
        "# unlike .pop(), the .remove() method does not return the removed element\n",
        "remove_element = fruit_list.remove('mango')\n",
        "print(fruit_list)\n",
        "print(remove_element)"
      ],
      "metadata": {
        "colab": {
          "base_uri": "https://localhost:8080/"
        },
        "id": "qYV72_mDPTK6",
        "outputId": "1e6bf6e0-6d29-4021-bb8b-6515bcc788db"
      },
      "execution_count": null,
      "outputs": [
        {
          "output_type": "stream",
          "name": "stdout",
          "text": [
            "the index of banana: 1\n",
            "['apple', 'cherry', 'kiwi', 'mango', 'orange']\n",
            "['apple', 'cherry', 'kiwi', 'orange']\n",
            "None\n"
          ]
        }
      ]
    },
    {
      "cell_type": "markdown",
      "source": [
        "List Comprehension\n",
        "\n",
        "List comprehension offers a shorter syntax when you want to create a new list based on the values of an existing list."
      ],
      "metadata": {
        "id": "ETesKc-M_SEQ"
      }
    },
    {
      "cell_type": "code",
      "source": [
        "fruits = [\"apple\", \"banana\", \"cherry\", \"kiwi\", \"mango\"]\n",
        "newlist = []\n",
        "\n",
        "for x in fruits:\n",
        "  # if the word contains the character 'a'\n",
        "  if \"a\" in x:\n",
        "    newlist.append(x)\n",
        "\n",
        "print(newlist)\n",
        "\n",
        "\n",
        "# the above code can be written in the list comprehension format\n",
        "\n",
        "fruits = [\"apple\", \"banana\", \"cherry\", \"kiwi\", \"mango\"]\n",
        "\n",
        "newlist = [x for x in fruits if \"a\" in x]\n",
        "\n",
        "print(newlist)"
      ],
      "metadata": {
        "colab": {
          "base_uri": "https://localhost:8080/"
        },
        "id": "3Om6K1EN_bC2",
        "outputId": "f5ca922b-b2db-43d8-81b5-ebc019c04c3b"
      },
      "execution_count": null,
      "outputs": [
        {
          "output_type": "stream",
          "name": "stdout",
          "text": [
            "['apple', 'banana', 'mango']\n",
            "['apple', 'banana', 'mango']\n"
          ]
        }
      ]
    },
    {
      "cell_type": "code",
      "source": [
        "# we can use the list comprehension syntax to do element-wise computation\n",
        "numbers = [1, 2, 3, 4, 5, 6, 7, 8, 9, 10]\n",
        "print(numbers)\n",
        "ten_times_numbers = [x*10 for x in numbers]\n",
        "print(ten_times_numbers)"
      ],
      "metadata": {
        "colab": {
          "base_uri": "https://localhost:8080/"
        },
        "id": "8SFGb6IN_wwV",
        "outputId": "3a1b0280-befa-40e8-9f39-3c0faa564e15"
      },
      "execution_count": null,
      "outputs": [
        {
          "output_type": "stream",
          "name": "stdout",
          "text": [
            "[1, 2, 3, 4, 5, 6, 7, 8, 9, 10]\n",
            "[10, 20, 30, 40, 50, 60, 70, 80, 90, 100]\n"
          ]
        }
      ]
    },
    {
      "cell_type": "markdown",
      "source": [
        "**Dictionary**, or dict for short, is used to store data in the form of key:value pairs. In Python, dictionary is defined as an object with the data type 'dict'. <p>\n",
        "Dictionary can be treated as a row in the excel spreadsheet with multiple properties. Given this property, dictionary can be treated as a series object with Pandas. We will further discuss Pandas later in Week 5"
      ],
      "metadata": {
        "id": "O7oKmxaj-LS4"
      }
    },
    {
      "cell_type": "code",
      "source": [
        "# To initiate a dictionary, we can the { } notation or the dict() method\n",
        "car_dict = {\n",
        "  \"brand\": \"Ford\",\n",
        "  \"model\": \"Mustang\",\n",
        "  \"year\": 1964\n",
        "}\n",
        "\n",
        "student_dict = dict(name = \"John\",\n",
        "                    age = 36,\n",
        "                    country = \"Norway\")\n",
        "\n",
        "print(car_dict, type(car_dict))\n",
        "print(student_dict, type(student_dict))"
      ],
      "metadata": {
        "colab": {
          "base_uri": "https://localhost:8080/"
        },
        "id": "C8DSZX0Eymsd",
        "outputId": "619f4c34-7cff-49d6-9c2f-72c7b68bd37e"
      },
      "execution_count": null,
      "outputs": [
        {
          "output_type": "stream",
          "name": "stdout",
          "text": [
            "{'brand': 'Ford', 'model': 'Mustang', 'year': 1964} <class 'dict'>\n",
            "{'name': 'John', 'age': 36, 'country': 'Norway'} <class 'dict'>\n"
          ]
        }
      ]
    },
    {
      "cell_type": "markdown",
      "source": [
        "**Access the values in the dictionary.**\n",
        "There are two methods to access the values of the dictionary:\n",
        "\n",
        "*   use the dict['key'] notation\n",
        "*   use the .get() method. In stead of return a NULL for a missing key, we can set a default value for the a missing key\n",
        "\n"
      ],
      "metadata": {
        "id": "p33W6QuDA2xB"
      }
    },
    {
      "cell_type": "code",
      "source": [
        "print(car_dict['brand'])\n",
        "print(car_dict.get('color','Missing'))\n",
        "\n",
        "print(student_dict.get('name', 'Missing'))\n",
        "print(student_dict.get('address', 'Missing'))\n"
      ],
      "metadata": {
        "colab": {
          "base_uri": "https://localhost:8080/"
        },
        "id": "BeJbBryp-t2A",
        "outputId": "42a1fb69-4d7e-49f8-f648-48fa4b0bda46"
      },
      "execution_count": null,
      "outputs": [
        {
          "output_type": "stream",
          "name": "stdout",
          "text": [
            "Ford\n",
            "Missing\n",
            "John\n",
            "Missing\n"
          ]
        }
      ]
    },
    {
      "cell_type": "markdown",
      "source": [
        "For dictionary, duplicates are not allowed."
      ],
      "metadata": {
        "id": "VvRQTXUjBkOq"
      }
    },
    {
      "cell_type": "code",
      "source": [
        "# Duplicate values will overwrite existing values\n",
        "car_dict = {\n",
        "  \"brand\": \"Toyota\",\n",
        "  \"model\": \"Corolla\",\n",
        "  \"year\": 1966,\n",
        "}\n",
        "\n",
        "print(car_dict)"
      ],
      "metadata": {
        "colab": {
          "base_uri": "https://localhost:8080/"
        },
        "id": "RHQBpVSG-uA2",
        "outputId": "6be587cc-4e19-44e6-f485-c91998f3ff69"
      },
      "execution_count": null,
      "outputs": [
        {
          "output_type": "stream",
          "name": "stdout",
          "text": [
            "{'brand': 'Toyota', 'model': 'Corolla', 'year': 1966}\n"
          ]
        }
      ]
    },
    {
      "cell_type": "markdown",
      "source": [
        "The length of a dictionary can be output by the len() function like the list. However, the length of a dictionary can be interpretted as how many columns a speadsheet has."
      ],
      "metadata": {
        "id": "_EipktHPKYdR"
      }
    },
    {
      "cell_type": "code",
      "source": [
        "print(len(car_dict))\n",
        "print(len(student_dict))"
      ],
      "metadata": {
        "colab": {
          "base_uri": "https://localhost:8080/"
        },
        "id": "G3s36KU8KuSM",
        "outputId": "70b00363-e330-4509-a2ed-56e6533c4b51"
      },
      "execution_count": null,
      "outputs": [
        {
          "output_type": "stream",
          "name": "stdout",
          "text": [
            "3\n",
            "3\n"
          ]
        }
      ]
    },
    {
      "cell_type": "markdown",
      "source": [
        "\n",
        "\n",
        "*   To get all the keys of a dictionary, use the .keys() method\n",
        "*   To get all values of a dictionary, use the .values() method\n",
        "\n"
      ],
      "metadata": {
        "id": "Ee1qPa27L0lO"
      }
    },
    {
      "cell_type": "code",
      "source": [
        "print(car_dict.keys())\n",
        "print(car_dict.values())"
      ],
      "metadata": {
        "colab": {
          "base_uri": "https://localhost:8080/"
        },
        "id": "ZteCMw6wK4Ou",
        "outputId": "7853e19f-a352-40b8-e9bc-465575720996"
      },
      "execution_count": null,
      "outputs": [
        {
          "output_type": "stream",
          "name": "stdout",
          "text": [
            "dict_keys(['brand', 'model', 'year'])\n",
            "dict_values(['Toyota', 'Corolla', 1966])\n"
          ]
        }
      ]
    },
    {
      "cell_type": "markdown",
      "source": [
        "The values of a dictionary can hold more than one value, you can consider this as multiple rows in a spreadsheet."
      ],
      "metadata": {
        "id": "OCxJt7GEMal7"
      }
    },
    {
      "cell_type": "code",
      "source": [
        "car_dict = {\n",
        "  \"brand\": [\"Ford\", \"Toyota\"],\n",
        "  \"model\": [\"Mustang\", \"Corolla\"],\n",
        "  \"year\": [1964, 1966],\n",
        "}"
      ],
      "metadata": {
        "id": "Uhmqy2jsMmjD"
      },
      "execution_count": null,
      "outputs": []
    },
    {
      "cell_type": "markdown",
      "source": [
        "The .setdefault() method ensure the set a default value for the return of a missing key-value. <P>\n",
        "For example, if we want to get the 'MPG' value from the car_dict, but it does not exist, we want the return value is 'Missing'"
      ],
      "metadata": {
        "id": "0zqxFkwHNivH"
      }
    },
    {
      "cell_type": "code",
      "source": [
        "car_dict.setdefault('MPG', \"Missing\")\n",
        "\n",
        "# we know that the car_dict has a key 'brand', the .setdefault() method will NOT change the values of the key\n",
        "car_dict.setdefault('brand', \"Missing\")\n",
        "\n",
        "print(car_dict)"
      ],
      "metadata": {
        "colab": {
          "base_uri": "https://localhost:8080/"
        },
        "id": "Iryl7fwrM-26",
        "outputId": "e6b8a15d-9be4-4348-b032-843e8d0dcfa5"
      },
      "execution_count": null,
      "outputs": [
        {
          "output_type": "stream",
          "name": "stdout",
          "text": [
            "{'brand': ['Ford', 'Toyota'], 'model': ['Mustang', 'Corolla'], 'year': [1964, 1966], 'MPG': 'Missing'}\n"
          ]
        }
      ]
    },
    {
      "cell_type": "markdown",
      "source": [
        "Remove items in dictionary\n",
        "\n",
        "\n",
        "*   pop()\n",
        "*   popitem()\n",
        "\n"
      ],
      "metadata": {
        "id": "JlhpN3hkQvxX"
      }
    },
    {
      "cell_type": "code",
      "source": [
        "# remove a key-value paire from the dictionary\n",
        "mpg = car_dict.pop('MPG')\n",
        "print(car_dict)\n",
        "print(mpg)\n",
        "\n",
        "# popitem can only remove the last item from the dictionary\n",
        "item = car_dict.popitem() # return as a tuple of key and value\n",
        "print(car_dict)\n",
        "print(item)"
      ],
      "metadata": {
        "colab": {
          "base_uri": "https://localhost:8080/"
        },
        "id": "pZjgL2eSQ3hh",
        "outputId": "b7c48646-3bf4-4f80-a94a-9cbc3911084c"
      },
      "execution_count": null,
      "outputs": [
        {
          "output_type": "stream",
          "name": "stdout",
          "text": [
            "{'brand': ['Ford', 'Toyota'], 'model': ['Mustang', 'Corolla'], 'year': [1964, 1966]}\n",
            "Missing\n",
            "{'brand': ['Ford', 'Toyota'], 'model': ['Mustang', 'Corolla']}\n",
            "('year', [1964, 1966])\n"
          ]
        }
      ]
    },
    {
      "cell_type": "markdown",
      "source": [
        "Dictionary is also a mutable type. To prevent accidental value change, dictionary has the copy() method to make a copy of the data to another memory ID."
      ],
      "metadata": {
        "id": "m4xerzTnSms0"
      }
    },
    {
      "cell_type": "code",
      "source": [
        "car_dict = {\n",
        "  \"brand\": [\"Ford\", \"Toyota\"],\n",
        "  \"model\": [\"Mustang\", \"Corolla\"],\n",
        "  \"year\": [1964, 1966],\n",
        "}\n",
        "\n",
        "car_copy = car_dict.copy()\n",
        "car_dict2 = car_dict\n",
        "car_dict['brand'] = 'Honda'\n",
        "\n",
        "print(f'if car_copy and car_dict share identical memory ID: {car_dict is car_copy}')\n",
        "print(f'if car_dict and car_dict2 share identical memory ID: {car_dict is car_dict2}')\n",
        "print(id(car_dict), id(car_copy), id(car_dict2))\n",
        "print(car_dict)\n",
        "\n",
        "# because the copy dict is stored in a different memory ID, the accidental value change does not affect the copy\n",
        "# this method is effective the provide the raw data. It is a good habit to make a copy of the raw data, then only use the copy data for transformation and further processing\n",
        "print(car_copy)\n",
        "print(car_dict2)"
      ],
      "metadata": {
        "colab": {
          "base_uri": "https://localhost:8080/"
        },
        "id": "exDLYaW1RRrX",
        "outputId": "257e0980-4694-4209-f059-a4fcc1630e04"
      },
      "execution_count": null,
      "outputs": [
        {
          "output_type": "stream",
          "name": "stdout",
          "text": [
            "if car_copy and car_dict share identical memory ID: False\n",
            "if car_dict and car_dict2 share identical memory ID: True\n",
            "138813487632000 138813487632640 138813487632000\n",
            "{'brand': 'Honda', 'model': ['Mustang', 'Corolla'], 'year': [1964, 1966]}\n",
            "{'brand': ['Ford', 'Toyota'], 'model': ['Mustang', 'Corolla'], 'year': [1964, 1966]}\n",
            "{'brand': 'Honda', 'model': ['Mustang', 'Corolla'], 'year': [1964, 1966]}\n"
          ]
        }
      ]
    },
    {
      "cell_type": "markdown",
      "source": [
        "You can initiate a dictionary with keys only. This is good for setting up a spreadsheet and fill the data later."
      ],
      "metadata": {
        "id": "Y5TXPsz7US3s"
      }
    },
    {
      "cell_type": "code",
      "source": [
        "keys = ['brand', 'model', 'year']\n",
        "brands = ['Ford', 'Toyota', 'Chevrolet']\n",
        "models = ['Mustang', 'Corolla', 'Camaro']\n",
        "years = [1964, 1966, 1966]\n",
        "\n",
        "car_dict = dict.fromkeys(keys)\n",
        "print(car_dict)\n",
        "\n",
        "# fill the data\n",
        "car_dict['brand'] = brands\n",
        "car_dict['model'] = models\n",
        "car_dict['year'] = years\n",
        "print(car_dict)"
      ],
      "metadata": {
        "colab": {
          "base_uri": "https://localhost:8080/"
        },
        "id": "wfXrsl6eUfjg",
        "outputId": "c7f2a94f-b6b2-4d05-96cb-e902ed7f91bc"
      },
      "execution_count": null,
      "outputs": [
        {
          "output_type": "stream",
          "name": "stdout",
          "text": [
            "{'brand': None, 'model': None, 'year': None}\n",
            "{'brand': ['Ford', 'Toyota', 'Chevrolet'], 'model': ['Mustang', 'Corolla', 'Camaro'], 'year': [1964, 1966, 1966]}\n"
          ]
        }
      ]
    },
    {
      "cell_type": "markdown",
      "source": [
        "To extend an existing dictionary, use the .update() method. An alternative way is to use the union operator '|' which can combined with the assignment operator '=' as '|=' <p>\n",
        "The list method is to directly assign the value to a new key using the dict['new_key'] = value syntax"
      ],
      "metadata": {
        "id": "3-nDWgggV9ck"
      }
    },
    {
      "cell_type": "code",
      "source": [
        "car_dict.update({'MPG': [18, 30, 20]}) # the input must be a dict\n",
        "print(car_dict)\n",
        "\n",
        "# if the new key-value is a dupliate, the .update() method will replace the old value with the new value\n",
        "car_dict.update({'brand': ['Honda', 'Nissan', 'Tesla']})\n",
        "print(car_dict)\n",
        "\n",
        "car_dict |= {'color': ['Blue', 'Silver', 'Yellow']}\n",
        "print(car_dict)\n",
        "\n",
        "# directly assign the value to a new key, note that if the key already exits, it will only update the value pointing to the key\n",
        "\n",
        "\n"
      ],
      "metadata": {
        "colab": {
          "base_uri": "https://localhost:8080/"
        },
        "id": "SlEgJF7KWC4O",
        "outputId": "50b37853-bcca-466d-b942-4fdc7d23b665"
      },
      "execution_count": null,
      "outputs": [
        {
          "output_type": "stream",
          "name": "stdout",
          "text": [
            "{'brand': ['Ford', 'Toyota', 'Chevrolet'], 'model': ['Mustang', 'Corolla', 'Camaro'], 'year': [1964, 1966, 1966], 'MPG': [18, 30, 20]}\n",
            "{'brand': ['Honda', 'Nissan', 'Tesla'], 'model': ['Mustang', 'Corolla', 'Camaro'], 'year': [1964, 1966, 1966], 'MPG': [18, 30, 20]}\n",
            "{'brand': ['Honda', 'Nissan', 'Tesla'], 'model': ['Mustang', 'Corolla', 'Camaro'], 'year': [1964, 1966, 1966], 'MPG': [18, 30, 20], 'color': ['Blue', 'Silver', 'Yellow']}\n"
          ]
        }
      ]
    },
    {
      "cell_type": "code",
      "source": [
        "import json\n",
        "json_object = json.dumps(car_dict)\n",
        "\n",
        "# write the data into a file - we will discuss file handling in Week 3\n",
        "with open('car_dict.json', 'w') as f:\n",
        "  f.write(json_object)"
      ],
      "metadata": {
        "id": "UvPlqfSLWhuh"
      },
      "execution_count": null,
      "outputs": []
    },
    {
      "cell_type": "markdown",
      "source": [
        "The last thing is to use .items() iterate through all the key-value pairs in the dictionary."
      ],
      "metadata": {
        "id": "4V1GssZxYGqJ"
      }
    },
    {
      "cell_type": "code",
      "source": [
        "for key, value in car_dict.items():\n",
        "  print(f'key: {key}, value: {value}')"
      ],
      "metadata": {
        "colab": {
          "base_uri": "https://localhost:8080/"
        },
        "id": "cYSso_FfYToa",
        "outputId": "fbbb2e10-b6e4-41bd-c78e-f23ba1c18785"
      },
      "execution_count": null,
      "outputs": [
        {
          "output_type": "stream",
          "name": "stdout",
          "text": [
            "key: brand, value: ['Honda', 'Nissan', 'Tesla']\n",
            "key: model, value: ['Mustang', 'Corolla', 'Camaro']\n",
            "key: year, value: [1964, 1966, 1966]\n",
            "key: MPG, value: [18, 30, 20]\n",
            "key: color, value: ['Blue', 'Silver', 'Yellow']\n"
          ]
        }
      ]
    },
    {
      "cell_type": "markdown",
      "source": [
        "If we want a row-based output like rows in a spreadsheet, we need to add more iterations syntax, which will be discussed in Week 2"
      ],
      "metadata": {
        "id": "eEW_KEV8YlQS"
      }
    },
    {
      "cell_type": "code",
      "source": [
        "keys = list(car_dict.keys()) # convert the dict key type to list in order to get the # of rows\n",
        "# assume no missing values\n",
        "\n",
        "rows = len(car_dict[keys[0]])\n",
        "\n",
        "\n",
        "for i in range(rows):\n",
        "  message = ''\n",
        "  for key in keys:\n",
        "    message += f'{key}: {car_dict[key][i]} - '\n",
        "  message = message[:-2]\n",
        "  print(message)"
      ],
      "metadata": {
        "colab": {
          "base_uri": "https://localhost:8080/"
        },
        "id": "GH04QswrYzQ-",
        "outputId": "40d5a42f-57ac-4ed8-b8a3-6087e8d39786"
      },
      "execution_count": null,
      "outputs": [
        {
          "output_type": "stream",
          "name": "stdout",
          "text": [
            "brand: Honda - model: Mustang - year: 1964 - MPG: 18 - color: Blue \n",
            "brand: Nissan - model: Corolla - year: 1966 - MPG: 30 - color: Silver \n",
            "brand: Tesla - model: Camaro - year: 1966 - MPG: 20 - color: Yellow \n"
          ]
        }
      ]
    },
    {
      "cell_type": "markdown",
      "source": [
        "**Set** is a the last Python built-in data types we introduce here to store collections of data. A set is a collection which is unordered, unchangable, and unindexed. <p>\n",
        "So set is simlar to tuple but it cannot has duplicate element, and it cannot be indexed either."
      ],
      "metadata": {
        "id": "G-nsKS4_C13e"
      }
    },
    {
      "cell_type": "code",
      "source": [
        "# the notation of a set is identical to a dictionary, i.e. using the curly brackets: { }.\n",
        "fruits = {\"apple\", \"banana\", \"cherry\", \"kiwi\", \"mango\"}\n",
        "print(f'type: {type(fruits)}')\n",
        "print(f'fruits: {fruits}') # the elements cannot be indexed\n",
        "\n"
      ],
      "metadata": {
        "colab": {
          "base_uri": "https://localhost:8080/"
        },
        "id": "kEfi3ZODFlay",
        "outputId": "c071d6fd-9a5a-4165-c95c-1e17a263f208"
      },
      "execution_count": null,
      "outputs": [
        {
          "output_type": "stream",
          "name": "stdout",
          "text": [
            "type: <class 'set'>\n",
            "fruits: {'mango', 'apple', 'kiwi', 'cherry', 'banana'}\n"
          ]
        }
      ]
    },
    {
      "cell_type": "markdown",
      "source": [
        "We can add or remove elements to a set, but we cannot define the order / index of the set"
      ],
      "metadata": {
        "id": "GtnehRRHGyKo"
      }
    },
    {
      "cell_type": "code",
      "source": [
        "removed_item = fruits.pop() # remove one element, we cannot say it is the first element, because set is unordered.\n",
        "print(f'after pop: {fruits}')\n",
        "print(f'the removed item: {removed_item}')\n",
        "\n",
        "fruits.remove(\"banana\") # remove a known element, no return the removed item\n",
        "print(f'after remove: {fruits}')\n",
        "\n",
        "fruits.add(\"orange\")\n",
        "print(fruits)\n",
        "\n",
        "# duplicate is NOT allowed, thus the set is unchangabled (no error)\n",
        "fruits.add(\"orange\")\n",
        "print(fruits)"
      ],
      "metadata": {
        "colab": {
          "base_uri": "https://localhost:8080/"
        },
        "id": "4XkMpXrEGZ8Q",
        "outputId": "b1b71f2d-e4d4-4a58-a32b-f82270dbd8ad"
      },
      "execution_count": null,
      "outputs": [
        {
          "output_type": "stream",
          "name": "stdout",
          "text": [
            "after pop: {'apple', 'kiwi', 'cherry', 'banana'}\n",
            "the removed item: mango\n",
            "after remove: {'apple', 'kiwi', 'cherry'}\n",
            "{'orange', 'apple', 'kiwi', 'cherry'}\n",
            "{'orange', 'apple', 'kiwi', 'cherry'}\n"
          ]
        }
      ]
    },
    {
      "cell_type": "markdown",
      "source": [
        "A set is good for NLP to extract words to build a vocabulary. A vocabulary is a table of uniques words from the given text material. In NLP, we use a vocabulary to count the frequency of words (or tokens) of the text we are to process. The set data structure is handy because we can only break the texts into words / tokens by the .split() method of string, then convert a list to set to remove the duplicates"
      ],
      "metadata": {
        "id": "x6L2PocsJFdz"
      }
    },
    {
      "cell_type": "code",
      "source": [
        "# We try to tokenize the famous speech of Hamlet by WILLIAM SHAKESPEARE\n",
        "# for long text, it is a good idea to use the triple quotation marks to quote several paragraphs\n",
        "# this is the comment style for prompt engineering for large language model (LLM) like ChatGPT\n",
        "text = '''\n",
        "To be, or not to be, that is the question:\n",
        "Whether 'tis nobler in the mind to suffer\n",
        "The slings and arrows of outrageous fortune,\n",
        "Or to take arms against a sea of troubles\n",
        "And by opposing end them. To die—to sleep,\n",
        "No more; and by a sleep to say we end\n",
        "The heart-ache and the thousand natural shocks\n",
        "That flesh is heir to: 'tis a consummation\n",
        "Devoutly to be wish'd. To die, to sleep;\n",
        "To sleep, perchance to dream—ay, there's the rub:\n",
        "For in that sleep of death what dreams may come,\n",
        "When we have shuffled off this mortal coil,\n",
        "Must give us pause—there's the respect\n",
        "That makes calamity of so long life.\n",
        "For who would bear the whips and scorns of time,\n",
        "Th'oppressor's wrong, the proud man's contumely,\n",
        "The pangs of dispriz'd love, the law's delay,\n",
        "The insolence of office, and the spurns\n",
        "That patient merit of th'unworthy takes,\n",
        "When he himself might his quietus make\n",
        "With a bare bodkin? Who would fardels bear,\n",
        "To grunt and sweat under a weary life,\n",
        "But that the dread of something after death,\n",
        "The undiscovere'd country, from whose bourn\n",
        "No traveller returns, puzzles the will,\n",
        "And makes us rather bear those ills we have\n",
        "Than fly to others that we know not of?\n",
        "Thus conscience doth make cowards of us all,\n",
        "And thus the native hue of resolution\n",
        "Is sicklied o'er with the pale cast of thought,\n",
        "And enterprises of great pith and moment\n",
        "With this regard their currents turn awry\n",
        "And lose the name of action.\n",
        "'''"
      ],
      "metadata": {
        "id": "9pRMEPtqGSsh"
      },
      "execution_count": null,
      "outputs": []
    },
    {
      "cell_type": "code",
      "source": [
        "# remove the non-alphabet characters from the text\n",
        "# Here we use a lambda function, we will dicuss it in Week 3\n",
        "import re\n",
        "plain_text = lambda text: re.sub(r'[^a-zA-Z\\s\\n\\.]', ' ', text)"
      ],
      "metadata": {
        "id": "YzfcKfa7Kuy6"
      },
      "execution_count": null,
      "outputs": []
    },
    {
      "cell_type": "code",
      "source": [
        "text = plain_text(text)"
      ],
      "metadata": {
        "id": "hSERZwyyLhhv"
      },
      "execution_count": null,
      "outputs": []
    },
    {
      "cell_type": "code",
      "source": [
        "# convert all to lower case to prevent duplicates\n",
        "text = text.lower()"
      ],
      "metadata": {
        "id": "rhZJ2xobLymE"
      },
      "execution_count": null,
      "outputs": []
    },
    {
      "cell_type": "code",
      "source": [
        "# we use the build-in .split() method of the string, to break the text into words by white space, the splitted words are also called tokens\n",
        "tokens = text.split()\n",
        "\n",
        "# use the set structure to remove duplicates in the list\n",
        "vocabulary = set(tokens)\n",
        "print(f'tokens size: {len(tokens)}')\n",
        "print(f'vocabulary size: {len(vocabulary)}')"
      ],
      "metadata": {
        "colab": {
          "base_uri": "https://localhost:8080/"
        },
        "id": "wZWZSQenOwku",
        "outputId": "64db3c3c-d500-4629-9251-fb905d77cee0"
      },
      "execution_count": null,
      "outputs": [
        {
          "output_type": "stream",
          "name": "stdout",
          "text": [
            "tokens size: 271\n",
            "vocabulary size: 162\n"
          ]
        }
      ]
    },
    {
      "cell_type": "code",
      "source": [
        "vocabulary"
      ],
      "metadata": {
        "colab": {
          "base_uri": "https://localhost:8080/"
        },
        "id": "fyss4T5vO1bc",
        "outputId": "a11991da-0648-4d10-f96a-a5a7fa73e2d9"
      },
      "execution_count": null,
      "outputs": [
        {
          "output_type": "execute_result",
          "data": {
            "text/plain": [
              "{'a',\n",
              " 'ache',\n",
              " 'action.',\n",
              " 'after',\n",
              " 'against',\n",
              " 'all',\n",
              " 'and',\n",
              " 'arms',\n",
              " 'arrows',\n",
              " 'awry',\n",
              " 'ay',\n",
              " 'bare',\n",
              " 'be',\n",
              " 'bear',\n",
              " 'bodkin',\n",
              " 'bourn',\n",
              " 'but',\n",
              " 'by',\n",
              " 'calamity',\n",
              " 'cast',\n",
              " 'coil',\n",
              " 'come',\n",
              " 'conscience',\n",
              " 'consummation',\n",
              " 'contumely',\n",
              " 'country',\n",
              " 'cowards',\n",
              " 'currents',\n",
              " 'd',\n",
              " 'd.',\n",
              " 'death',\n",
              " 'delay',\n",
              " 'devoutly',\n",
              " 'die',\n",
              " 'dispriz',\n",
              " 'doth',\n",
              " 'dread',\n",
              " 'dream',\n",
              " 'dreams',\n",
              " 'end',\n",
              " 'enterprises',\n",
              " 'er',\n",
              " 'fardels',\n",
              " 'flesh',\n",
              " 'fly',\n",
              " 'for',\n",
              " 'fortune',\n",
              " 'from',\n",
              " 'give',\n",
              " 'great',\n",
              " 'grunt',\n",
              " 'have',\n",
              " 'he',\n",
              " 'heart',\n",
              " 'heir',\n",
              " 'himself',\n",
              " 'his',\n",
              " 'hue',\n",
              " 'ills',\n",
              " 'in',\n",
              " 'insolence',\n",
              " 'is',\n",
              " 'know',\n",
              " 'law',\n",
              " 'life',\n",
              " 'life.',\n",
              " 'long',\n",
              " 'lose',\n",
              " 'love',\n",
              " 'make',\n",
              " 'makes',\n",
              " 'man',\n",
              " 'may',\n",
              " 'merit',\n",
              " 'might',\n",
              " 'mind',\n",
              " 'moment',\n",
              " 'more',\n",
              " 'mortal',\n",
              " 'must',\n",
              " 'name',\n",
              " 'native',\n",
              " 'natural',\n",
              " 'no',\n",
              " 'nobler',\n",
              " 'not',\n",
              " 'o',\n",
              " 'of',\n",
              " 'off',\n",
              " 'office',\n",
              " 'opposing',\n",
              " 'oppressor',\n",
              " 'or',\n",
              " 'others',\n",
              " 'outrageous',\n",
              " 'pale',\n",
              " 'pangs',\n",
              " 'patient',\n",
              " 'pause',\n",
              " 'perchance',\n",
              " 'pith',\n",
              " 'proud',\n",
              " 'puzzles',\n",
              " 'question',\n",
              " 'quietus',\n",
              " 'rather',\n",
              " 'regard',\n",
              " 'resolution',\n",
              " 'respect',\n",
              " 'returns',\n",
              " 'rub',\n",
              " 's',\n",
              " 'say',\n",
              " 'scorns',\n",
              " 'sea',\n",
              " 'shocks',\n",
              " 'shuffled',\n",
              " 'sicklied',\n",
              " 'sleep',\n",
              " 'slings',\n",
              " 'so',\n",
              " 'something',\n",
              " 'spurns',\n",
              " 'suffer',\n",
              " 'sweat',\n",
              " 'take',\n",
              " 'takes',\n",
              " 'th',\n",
              " 'than',\n",
              " 'that',\n",
              " 'the',\n",
              " 'their',\n",
              " 'them.',\n",
              " 'there',\n",
              " 'this',\n",
              " 'those',\n",
              " 'thought',\n",
              " 'thousand',\n",
              " 'thus',\n",
              " 'time',\n",
              " 'tis',\n",
              " 'to',\n",
              " 'traveller',\n",
              " 'troubles',\n",
              " 'turn',\n",
              " 'under',\n",
              " 'undiscovere',\n",
              " 'unworthy',\n",
              " 'us',\n",
              " 'we',\n",
              " 'weary',\n",
              " 'what',\n",
              " 'when',\n",
              " 'whether',\n",
              " 'whips',\n",
              " 'who',\n",
              " 'whose',\n",
              " 'will',\n",
              " 'wish',\n",
              " 'with',\n",
              " 'would',\n",
              " 'wrong'}"
            ]
          },
          "metadata": {},
          "execution_count": 107
        }
      ]
    }
  ]
}